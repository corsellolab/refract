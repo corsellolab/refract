{
 "cells": [
  {
   "cell_type": "markdown",
   "metadata": {},
   "source": [
    "# Create gene perturbtion responses"
   ]
  },
  {
   "cell_type": "code",
   "execution_count": 11,
   "metadata": {},
   "outputs": [],
   "source": [
    "import pandas as pd\n",
    "import pickle\n",
    "import os"
   ]
  },
  {
   "cell_type": "code",
   "execution_count": 12,
   "metadata": {},
   "outputs": [
    {
     "name": "stderr",
     "output_type": "stream",
     "text": [
      "/tmp/ipykernel_2249798/3878988169.py:2: DeprecationWarning: numpy.core.numeric is deprecated and has been renamed to numpy._core.numeric. The numpy._core namespace contains private NumPy internals and its use is discouraged, as NumPy internals can change without warning in any release. In practice, most real-world usage of numpy.core is to access functionality in the public NumPy API. If that is the case, use the public NumPy API. If not, you are using NumPy internals. If you would still like to access an internal attribute, use numpy._core.numeric._frombuffer.\n",
      "  df = pickle.load(open('/drive3/nphill22/projects/corsello_lab/20250525_manuscript/data/features/x-all.pkl', 'rb'))\n"
     ]
    }
   ],
   "source": [
    "# read pickle dataframe \n",
    "df = pickle.load(open('/drive3/nphill22/projects/corsello_lab/20250525_manuscript/data/features/x-all.pkl', 'rb'))"
   ]
  },
  {
   "cell_type": "code",
   "execution_count": 13,
   "metadata": {},
   "outputs": [],
   "source": [
    "# split out the XPR_ columns\n",
    "xpr_cols = [col for col in df.columns if 'XPR_' in col]\n",
    "xpr_df = df[xpr_cols]\n",
    "other_df = df.drop(xpr_cols, axis=1)"
   ]
  },
  {
   "cell_type": "code",
   "execution_count": 14,
   "metadata": {},
   "outputs": [],
   "source": [
    "# in xpr_df, just get columns where at lesat 10 values are less than -1, and at least 10 values are greater than -1\n",
    "sens_xpr_df = xpr_df.loc[:, (xpr_df.apply(lambda col: (col < -1).sum() >= 10) & (xpr_df.apply(lambda col: (col > -1).sum() >= 10)))]"
   ]
  },
  {
   "cell_type": "code",
   "execution_count": 15,
   "metadata": {},
   "outputs": [],
   "source": [
    "def create_response_df(depmap_id_val, col_val, name):\n",
    "    return pd.DataFrame({\n",
    "        \"depmap_id\": depmap_id_val,\n",
    "        \"broad_id\": name,\n",
    "        \"LFC\": col_val,\n",
    "        \"name\": name,\n",
    "        \"ccle_name\": depmap_id_val\n",
    "    })"
   ]
  },
  {
   "cell_type": "code",
   "execution_count": 17,
   "metadata": {},
   "outputs": [],
   "source": [
    "output_directory = \"/drive3/nphill22/projects/corsello_lab/20250525_manuscript/data/responses/full/genetic_ko\"\n",
    "\n",
    "depmap_ids = other_df.index.tolist()\n",
    "for col in sens_xpr_df.columns:\n",
    "    col_vals = sens_xpr_df[col].tolist()\n",
    "    name = col.split(\"_\")[1]\n",
    "    df = create_response_df(depmap_ids, col_vals, name)\n",
    "    df.to_csv(os.path.join(output_directory, f\"{name}.csv\"), index=False)"
   ]
  },
  {
   "cell_type": "code",
   "execution_count": 18,
   "metadata": {},
   "outputs": [],
   "source": [
    "# save the other_df as feature pickle\n",
    "other_df.to_pickle(\"/drive3/nphill22/projects/corsello_lab/20250525_manuscript/data/features/x-all-without-xpr.pkl\")"
   ]
  },
  {
   "cell_type": "code",
   "execution_count": null,
   "metadata": {},
   "outputs": [],
   "source": []
  }
 ],
 "metadata": {
  "kernelspec": {
   "display_name": "lab",
   "language": "python",
   "name": "python3"
  },
  "language_info": {
   "codemirror_mode": {
    "name": "ipython",
    "version": 3
   },
   "file_extension": ".py",
   "mimetype": "text/x-python",
   "name": "python",
   "nbconvert_exporter": "python",
   "pygments_lexer": "ipython3",
   "version": "3.11.10"
  }
 },
 "nbformat": 4,
 "nbformat_minor": 2
}
