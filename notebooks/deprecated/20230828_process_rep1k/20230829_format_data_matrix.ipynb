{
 "cells": [
  {
   "cell_type": "markdown",
   "metadata": {},
   "source": [
    "# Format the data matrix for the REP1k datasett"
   ]
  },
  {
   "cell_type": "code",
   "execution_count": 1,
   "metadata": {},
   "outputs": [],
   "source": [
    "import pandas as pd\n",
    "import numpy as np\n",
    "import os\n",
    "import sys\n",
    "from tqdm import tqdm"
   ]
  },
  {
   "cell_type": "code",
   "execution_count": 2,
   "metadata": {},
   "outputs": [],
   "source": [
    "df = pd.read_csv(\"../../../data/raw/rep-1m-public-tentative_v9-rep1m-data-matrix.csv\", index_col=0)\n",
    "cell_line_df = pd.read_csv(\"../../../data/raw/rep-1m-public-tentative_v9-rep1m-cell-line-meta-data.csv\")\n",
    "drug_df = pd.read_csv(\"../../../data/raw/rep-1m-public-tentative_v7-compound-dashboard-table.csv\")"
   ]
  },
  {
   "cell_type": "code",
   "execution_count": 3,
   "metadata": {},
   "outputs": [
    {
     "data": {
      "text/html": [
       "<div>\n",
       "<style scoped>\n",
       "    .dataframe tbody tr th:only-of-type {\n",
       "        vertical-align: middle;\n",
       "    }\n",
       "\n",
       "    .dataframe tbody tr th {\n",
       "        vertical-align: top;\n",
       "    }\n",
       "\n",
       "    .dataframe thead th {\n",
       "        text-align: right;\n",
       "    }\n",
       "</style>\n",
       "<table border=\"1\" class=\"dataframe\">\n",
       "  <thead>\n",
       "    <tr style=\"text-align: right;\">\n",
       "      <th></th>\n",
       "      <th>BroadID</th>\n",
       "      <th>ColumnName</th>\n",
       "      <th>Name</th>\n",
       "      <th>PearsonScore</th>\n",
       "      <th>BimodalityCoefficient</th>\n",
       "      <th>ModelType</th>\n",
       "      <th>TopBiomarker(s)</th>\n",
       "      <th>NumberOfSensitiveLines</th>\n",
       "      <th>Dose</th>\n",
       "      <th>ReplicateCorrelation</th>\n",
       "      <th>Target</th>\n",
       "      <th>DiseaseArea</th>\n",
       "      <th>ClinicalPhase</th>\n",
       "      <th>DrugType</th>\n",
       "      <th>MOA</th>\n",
       "    </tr>\n",
       "  </thead>\n",
       "  <tbody>\n",
       "    <tr>\n",
       "      <th>0</th>\n",
       "      <td>BRD-K70642949-001-03-7</td>\n",
       "      <td>BRD-K70642949-001-03-7::2.5::PREP051</td>\n",
       "      <td>GSK2334470</td>\n",
       "      <td>NaN</td>\n",
       "      <td>0.295389</td>\n",
       "      <td>NaN</td>\n",
       "      <td>NaN</td>\n",
       "      <td>10</td>\n",
       "      <td>2.5</td>\n",
       "      <td>0.43286</td>\n",
       "      <td>AURKA, AURKB, PDPK1</td>\n",
       "      <td>NaN</td>\n",
       "      <td>Preclinical</td>\n",
       "      <td>NaN</td>\n",
       "      <td>phosphoinositide dependent kinase inhibitor</td>\n",
       "    </tr>\n",
       "  </tbody>\n",
       "</table>\n",
       "</div>"
      ],
      "text/plain": [
       "                  BroadID                            ColumnName        Name  \\\n",
       "0  BRD-K70642949-001-03-7  BRD-K70642949-001-03-7::2.5::PREP051  GSK2334470   \n",
       "\n",
       "   PearsonScore  BimodalityCoefficient  ModelType  TopBiomarker(s)  \\\n",
       "0           NaN               0.295389        NaN              NaN   \n",
       "\n",
       "   NumberOfSensitiveLines  Dose  ReplicateCorrelation               Target  \\\n",
       "0                      10   2.5               0.43286  AURKA, AURKB, PDPK1   \n",
       "\n",
       "  DiseaseArea ClinicalPhase  DrugType  \\\n",
       "0         NaN   Preclinical       NaN   \n",
       "\n",
       "                                           MOA  \n",
       "0  phosphoinositide dependent kinase inhibitor  "
      ]
     },
     "execution_count": 3,
     "metadata": {},
     "output_type": "execute_result"
    }
   ],
   "source": [
    "drug_df.head(1)\n"
   ]
  },
  {
   "cell_type": "code",
   "execution_count": 4,
   "metadata": {},
   "outputs": [],
   "source": [
    "# melt df so value is \"LFC.cb\" and columns are \"row_name\" and \"ColumnName\"\n",
    "# use the index as row_name\n",
    "df_melt = pd.melt(df, var_name=[\"ColumnName\"], value_name=\"LFC.cb\", ignore_index=False)\n",
    "df_melt.reset_index(inplace=True)\n",
    "df_melt.rename(columns={\"index\": \"row_name\"}, inplace=True)"
   ]
  },
  {
   "cell_type": "code",
   "execution_count": 5,
   "metadata": {},
   "outputs": [],
   "source": [
    "cell_line_df = cell_line_df.loc[:, [\"ccle_name\", \"row_name\"]]\n",
    "drug_df = drug_df.loc[:, [\"ColumnName\", \"Name\", \"BroadID\"]]"
   ]
  },
  {
   "cell_type": "code",
   "execution_count": 6,
   "metadata": {},
   "outputs": [],
   "source": [
    "out = df_melt.merge(cell_line_df, how=\"left\")\n",
    "out = out.merge(drug_df, how=\"left\")"
   ]
  },
  {
   "cell_type": "code",
   "execution_count": 7,
   "metadata": {},
   "outputs": [
    {
     "name": "stdout",
     "output_type": "stream",
     "text": [
      "1082880\n",
      "1050221\n"
     ]
    }
   ],
   "source": [
    "print(len(out))\n",
    "out.dropna(inplace=True)\n",
    "print(len(out))"
   ]
  },
  {
   "cell_type": "code",
   "execution_count": 8,
   "metadata": {},
   "outputs": [],
   "source": [
    "out[\"pert_idose\"] = 2.5\n",
    "out[\"culture\"] = \"fake_culture\"\n",
    "out[\"pert_dose_unit\"] = \"uM\""
   ]
  },
  {
   "cell_type": "code",
   "execution_count": 9,
   "metadata": {},
   "outputs": [],
   "source": [
    "# rename columns\n",
    "out.rename(columns={\"Name\": \"pert_name\", \"BroadID\": \"pert_mfc_id\"}, inplace=True)"
   ]
  },
  {
   "cell_type": "code",
   "execution_count": 10,
   "metadata": {},
   "outputs": [],
   "source": [
    "out = out.loc[:, [\"LFC.cb\",\"ccle_name\",\"pert_name\",\"pert_idose\",\"pert_mfc_id\",\"culture\",\"pert_dose_unit\"]]"
   ]
  },
  {
   "cell_type": "code",
   "execution_count": 51,
   "metadata": {},
   "outputs": [
    {
     "name": "stderr",
     "output_type": "stream",
     "text": [
      "  0%|          | 0/1270 [00:00<?, ?it/s]"
     ]
    },
    {
     "name": "stderr",
     "output_type": "stream",
     "text": [
      "100%|██████████| 1270/1270 [00:58<00:00, 21.76it/s]\n"
     ]
    }
   ],
   "source": [
    "# save output for each invdividual drug\n",
    "for drug in tqdm(out.pert_name.unique()):\n",
    "    out_drug = out.loc[out.pert_name == drug, :]\n",
    "    drug_name = drug.replace(\" \", \"_\").replace(\"/\", \"_\").replace(\"(\", \"_\").replace(\")\", \"_\").replace(\",\", \"_\").replace(\"'\", \"_\").replace(\"+\", \"_\")\n",
    "    out_drug.to_csv(\n",
    "        \"../../../data/responses/{}.csv\".format(drug_name), index=False)"
   ]
  },
  {
   "cell_type": "markdown",
   "metadata": {},
   "source": [
    "# Example Command"
   ]
  },
  {
   "cell_type": "code",
   "execution_count": null,
   "metadata": {},
   "outputs": [],
   "source": [
    "python /scratch/users/nphill22/projects/corsello_lab/rep1k_analysis/refract/scripts/run_training.py --response_path /scratch/users/nphill22/projects/corsello_lab/rep1k_analysis/data/responses/mivebresib.csv --feature_path /scratch/users/nphill22/projects/corsello_lab/final_xgboost_model/data/pkl_depmap_public-22q1-305b_v24/x-all.pkl --output_dir /scratch/users/nphill22/projects/corsello_lab/rep1k_analysis/output"
   ]
  },
  {
   "cell_type": "markdown",
   "metadata": {},
   "source": [
    "# Scramble data for all drugs"
   ]
  },
  {
   "cell_type": "code",
   "execution_count": 22,
   "metadata": {},
   "outputs": [
    {
     "name": "stderr",
     "output_type": "stream",
     "text": [
      "  0%|          | 0/1270 [00:00<?, ?it/s]"
     ]
    },
    {
     "name": "stderr",
     "output_type": "stream",
     "text": [
      "100%|██████████| 1270/1270 [00:58<00:00, 21.63it/s]\n"
     ]
    }
   ],
   "source": [
    "# save output for each invdividual drug\n",
    "for drug in tqdm(out.pert_name.unique()):\n",
    "    out_drug = out.loc[out.pert_name == drug, :].copy()\n",
    "    # scramble the LFC.cb value\n",
    "    out_drug[\"LFC.cb\"] = np.random.permutation(out_drug[\"LFC.cb\"].values)\n",
    "    drug_name = drug.replace(\" \", \"_\").replace(\"/\", \"_\").replace(\"(\", \"_\").replace(\")\", \"_\").replace(\",\", \"_\").replace(\"'\", \"_\").replace(\"+\", \"_\")\n",
    "    out_drug.to_csv(\n",
    "        \"../../../data/scrambled_responses/{}.csv\".format(drug_name), index=False)"
   ]
  },
  {
   "cell_type": "code",
   "execution_count": null,
   "metadata": {},
   "outputs": [],
   "source": []
  }
 ],
 "metadata": {
  "kernelspec": {
   "display_name": "corlab",
   "language": "python",
   "name": "python3"
  },
  "language_info": {
   "codemirror_mode": {
    "name": "ipython",
    "version": 3
   },
   "file_extension": ".py",
   "mimetype": "text/x-python",
   "name": "python",
   "nbconvert_exporter": "python",
   "pygments_lexer": "ipython3",
   "version": "3.11.2"
  },
  "orig_nbformat": 4
 },
 "nbformat": 4,
 "nbformat_minor": 2
}
