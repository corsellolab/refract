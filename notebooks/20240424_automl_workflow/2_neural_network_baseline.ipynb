{
 "cells": [
  {
   "cell_type": "markdown",
   "metadata": {},
   "source": [
    "# Similar to the AutoML baseline, but use a NN"
   ]
  },
  {
   "cell_type": "code",
   "execution_count": 1,
   "metadata": {},
   "outputs": [],
   "source": [
    "import argparse\n",
    "import logging\n",
    "import os\n",
    "import pickle\n",
    "import sys\n",
    "\n",
    "import matplotlib.pyplot as plt\n",
    "import numpy as np\n",
    "import pandas as pd\n",
    "import shap\n",
    "import xgboost as xgb\n",
    "from sklearn.model_selection import KFold, StratifiedKFold"
   ]
  },
  {
   "cell_type": "code",
   "execution_count": 2,
   "metadata": {},
   "outputs": [],
   "source": [
    "%load_ext autoreload\n",
    "%autoreload 2"
   ]
  },
  {
   "cell_type": "code",
   "execution_count": 3,
   "metadata": {},
   "outputs": [],
   "source": [
    "sys.path.append(\"../..\")"
   ]
  },
  {
   "cell_type": "code",
   "execution_count": 4,
   "metadata": {},
   "outputs": [],
   "source": [
    "feature_path = \"/scratch/users/nphill22/projects/corsello_lab/20240313_prism_final_reruns/new_baseline/processed_data/x-all.pkl\"\n",
    "response_path = \"/scratch/users/nphill22/projects/corsello_lab/20240313_prism_final_reruns/data/features/responses/amg-232_2.5.csv\"\n",
    "output_dir = \"nn_test\""
   ]
  },
  {
   "cell_type": "code",
   "execution_count": 5,
   "metadata": {},
   "outputs": [],
   "source": [
    "logger = logging.getLogger(__name__)\n",
    "logging.basicConfig(level=\"INFO\")"
   ]
  },
  {
   "cell_type": "code",
   "execution_count": 6,
   "metadata": {},
   "outputs": [
    {
     "name": "stderr",
     "output_type": "stream",
     "text": [
      "INFO:__main__:Loading feature data...\n"
     ]
    }
   ],
   "source": [
    "# load data\n",
    "logger.info(\"Loading feature data...\")\n",
    "with open(feature_path, \"rb\") as f:\n",
    "    feature_df = pickle.load(f)\n",
    "feature_df.set_index(\"ccle_name\", inplace=True)\n",
    "feature_df.fillna(-1, inplace=True)\n"
   ]
  },
  {
   "cell_type": "code",
   "execution_count": 7,
   "metadata": {},
   "outputs": [
    {
     "name": "stderr",
     "output_type": "stream",
     "text": [
      "INFO:__main__:Loading response data...\n"
     ]
    }
   ],
   "source": [
    "logger.info(\"Loading response data...\")\n",
    "response_df = pd.read_csv(response_path)\n",
    "\n",
    "# only keep cell lines we have features for\n",
    "available_ccle_names = set(feature_df.index)\n",
    "response_df = response_df[response_df[\"ccle_name\"].isin(available_ccle_names)]\n",
    "\n",
    "# drop culture column\n",
    "response_df = response_df.drop(columns=[\"culture\"])\n",
    "# drop duplicates by ccle_name, keep first\n",
    "response_df = response_df.drop_duplicates(subset=[\"ccle_name\"], keep=\"first\")\n"
   ]
  },
  {
   "cell_type": "code",
   "execution_count": 8,
   "metadata": {},
   "outputs": [
    {
     "name": "stderr",
     "output_type": "stream",
     "text": [
      "INFO:__main__:Training fold 0\n"
     ]
    }
   ],
   "source": [
    "# START CV TRAIN\n",
    "skf = KFold(n_splits=4, shuffle=True, random_state=42)\n",
    "trainers = []\n",
    "for i, (train_index, test_index) in enumerate(skf.split(response_df)):\n",
    "    logger.info(f\"Training fold {i}\")\n",
    "    response_train = response_df.iloc[train_index, :].reset_index(drop=True).copy()\n",
    "    response_test = response_df.iloc[test_index, :].reset_index(drop=True).copy()\n",
    "    break"
   ]
  },
  {
   "cell_type": "code",
   "execution_count": 12,
   "metadata": {},
   "outputs": [],
   "source": [
    "from refract.trainers import *\n",
    "from sklearn.preprocessing import StandardScaler"
   ]
  },
  {
   "cell_type": "code",
   "execution_count": 13,
   "metadata": {},
   "outputs": [],
   "source": [
    "cell_line_col = \"ccle_name\"\n",
    "response_col = \"LFC.cb\"\n",
    "X_train_df = feature_df.loc[response_train[cell_line_col], :]\n",
    "X_test_df = feature_df.loc[response_test[cell_line_col], :]\n",
    "\n",
    "# drop all columns with zero stddev\n",
    "X_train_df = X_train_df.loc[:, X_train_df.std() != 0]\n",
    "\n",
    "# get X_train, X_test y_train, y_test\n",
    "X_train = X_train_df.values\n",
    "X_test = X_test_df.values\n",
    "y_train = response_train[response_col].values\n",
    "y_test = response_test[response_col].values\n",
    "\n",
    "# get top features\n",
    "top_features = get_n_correlated_features(y_train, X_train, X_train_df.columns, n=500)\n",
    "\n",
    "# filter features\n",
    "X_train_df = X_train_df.loc[:, top_features]\n",
    "X_test_df = X_test_df.loc[:, top_features]\n",
    "X_train = X_train_df.values\n",
    "X_test = X_test_df.values\n",
    "\n",
    "X_train, X_val, y_train, y_val = train_test_split(X_train, y_train, test_size=0.2, random_state=42)\n",
    "\n",
    "# scale the data\n",
    "scaler = StandardScaler()\n",
    "X_train = scaler.fit_transform(X_train)\n",
    "X_val = scaler.transform(X_val)\n",
    "X_test = scaler.transform(X_test)\n",
    "\n",
    "# to tensor\n",
    "X_train = torch.FloatTensor(X_train)\n",
    "X_val = torch.FloatTensor(X_val)\n",
    "y_train = torch.FloatTensor(y_train)\n",
    "y_val = torch.FloatTensor(y_val)\n",
    "X_test = torch.FloatTensor(X_test)\n",
    "y_test = torch.FloatTensor(y_test)\n",
    "\n",
    "# squeeze y\n",
    "y_train = y_train.squeeze()\n",
    "y_val = y_val.squeeze()\n",
    "y_test = y_test.squeeze()\n"
   ]
  },
  {
   "cell_type": "code",
   "execution_count": 14,
   "metadata": {},
   "outputs": [],
   "source": [
    "# get a dataset object\n",
    "train_dataset = torch.utils.data.TensorDataset(X_train, y_train)\n",
    "val_dataset = torch.utils.data.TensorDataset(X_val, y_val)\n",
    "test_dataset = torch.utils.data.TensorDataset(X_test, y_test)\n",
    "\n",
    "# get dataloaders\n",
    "train_loader = torch.utils.data.DataLoader(train_dataset, batch_size=32, shuffle=True)\n",
    "val_loader = torch.utils.data.DataLoader(val_dataset, batch_size=32, shuffle=False)\n",
    "test_loader = torch.utils.data.DataLoader(test_dataset, batch_size=32, shuffle=False)"
   ]
  },
  {
   "cell_type": "code",
   "execution_count": 15,
   "metadata": {},
   "outputs": [],
   "source": [
    "import torch\n",
    "import torch.nn as nn\n",
    "import torch.nn.functional as F\n",
    "\n",
    "def get_model(input_dim):\n",
    "    # Define a simple feedforward neural network structure\n",
    "    class FeedforwardNeuralNetwork(nn.Module):\n",
    "        def __init__(self, input_dim):\n",
    "            super(FeedforwardNeuralNetwork, self).__init__()\n",
    "            # Define three hidden layers and output layer\n",
    "            self.fc1 = nn.Linear(input_dim, 128)   # First hidden layer\n",
    "            self.fc2 = nn.Linear(128, 64)          # Second hidden layer\n",
    "            self.fc3 = nn.Linear(64, 32)           # Third hidden layer\n",
    "            self.fc4 = nn.Linear(32, 1)            # Output layer\n",
    "\n",
    "        def forward(self, x):\n",
    "            x = F.relu(self.fc1(x))  # Activation function for first layer\n",
    "            x = F.relu(self.fc2(x))  # Activation function for second layer\n",
    "            x = F.relu(self.fc3(x))  # Activation function for third layer\n",
    "            x = self.fc4(x)          # No activation for output layer, assuming regression task\n",
    "            return x\n",
    "\n",
    "    # Create the neural network model\n",
    "    model = FeedforwardNeuralNetwork(input_dim)\n",
    "    return model\n"
   ]
  },
  {
   "cell_type": "code",
   "execution_count": 21,
   "metadata": {},
   "outputs": [],
   "source": [
    "def train_model(model, train_dataloader, val_dataloader, num_epochs, patience):\n",
    "    # Assuming the loss function and optimizer are predefined globally or are parameters\n",
    "    criterion = nn.MSELoss()\n",
    "    optimizer = torch.optim.Adam(model.parameters(), lr=0.001)\n",
    "\n",
    "    # Device configuration\n",
    "    device = torch.device('cuda' if torch.cuda.is_available() else 'cpu')\n",
    "    model.to(device)\n",
    "\n",
    "    best_val_loss = float('inf')\n",
    "    patience_counter = 0\n",
    "\n",
    "    # Training loop\n",
    "    for epoch in range(num_epochs):\n",
    "        model.train()  # Set the model to training mode\n",
    "        train_loss = 0\n",
    "        for inputs, targets in train_dataloader:\n",
    "            inputs, targets = inputs.to(device), targets.to(device)\n",
    "\n",
    "            # Forward pass\n",
    "            outputs = model(inputs).squeeze()\n",
    "            loss = criterion(outputs, targets)\n",
    "\n",
    "            # Backward and optimize\n",
    "            optimizer.zero_grad()\n",
    "            loss.backward()\n",
    "            optimizer.step()\n",
    "\n",
    "            train_loss += loss.item() * inputs.size(0)\n",
    "\n",
    "        train_loss /= len(train_dataloader.dataset)\n",
    "\n",
    "        # Validation phase\n",
    "        model.eval()  # Set the model to evaluation mode\n",
    "        val_loss = 0\n",
    "        with torch.no_grad():\n",
    "            for inputs, targets in val_dataloader:\n",
    "                inputs, targets = inputs.to(device), targets.to(device)\n",
    "                outputs = model(inputs).squeeze()\n",
    "                loss = criterion(outputs, targets)\n",
    "                val_loss += loss.item() * inputs.size(0)\n",
    "\n",
    "        val_loss /= len(val_dataloader.dataset)\n",
    "\n",
    "        print(f'Epoch [{epoch+1}/{num_epochs}], Train Loss: {train_loss:.4f}, Val Loss: {val_loss:.4f}')\n",
    "\n",
    "        # Early stopping logic\n",
    "        if val_loss < best_val_loss:\n",
    "            best_val_loss = val_loss\n",
    "            patience_counter = 0\n",
    "            torch.save(model.state_dict(), 'best_model.pth')  # Save the best model\n",
    "        else:\n",
    "            patience_counter += 1\n",
    "\n",
    "        if patience_counter >= patience:\n",
    "            print(\"Early stopping triggered\")\n",
    "            break\n",
    "\n",
    "    # Load the best model back\n",
    "    model.load_state_dict(torch.load('best_model.pth'))\n",
    "\n",
    "# Example call to the training function:\n",
    "# train_model(model, train_loader, val_loader, num_epochs=50, patience=5)\n"
   ]
  },
  {
   "cell_type": "code",
   "execution_count": 42,
   "metadata": {},
   "outputs": [
    {
     "name": "stdout",
     "output_type": "stream",
     "text": [
      "Epoch [1/1000], Train Loss: 2.6956, Val Loss: 1.5840\n",
      "Epoch [2/1000], Train Loss: 0.9667, Val Loss: 1.2057\n",
      "Epoch [3/1000], Train Loss: 0.6054, Val Loss: 0.7462\n",
      "Epoch [4/1000], Train Loss: 0.4201, Val Loss: 0.7204\n",
      "Epoch [5/1000], Train Loss: 0.3477, Val Loss: 0.6983\n",
      "Epoch [6/1000], Train Loss: 0.2539, Val Loss: 0.6596\n",
      "Epoch [7/1000], Train Loss: 0.2155, Val Loss: 0.6666\n",
      "Epoch [8/1000], Train Loss: 0.1853, Val Loss: 0.6731\n",
      "Epoch [9/1000], Train Loss: 0.1537, Val Loss: 0.6809\n",
      "Epoch [10/1000], Train Loss: 0.1281, Val Loss: 0.6983\n",
      "Epoch [11/1000], Train Loss: 0.1054, Val Loss: 0.7350\n",
      "Early stopping triggered\n"
     ]
    }
   ],
   "source": [
    "model = get_model(X_train.shape[1])\n",
    "#train_model(model, train_loader, num_epochs=1000)\n",
    "train_model(model, train_loader, val_loader, num_epochs=1000, patience=5)"
   ]
  },
  {
   "cell_type": "code",
   "execution_count": 43,
   "metadata": {},
   "outputs": [],
   "source": [
    "train_preds = model(torch.FloatTensor(X_train)).detach().numpy().flatten()\n",
    "test_preds = model(torch.FloatTensor(X_test)).detach().numpy().flatten()"
   ]
  },
  {
   "cell_type": "code",
   "execution_count": 44,
   "metadata": {},
   "outputs": [
    {
     "data": {
      "text/plain": [
       "<matplotlib.collections.PathCollection at 0x7f3d3d4a33a0>"
      ]
     },
     "execution_count": 44,
     "metadata": {},
     "output_type": "execute_result"
    },
    {
     "data": {
      "image/png": "[encoded data removed]",
      "text/plain": [
       "<Figure size 640x480 with 1 Axes>"
      ]
     },
     "metadata": {},
     "output_type": "display_data"
    }
   ],
   "source": [
    "# scatterplot train_preds\n",
    "plt.scatter(y_train, train_preds)"
   ]
  },
  {
   "cell_type": "code",
   "execution_count": 45,
   "metadata": {},
   "outputs": [
    {
     "data": {
      "text/plain": [
       "<matplotlib.collections.PathCollection at 0x7f3d3d6b9c40>"
      ]
     },
     "execution_count": 45,
     "metadata": {},
     "output_type": "execute_result"
    },
    {
     "data": {
      "image/png": "[encoded data removed]",
      "text/plain": [
       "<Figure size 640x480 with 1 Axes>"
      ]
     },
     "metadata": {},
     "output_type": "display_data"
    }
   ],
   "source": [
    "# scatterplot test preds\n",
    "plt.scatter(y_test, test_preds)"
   ]
  },
  {
   "cell_type": "code",
   "execution_count": null,
   "metadata": {},
   "outputs": [],
   "source": []
  },
  {
   "cell_type": "code",
   "execution_count": null,
   "metadata": {},
   "outputs": [],
   "source": []
  },
  {
   "cell_type": "code",
   "execution_count": null,
   "metadata": {},
   "outputs": [],
   "source": []
  },
  {
   "cell_type": "markdown",
   "metadata": {},
   "source": [
    "# Try this as a standalone function"
   ]
  },
  {
   "cell_type": "code",
   "execution_count": 92,
   "metadata": {},
   "outputs": [],
   "source": [
    "from refract.trainers import NNTrainer"
   ]
  },
  {
   "cell_type": "code",
   "execution_count": 93,
   "metadata": {},
   "outputs": [
    {
     "name": "stderr",
     "output_type": "stream",
     "text": [
      "INFO:refract.trainers:Loading feature data...\n"
     ]
    }
   ],
   "source": [
    "# load data\n",
    "logger.info(\"Loading feature data...\")\n",
    "with open(feature_path, \"rb\") as f:\n",
    "    feature_df = pickle.load(f)\n",
    "feature_df.set_index(\"ccle_name\", inplace=True)\n",
    "feature_df.fillna(-1, inplace=True)"
   ]
  },
  {
   "cell_type": "code",
   "execution_count": 94,
   "metadata": {},
   "outputs": [
    {
     "name": "stderr",
     "output_type": "stream",
     "text": [
      "INFO:refract.trainers:Loading response data...\n"
     ]
    }
   ],
   "source": [
    "logger.info(\"Loading response data...\")\n",
    "response_df = pd.read_csv(response_path)\n",
    "\n",
    "# only keep cell lines we have features for\n",
    "available_ccle_names = set(feature_df.index)\n",
    "response_df = response_df[response_df[\"ccle_name\"].isin(available_ccle_names)]\n",
    "\n",
    "# drop culture column\n",
    "response_df = response_df.drop(columns=[\"culture\"])\n",
    "# drop duplicates by ccle_name, keep first\n",
    "response_df = response_df.drop_duplicates(subset=[\"ccle_name\"], keep=\"first\")\n"
   ]
  },
  {
   "cell_type": "code",
   "execution_count": 95,
   "metadata": {},
   "outputs": [
    {
     "name": "stderr",
     "output_type": "stream",
     "text": [
      "INFO:refract.trainers:Training fold 0\n"
     ]
    },
    {
     "name": "stdout",
     "output_type": "stream",
     "text": [
      "Epoch [1/100], Train Loss: 2.4679, Val Loss: 1.4929\n",
      "Epoch [2/100], Train Loss: 1.5174, Val Loss: 0.9331\n",
      "Epoch [3/100], Train Loss: 1.1381, Val Loss: 0.9032\n",
      "Epoch [4/100], Train Loss: 0.8046, Val Loss: 0.8269\n",
      "Epoch [5/100], Train Loss: 0.8233, Val Loss: 0.8421\n",
      "Epoch [6/100], Train Loss: 0.7787, Val Loss: 0.8836\n",
      "Epoch [7/100], Train Loss: 0.6936, Val Loss: 0.8043\n",
      "Epoch [8/100], Train Loss: 0.6687, Val Loss: 0.7180\n",
      "Epoch [9/100], Train Loss: 0.7625, Val Loss: 0.7666\n",
      "Epoch [10/100], Train Loss: 0.7570, Val Loss: 0.7177\n",
      "Epoch [11/100], Train Loss: 0.7477, Val Loss: 0.7246\n",
      "Epoch [12/100], Train Loss: 0.6659, Val Loss: 0.7465\n",
      "Epoch [13/100], Train Loss: 0.6579, Val Loss: 0.7756\n",
      "Epoch [14/100], Train Loss: 0.7478, Val Loss: 0.7171\n",
      "Epoch [15/100], Train Loss: 0.5589, Val Loss: 0.6606\n",
      "Epoch [16/100], Train Loss: 0.6278, Val Loss: 0.6415\n",
      "Epoch [17/100], Train Loss: 0.6002, Val Loss: 0.6439\n",
      "Epoch [18/100], Train Loss: 0.7231, Val Loss: 0.6912\n",
      "Epoch [19/100], Train Loss: 0.5823, Val Loss: 0.6862\n",
      "Epoch [20/100], Train Loss: 0.6775, Val Loss: 0.6942\n",
      "Epoch [21/100], Train Loss: 0.4872, Val Loss: 0.6532\n",
      "Early stopping triggered\n"
     ]
    },
    {
     "name": "stderr",
     "output_type": "stream",
     "text": [
      "INFO:refract.trainers:Training fold 1\n"
     ]
    },
    {
     "name": "stdout",
     "output_type": "stream",
     "text": [
      "Fold correlation: 0.6338952072832393\n",
      "Epoch [1/100], Train Loss: 2.3130, Val Loss: 1.3221\n",
      "Epoch [2/100], Train Loss: 1.3445, Val Loss: 0.9565\n",
      "Epoch [3/100], Train Loss: 1.1107, Val Loss: 0.8538\n",
      "Epoch [4/100], Train Loss: 0.8722, Val Loss: 0.7196\n",
      "Epoch [5/100], Train Loss: 1.0272, Val Loss: 0.8174\n",
      "Epoch [6/100], Train Loss: 0.9124, Val Loss: 0.7382\n",
      "Epoch [7/100], Train Loss: 0.6493, Val Loss: 0.6300\n",
      "Epoch [8/100], Train Loss: 0.7153, Val Loss: 0.7770\n",
      "Epoch [9/100], Train Loss: 0.7180, Val Loss: 0.7929\n",
      "Epoch [10/100], Train Loss: 0.6605, Val Loss: 0.7267\n",
      "Epoch [11/100], Train Loss: 0.6821, Val Loss: 0.6871\n",
      "Epoch [12/100], Train Loss: 0.6884, Val Loss: 0.6690\n",
      "Early stopping triggered\n"
     ]
    },
    {
     "name": "stderr",
     "output_type": "stream",
     "text": [
      "INFO:refract.trainers:Training fold 2\n"
     ]
    },
    {
     "name": "stdout",
     "output_type": "stream",
     "text": [
      "Fold correlation: 0.7594389719912019\n",
      "Epoch [1/100], Train Loss: 2.3243, Val Loss: 1.3415\n",
      "Epoch [2/100], Train Loss: 1.4188, Val Loss: 0.9327\n",
      "Epoch [3/100], Train Loss: 1.1347, Val Loss: 0.7204\n",
      "Epoch [4/100], Train Loss: 1.0058, Val Loss: 0.6639\n",
      "Epoch [5/100], Train Loss: 0.9269, Val Loss: 0.6930\n",
      "Epoch [6/100], Train Loss: 0.8806, Val Loss: 0.6546\n",
      "Epoch [7/100], Train Loss: 0.9179, Val Loss: 0.7243\n",
      "Epoch [8/100], Train Loss: 0.6862, Val Loss: 0.6488\n",
      "Epoch [9/100], Train Loss: 0.6304, Val Loss: 0.6237\n",
      "Epoch [10/100], Train Loss: 0.7283, Val Loss: 0.7191\n",
      "Epoch [11/100], Train Loss: 0.6664, Val Loss: 0.7211\n",
      "Epoch [12/100], Train Loss: 0.6128, Val Loss: 0.6407\n",
      "Epoch [13/100], Train Loss: 0.6597, Val Loss: 0.7240\n",
      "Epoch [14/100], Train Loss: 0.5947, Val Loss: 0.6550\n",
      "Early stopping triggered\n"
     ]
    },
    {
     "name": "stderr",
     "output_type": "stream",
     "text": [
      "INFO:refract.trainers:Training fold 3\n"
     ]
    },
    {
     "name": "stdout",
     "output_type": "stream",
     "text": [
      "Fold correlation: 0.6650916496020105\n",
      "Epoch [1/100], Train Loss: 2.7164, Val Loss: 2.1772\n",
      "Epoch [2/100], Train Loss: 1.5935, Val Loss: 0.8458\n",
      "Epoch [3/100], Train Loss: 1.1315, Val Loss: 0.9661\n",
      "Epoch [4/100], Train Loss: 0.9383, Val Loss: 0.7375\n",
      "Epoch [5/100], Train Loss: 0.9818, Val Loss: 0.8892\n",
      "Epoch [6/100], Train Loss: 0.7777, Val Loss: 0.6565\n",
      "Epoch [7/100], Train Loss: 0.7131, Val Loss: 0.9116\n",
      "Epoch [8/100], Train Loss: 0.7958, Val Loss: 0.8381\n",
      "Epoch [9/100], Train Loss: 0.7078, Val Loss: 0.6829\n",
      "Epoch [10/100], Train Loss: 0.6879, Val Loss: 0.7013\n",
      "Epoch [11/100], Train Loss: 0.7365, Val Loss: 0.8706\n",
      "Early stopping triggered\n"
     ]
    },
    {
     "name": "stderr",
     "output_type": "stream",
     "text": [
      "INFO:refract.trainers:Training fold 4\n"
     ]
    },
    {
     "name": "stdout",
     "output_type": "stream",
     "text": [
      "Fold correlation: 0.7037297748136498\n",
      "Epoch [1/100], Train Loss: 1.8563, Val Loss: 1.5391\n",
      "Epoch [2/100], Train Loss: 1.1687, Val Loss: 0.9485\n",
      "Epoch [3/100], Train Loss: 0.9966, Val Loss: 1.1190\n",
      "Epoch [4/100], Train Loss: 0.9670, Val Loss: 0.9135\n",
      "Epoch [5/100], Train Loss: 0.6955, Val Loss: 0.8195\n",
      "Epoch [6/100], Train Loss: 0.8021, Val Loss: 1.0417\n",
      "Epoch [7/100], Train Loss: 0.7298, Val Loss: 0.8741\n",
      "Epoch [8/100], Train Loss: 0.5962, Val Loss: 0.8979\n",
      "Epoch [9/100], Train Loss: 0.6767, Val Loss: 0.9299\n",
      "Epoch [10/100], Train Loss: 0.6312, Val Loss: 0.8202\n",
      "Early stopping triggered\n"
     ]
    },
    {
     "name": "stderr",
     "output_type": "stream",
     "text": [
      "INFO:refract.trainers:Training fold 5\n"
     ]
    },
    {
     "name": "stdout",
     "output_type": "stream",
     "text": [
      "Fold correlation: 0.7830934427963029\n",
      "Epoch [1/100], Train Loss: 2.0690, Val Loss: 1.1173\n",
      "Epoch [2/100], Train Loss: 1.1342, Val Loss: 0.7198\n",
      "Epoch [3/100], Train Loss: 0.8743, Val Loss: 0.6977\n",
      "Epoch [4/100], Train Loss: 1.0162, Val Loss: 0.6555\n",
      "Epoch [5/100], Train Loss: 0.8601, Val Loss: 0.6922\n",
      "Epoch [6/100], Train Loss: 0.8330, Val Loss: 0.6425\n",
      "Epoch [7/100], Train Loss: 0.6713, Val Loss: 0.6538\n",
      "Epoch [8/100], Train Loss: 0.6678, Val Loss: 0.7226\n",
      "Epoch [9/100], Train Loss: 0.7522, Val Loss: 0.6487\n",
      "Epoch [10/100], Train Loss: 0.6398, Val Loss: 0.7049\n",
      "Epoch [11/100], Train Loss: 0.7151, Val Loss: 0.6142\n",
      "Epoch [12/100], Train Loss: 0.6132, Val Loss: 0.6770\n",
      "Epoch [13/100], Train Loss: 0.6282, Val Loss: 0.6400\n",
      "Epoch [14/100], Train Loss: 0.6141, Val Loss: 0.7169\n",
      "Epoch [15/100], Train Loss: 0.5842, Val Loss: 0.6066\n",
      "Epoch [16/100], Train Loss: 0.4750, Val Loss: 0.6470\n",
      "Epoch [17/100], Train Loss: 0.5880, Val Loss: 0.6930\n",
      "Epoch [18/100], Train Loss: 0.5534, Val Loss: 0.7344\n",
      "Epoch [19/100], Train Loss: 0.5389, Val Loss: 0.6527\n",
      "Epoch [20/100], Train Loss: 0.5250, Val Loss: 0.8083\n",
      "Early stopping triggered\n"
     ]
    },
    {
     "name": "stderr",
     "output_type": "stream",
     "text": [
      "INFO:refract.trainers:Training fold 6\n"
     ]
    },
    {
     "name": "stdout",
     "output_type": "stream",
     "text": [
      "Fold correlation: 0.6440461856078883\n",
      "Epoch [1/100], Train Loss: 2.8461, Val Loss: 1.9553\n",
      "Epoch [2/100], Train Loss: 1.5506, Val Loss: 0.9490\n",
      "Epoch [3/100], Train Loss: 1.1292, Val Loss: 0.9128\n",
      "Epoch [4/100], Train Loss: 0.9148, Val Loss: 0.8256\n",
      "Epoch [5/100], Train Loss: 0.8078, Val Loss: 0.6817\n",
      "Epoch [6/100], Train Loss: 0.7465, Val Loss: 0.7396\n",
      "Epoch [7/100], Train Loss: 0.6932, Val Loss: 0.6264\n",
      "Epoch [8/100], Train Loss: 0.7967, Val Loss: 0.6494\n",
      "Epoch [9/100], Train Loss: 0.5926, Val Loss: 0.6185\n",
      "Epoch [10/100], Train Loss: 0.7121, Val Loss: 0.6791\n",
      "Epoch [11/100], Train Loss: 0.7239, Val Loss: 0.6214\n",
      "Epoch [12/100], Train Loss: 0.5976, Val Loss: 0.6455\n",
      "Epoch [13/100], Train Loss: 0.5418, Val Loss: 0.5965\n",
      "Epoch [14/100], Train Loss: 0.5735, Val Loss: 0.5895\n",
      "Epoch [15/100], Train Loss: 0.5855, Val Loss: 0.6090\n",
      "Epoch [16/100], Train Loss: 0.5692, Val Loss: 0.6448\n",
      "Epoch [17/100], Train Loss: 0.5702, Val Loss: 0.5698\n",
      "Epoch [18/100], Train Loss: 0.5249, Val Loss: 0.6378\n",
      "Epoch [19/100], Train Loss: 0.5459, Val Loss: 0.5881\n",
      "Epoch [20/100], Train Loss: 0.5454, Val Loss: 0.6406\n",
      "Epoch [21/100], Train Loss: 0.4850, Val Loss: 0.6144\n",
      "Epoch [22/100], Train Loss: 0.5656, Val Loss: 0.7554\n",
      "Early stopping triggered\n"
     ]
    },
    {
     "name": "stderr",
     "output_type": "stream",
     "text": [
      "INFO:refract.trainers:Training fold 7\n"
     ]
    },
    {
     "name": "stdout",
     "output_type": "stream",
     "text": [
      "Fold correlation: 0.7245066876885051\n",
      "Epoch [1/100], Train Loss: 2.2261, Val Loss: 2.1270\n",
      "Epoch [2/100], Train Loss: 1.3940, Val Loss: 1.0689\n",
      "Epoch [3/100], Train Loss: 1.1306, Val Loss: 1.2821\n",
      "Epoch [4/100], Train Loss: 0.9214, Val Loss: 0.9181\n",
      "Epoch [5/100], Train Loss: 0.8107, Val Loss: 0.9306\n",
      "Epoch [6/100], Train Loss: 0.7043, Val Loss: 0.8239\n",
      "Epoch [7/100], Train Loss: 0.6797, Val Loss: 1.0414\n",
      "Epoch [8/100], Train Loss: 0.8619, Val Loss: 0.7745\n",
      "Epoch [9/100], Train Loss: 0.6170, Val Loss: 0.7636\n",
      "Epoch [10/100], Train Loss: 0.7186, Val Loss: 0.8686\n",
      "Epoch [11/100], Train Loss: 0.6714, Val Loss: 0.7330\n",
      "Epoch [12/100], Train Loss: 0.7087, Val Loss: 0.8924\n",
      "Epoch [13/100], Train Loss: 0.6289, Val Loss: 0.7192\n",
      "Epoch [14/100], Train Loss: 0.5527, Val Loss: 0.7513\n",
      "Epoch [15/100], Train Loss: 0.5509, Val Loss: 0.7731\n",
      "Epoch [16/100], Train Loss: 0.5438, Val Loss: 0.7504\n",
      "Epoch [17/100], Train Loss: 0.5686, Val Loss: 0.8450\n",
      "Epoch [18/100], Train Loss: 0.6185, Val Loss: 0.6307\n",
      "Epoch [19/100], Train Loss: 0.4520, Val Loss: 0.8098\n",
      "Epoch [20/100], Train Loss: 0.5503, Val Loss: 0.6798\n",
      "Epoch [21/100], Train Loss: 0.5367, Val Loss: 0.8518\n",
      "Epoch [22/100], Train Loss: 0.4026, Val Loss: 0.7750\n",
      "Epoch [23/100], Train Loss: 0.4187, Val Loss: 0.7908\n",
      "Early stopping triggered\n"
     ]
    },
    {
     "name": "stderr",
     "output_type": "stream",
     "text": [
      "INFO:refract.trainers:Training fold 8\n"
     ]
    },
    {
     "name": "stdout",
     "output_type": "stream",
     "text": [
      "Fold correlation: 0.767168104134871\n",
      "Epoch [1/100], Train Loss: 2.2600, Val Loss: 0.9795\n",
      "Epoch [2/100], Train Loss: 1.3507, Val Loss: 0.5724\n",
      "Epoch [3/100], Train Loss: 0.9543, Val Loss: 0.6158\n",
      "Epoch [4/100], Train Loss: 0.8503, Val Loss: 0.5161\n",
      "Epoch [5/100], Train Loss: 0.7448, Val Loss: 0.5177\n",
      "Epoch [6/100], Train Loss: 0.8424, Val Loss: 0.5477\n",
      "Epoch [7/100], Train Loss: 0.7916, Val Loss: 0.6862\n",
      "Epoch [8/100], Train Loss: 0.6473, Val Loss: 0.4422\n",
      "Epoch [9/100], Train Loss: 0.5912, Val Loss: 0.5006\n",
      "Epoch [10/100], Train Loss: 0.6596, Val Loss: 0.5914\n",
      "Epoch [11/100], Train Loss: 0.5585, Val Loss: 0.5154\n",
      "Epoch [12/100], Train Loss: 0.5930, Val Loss: 0.5139\n",
      "Epoch [13/100], Train Loss: 0.5019, Val Loss: 0.5009\n",
      "Early stopping triggered\n"
     ]
    },
    {
     "name": "stderr",
     "output_type": "stream",
     "text": [
      "INFO:refract.trainers:Training fold 9\n"
     ]
    },
    {
     "name": "stdout",
     "output_type": "stream",
     "text": [
      "Fold correlation: 0.5549138036301453\n",
      "Epoch [1/100], Train Loss: 2.8757, Val Loss: 2.4015\n",
      "Epoch [2/100], Train Loss: 1.6287, Val Loss: 0.8913\n",
      "Epoch [3/100], Train Loss: 1.3923, Val Loss: 0.9753\n",
      "Epoch [4/100], Train Loss: 1.2800, Val Loss: 1.1084\n",
      "Epoch [5/100], Train Loss: 0.9361, Val Loss: 0.7487\n",
      "Epoch [6/100], Train Loss: 0.9163, Val Loss: 0.7532\n",
      "Epoch [7/100], Train Loss: 0.8033, Val Loss: 0.7439\n",
      "Epoch [8/100], Train Loss: 0.8022, Val Loss: 0.7344\n",
      "Epoch [9/100], Train Loss: 0.8311, Val Loss: 0.7400\n",
      "Epoch [10/100], Train Loss: 0.8192, Val Loss: 0.7309\n",
      "Epoch [11/100], Train Loss: 0.8034, Val Loss: 0.8219\n",
      "Epoch [12/100], Train Loss: 0.6744, Val Loss: 0.7134\n",
      "Epoch [13/100], Train Loss: 0.8286, Val Loss: 0.7921\n",
      "Epoch [14/100], Train Loss: 0.6563, Val Loss: 0.6534\n",
      "Epoch [15/100], Train Loss: 0.7520, Val Loss: 0.6515\n",
      "Epoch [16/100], Train Loss: 0.7857, Val Loss: 0.7956\n",
      "Epoch [17/100], Train Loss: 0.6639, Val Loss: 0.5931\n",
      "Epoch [18/100], Train Loss: 0.7045, Val Loss: 0.8242\n",
      "Epoch [19/100], Train Loss: 0.6204, Val Loss: 0.7050\n",
      "Epoch [20/100], Train Loss: 0.5904, Val Loss: 0.6221\n",
      "Epoch [21/100], Train Loss: 0.5227, Val Loss: 0.8129\n",
      "Epoch [22/100], Train Loss: 0.5290, Val Loss: 0.6689\n",
      "Early stopping triggered\n",
      "Fold correlation: 0.7104601231585966\n"
     ]
    }
   ],
   "source": [
    "# START CV TRAIN\n",
    "skf = KFold(n_splits=10, shuffle=True, random_state=42)\n",
    "trainers = []\n",
    "for i, (train_index, test_index) in enumerate(skf.split(response_df)):\n",
    "    logger.info(f\"Training fold {i}\")\n",
    "    response_train = response_df.iloc[train_index, :].reset_index(drop=True).copy()\n",
    "    response_test = response_df.iloc[test_index, :].reset_index(drop=True).copy()\n",
    "\n",
    "    # train one fold\n",
    "    trainer = NNTrainer(\n",
    "        response_train=response_train,\n",
    "        response_test=response_test,\n",
    "        feature_df=feature_df,\n",
    "    )\n",
    "    trainer.train()\n",
    "    trainers.append(trainer)\n"
   ]
  },
  {
   "cell_type": "code",
   "execution_count": 96,
   "metadata": {},
   "outputs": [],
   "source": [
    "# Get the overall performance\n",
    "all_pred = []\n",
    "all_true = []\n",
    "for trainer in trainers:\n",
    "    all_pred.extend(trainer.y_test_pred)\n",
    "    all_true.extend(trainer.y_test)"
   ]
  },
  {
   "cell_type": "code",
   "execution_count": 97,
   "metadata": {},
   "outputs": [
    {
     "name": "stdout",
     "output_type": "stream",
     "text": [
      "Pearson correlation: 0.685, p-value: 0.000\n"
     ]
    }
   ],
   "source": [
    "# print pearson correlation\n",
    "r, p = pearsonr(all_true, all_pred)\n",
    "print(f\"Pearson correlation: {r:.3f}, p-value: {p:.3f}\")"
   ]
  },
  {
   "cell_type": "markdown",
   "metadata": {},
   "source": [
    "# Here's an idea: pretraining on the full dataset"
   ]
  },
  {
   "cell_type": "code",
   "execution_count": 99,
   "metadata": {},
   "outputs": [],
   "source": [
    "import glob"
   ]
  },
  {
   "cell_type": "code",
   "execution_count": 100,
   "metadata": {},
   "outputs": [],
   "source": [
    "# get all responses\n",
    "all_response_files = glob.glob(\"/scratch/users/nphill22/projects/corsello_lab/20240313_prism_final_reruns/data/features/responses/*\")"
   ]
  },
  {
   "cell_type": "code",
   "execution_count": null,
   "metadata": {},
   "outputs": [],
   "source": [
    "# "
   ]
  }
 ],
 "metadata": {
  "kernelspec": {
   "display_name": "Python 3",
   "language": "python",
   "name": "python3"
  },
  "language_info": {
   "codemirror_mode": {
    "name": "ipython",
    "version": 3
   },
   "file_extension": ".py",
   "mimetype": "text/x-python",
   "name": "python",
   "nbconvert_exporter": "python",
   "pygments_lexer": "ipython3",
   "version": "3.9.19"
  },
  "orig_nbformat": 4
 },
 "nbformat": 4,
 "nbformat_minor": 2
}
