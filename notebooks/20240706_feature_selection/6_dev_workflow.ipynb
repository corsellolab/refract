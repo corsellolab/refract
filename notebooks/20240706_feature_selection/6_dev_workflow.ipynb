{
 "cells": [
  {
   "cell_type": "code",
   "execution_count": 3,
   "metadata": {},
   "outputs": [
    {
     "name": "stderr",
     "output_type": "stream",
     "text": [
      "/scratch/users/nphill22/conda_installs/miniconda/envs/prism/lib/python3.11/site-packages/tqdm/auto.py:21: TqdmWarning: IProgress not found. Please update jupyter and ipywidgets. See https://ipywidgets.readthedocs.io/en/stable/user_install.html\n",
      "  from .autonotebook import tqdm as notebook_tqdm\n"
     ]
    }
   ],
   "source": [
    "import sys\n",
    "sys.path.append(\"/scratch/users/nphill22/projects/corsello_lab/20240706_retrain_feature_select/refract\")\n",
    "import argparse\n",
    "import logging\n",
    "import os\n",
    "import pickle\n",
    "import sys\n",
    "import json\n",
    "import glob\n",
    "\n",
    "import matplotlib.pyplot as plt\n",
    "import numpy as np\n",
    "import pandas as pd\n",
    "import shap\n",
    "import xgboost as xgb\n",
    "from sklearn.model_selection import KFold, StratifiedKFold\n",
    "\n",
    "from refract.trainers import AutoMLTrainer\n",
    "from refract.utils import save_output"
   ]
  },
  {
   "cell_type": "code",
   "execution_count": null,
   "metadata": {},
   "outputs": [],
   "source": []
  },
  {
   "cell_type": "code",
   "execution_count": 4,
   "metadata": {},
   "outputs": [],
   "source": [
    "from run_training import run"
   ]
  },
  {
   "cell_type": "code",
   "execution_count": 5,
   "metadata": {},
   "outputs": [],
   "source": [
    "drug_name = 'birinapant'\n",
    "response_dir = \"/scratch/users/nphill22/projects/corsello_lab/20240706_retrain_feature_select/data/responses\"\n",
    "feature_path = \"/scratch/users/nphill22/projects/corsello_lab/20240706_retrain_feature_select/data/processed_data/x-all.pkl\"\n",
    "output_dir = \"/scratch/users/nphill22/projects/corsello_lab/20240706_retrain_feature_select/outputs/small_test\"\n",
    "neighborhood_json = \"/scratch/users/nphill22/projects/corsello_lab/20240706_retrain_feature_select/refract/notebooks/20240706_feature_selection/neighbors.json\""
   ]
  },
  {
   "cell_type": "code",
   "execution_count": 6,
   "metadata": {},
   "outputs": [],
   "source": [
    "# create output dir\n",
    "if not os.path.exists(output_dir):\n",
    "    os.makedirs(output_dir)\n",
    "\n",
    "logger = logging.getLogger(__name__)\n",
    "logging.basicConfig(level=\"INFO\")\n",
    "\n",
    "# update logger to write to file\n",
    "fh = logging.FileHandler(os.path.join(output_dir, \"train.log\"))\n",
    "fh.setLevel(logging.INFO)\n",
    "logger.addHandler(fh)\n"
   ]
  },
  {
   "cell_type": "code",
   "execution_count": 6,
   "metadata": {},
   "outputs": [
    {
     "name": "stderr",
     "output_type": "stream",
     "text": [
      "INFO:__main__:Loading feature data...\n",
      "/tmp/ipykernel_1355/122350883.py:4: DeprecationWarning: numpy.core.numeric is deprecated and has been renamed to numpy._core.numeric. The numpy._core namespace contains private NumPy internals and its use is discouraged, as NumPy internals can change without warning in any release. In practice, most real-world usage of numpy.core is to access functionality in the public NumPy API. If that is the case, use the public NumPy API. If not, you are using NumPy internals. If you would still like to access an internal attribute, use numpy._core.numeric._frombuffer.\n",
      "  feature_df = pickle.load(f)\n",
      "INFO:__main__:Loading neighborhood data...\n"
     ]
    }
   ],
   "source": [
    "# load data\n",
    "logger.info(\"Loading feature data...\")\n",
    "with open(feature_path, \"rb\") as f:\n",
    "    feature_df = pickle.load(f)\n",
    "feature_df.set_index(\"ccle_name\", inplace=True)\n",
    "feature_df.fillna(-1, inplace=True)\n",
    "# drop low variance features\n",
    "feature_df = feature_df.loc[:, feature_df.var() > 0]\n",
    "\n",
    "# read the neighborhood json\n",
    "logger.info(\"Loading neighborhood data...\")\n",
    "with open(neighborhood_json, \"r\") as f:\n",
    "    neighborhood_dict = json.load(f)\n",
    "    # get similar drugs from the neighborhood\n",
    "similar_drugs = neighborhood_dict[drug_name]"
   ]
  },
  {
   "cell_type": "code",
   "execution_count": 7,
   "metadata": {},
   "outputs": [
    {
     "name": "stderr",
     "output_type": "stream",
     "text": [
      "INFO:__main__:Loading response data...\n"
     ]
    }
   ],
   "source": [
    "logger.info(\"Loading response data...\")\n",
    "response_files = glob.glob(os.path.join(response_dir, \"*.csv\"))\n",
    "response_data = {}\n",
    "for response_file in response_files:\n",
    "    response_name = os.path.basename(response_file).replace(\".csv\", \"\")\n",
    "    response_data[response_name] = pd.read_csv(response_file)\n",
    "# for every one, select LFC.CB, pert_name, ccle_name\n",
    "response_data = {k: v.loc[:, [\"LFC.cb\", \"pert_name\", \"ccle_name\"]] for k, v in response_data.items()}\n",
    "# concatenate all responses\n",
    "response_data = pd.concat(response_data.values(), axis=0)\n",
    "# drop duplicates on pert_name, ccle_name\n",
    "response_data = response_data.drop_duplicates(subset=[\"pert_name\", \"ccle_name\"])\n",
    "# pivot so ccle_name is the columns and pert_name is the index\n",
    "response_data = response_data.pivot(index=\"pert_name\", columns=\"ccle_name\", values=\"LFC.cb\")    # get responses for all these\n",
    "cluster_responses = response_data.loc[response_data.index.isin(similar_drugs), :]\n",
    "# set columns as str\n",
    "cluster_responses.columns = cluster_responses.columns.astype(str)\n",
    "# drop column named nan\n",
    "cluster_responses = cluster_responses.drop(\"nan\", axis=1)\n",
    "# transpose cluster_responses\n",
    "cluster_responses = cluster_responses.T\n",
    "# fill NaN with 0\n",
    "cluster_responses = cluster_responses.fillna(0)\n",
    "# melt cluster responses\n",
    "cluster_responses = cluster_responses.reset_index().melt(id_vars=\"ccle_name\", var_name=\"pert_name\", value_name=\"LFC.cb\")\n",
    "# set ccle_name as index\n",
    "cluster_responses = cluster_responses.set_index(\"ccle_name\")\n"
   ]
  },
  {
   "cell_type": "code",
   "execution_count": 7,
   "metadata": {},
   "outputs": [
    {
     "data": {
      "text/html": [
       "<div>\n",
       "<style scoped>\n",
       "    .dataframe tbody tr th:only-of-type {\n",
       "        vertical-align: middle;\n",
       "    }\n",
       "\n",
       "    .dataframe tbody tr th {\n",
       "        vertical-align: top;\n",
       "    }\n",
       "\n",
       "    .dataframe thead th {\n",
       "        text-align: right;\n",
       "    }\n",
       "</style>\n",
       "<table border=\"1\" class=\"dataframe\">\n",
       "  <thead>\n",
       "    <tr style=\"text-align: right;\">\n",
       "      <th></th>\n",
       "      <th>pert_name</th>\n",
       "      <th>LFC.cb</th>\n",
       "    </tr>\n",
       "    <tr>\n",
       "      <th>ccle_name</th>\n",
       "      <th></th>\n",
       "      <th></th>\n",
       "    </tr>\n",
       "  </thead>\n",
       "  <tbody>\n",
       "    <tr>\n",
       "      <th>143B_BONE</th>\n",
       "      <td>ar-42</td>\n",
       "      <td>0.000000</td>\n",
       "    </tr>\n",
       "    <tr>\n",
       "      <th>1618K_TESTIS</th>\n",
       "      <td>ar-42</td>\n",
       "      <td>0.000000</td>\n",
       "    </tr>\n",
       "    <tr>\n",
       "      <th>1777NRPMET_TESTIS</th>\n",
       "      <td>ar-42</td>\n",
       "      <td>0.000000</td>\n",
       "    </tr>\n",
       "    <tr>\n",
       "      <th>22RV1_PROSTATE</th>\n",
       "      <td>ar-42</td>\n",
       "      <td>-3.698678</td>\n",
       "    </tr>\n",
       "    <tr>\n",
       "      <th>2313287_STOMACH</th>\n",
       "      <td>ar-42</td>\n",
       "      <td>-4.350232</td>\n",
       "    </tr>\n",
       "    <tr>\n",
       "      <th>...</th>\n",
       "      <td>...</td>\n",
       "      <td>...</td>\n",
       "    </tr>\n",
       "    <tr>\n",
       "      <th>YD8_UPPER_AERODIGESTIVE_TRACT</th>\n",
       "      <td>lcl-161</td>\n",
       "      <td>1.255041</td>\n",
       "    </tr>\n",
       "    <tr>\n",
       "      <th>YH13_CENTRAL_NERVOUS_SYSTEM</th>\n",
       "      <td>lcl-161</td>\n",
       "      <td>-2.547366</td>\n",
       "    </tr>\n",
       "    <tr>\n",
       "      <th>YKG1_CENTRAL_NERVOUS_SYSTEM</th>\n",
       "      <td>lcl-161</td>\n",
       "      <td>0.774973</td>\n",
       "    </tr>\n",
       "    <tr>\n",
       "      <th>YSCCC_BILIARY_TRACT</th>\n",
       "      <td>lcl-161</td>\n",
       "      <td>0.000000</td>\n",
       "    </tr>\n",
       "    <tr>\n",
       "      <th>ZR751_BREAST</th>\n",
       "      <td>lcl-161</td>\n",
       "      <td>-0.449010</td>\n",
       "    </tr>\n",
       "  </tbody>\n",
       "</table>\n",
       "<p>5400 rows × 2 columns</p>\n",
       "</div>"
      ],
      "text/plain": [
       "                              pert_name    LFC.cb\n",
       "ccle_name                                        \n",
       "143B_BONE                         ar-42  0.000000\n",
       "1618K_TESTIS                      ar-42  0.000000\n",
       "1777NRPMET_TESTIS                 ar-42  0.000000\n",
       "22RV1_PROSTATE                    ar-42 -3.698678\n",
       "2313287_STOMACH                   ar-42 -4.350232\n",
       "...                                 ...       ...\n",
       "YD8_UPPER_AERODIGESTIVE_TRACT   lcl-161  1.255041\n",
       "YH13_CENTRAL_NERVOUS_SYSTEM     lcl-161 -2.547366\n",
       "YKG1_CENTRAL_NERVOUS_SYSTEM     lcl-161  0.774973\n",
       "YSCCC_BILIARY_TRACT             lcl-161  0.000000\n",
       "ZR751_BREAST                    lcl-161 -0.449010\n",
       "\n",
       "[5400 rows x 2 columns]"
      ]
     },
     "execution_count": 7,
     "metadata": {},
     "output_type": "execute_result"
    }
   ],
   "source": [
    "cluster_responses"
   ]
  },
  {
   "cell_type": "code",
   "execution_count": 8,
   "metadata": {},
   "outputs": [],
   "source": [
    "from refract.utils import get_fold_assignment"
   ]
  },
  {
   "cell_type": "code",
   "execution_count": 9,
   "metadata": {},
   "outputs": [
    {
     "name": "stderr",
     "output_type": "stream",
     "text": [
      "INFO:__main__:Preparing for training...\n"
     ]
    }
   ],
   "source": [
    "logger.info(\"Preparing for training...\")\n",
    "fold_assignment = get_fold_assignment(cluster_responses, drug_name)\n",
    "cluster_responses = cluster_responses.loc[cluster_responses.index.isin(fold_assignment.keys()), :]\n",
    "# merge all\n",
    "df_all = cluster_responses.merge(feature_df, left_index=True, right_index=True, how='inner')\n",
    "feature_cols = feature_df.columns\n",
    "label_cols = cluster_responses.columns\n",
    "df_all[\"fold\"] = df_all.index.map(fold_assignment)"
   ]
  },
  {
   "cell_type": "code",
   "execution_count": 10,
   "metadata": {},
   "outputs": [],
   "source": [
    "from sklearn.model_selection import GroupKFold"
   ]
  },
  {
   "cell_type": "code",
   "execution_count": 11,
   "metadata": {},
   "outputs": [
    {
     "name": "stderr",
     "output_type": "stream",
     "text": [
      "INFO:__main__:Training...\n",
      "INFO:__main__:Training fold 0\n"
     ]
    }
   ],
   "source": [
    "# START CV TRAIN\n",
    "logger.info(\"Training...\")\n",
    "X_all = df_all.loc[:, feature_cols]\n",
    "y_all = df_all.loc[:, label_cols]\n",
    "groups = df_all[\"fold\"]\n",
    "outer_cv = GroupKFold(n_splits=10)\n",
    "trainers = []\n",
    "for i, (train_index, test_index) in enumerate(outer_cv.split(X_all, y_all, groups)):\n",
    "    logger.info(f\"Training fold {i}\")\n",
    "    X_train, X_test = X_all.iloc[train_index], X_all.iloc[test_index]\n",
    "    y_train, y_test = y_all.iloc[train_index], y_all.iloc[test_index]        \n",
    "    # train one fold\n",
    "    trainer = AutoMLTrainer(\n",
    "        X_train=X_train,\n",
    "        y_train=y_train,\n",
    "        X_test=X_test,\n",
    "        y_test=y_test,\n",
    "        feature_cols=feature_cols,\n",
    "        drug_name=drug_name, \n",
    "        fold_assignment=fold_assignment\n",
    "    )\n",
    "    break"
   ]
  },
  {
   "cell_type": "code",
   "execution_count": 12,
   "metadata": {},
   "outputs": [],
   "source": [
    "from refract.utils import get_correlated_features"
   ]
  },
  {
   "cell_type": "code",
   "execution_count": 13,
   "metadata": {},
   "outputs": [],
   "source": [
    "trainer.select_features()"
   ]
  },
  {
   "cell_type": "code",
   "execution_count": 14,
   "metadata": {},
   "outputs": [
    {
     "name": "stdout",
     "output_type": "stream",
     "text": [
      "[flaml.automl.logger: 07-07 23:55:45] {1680} INFO - task = regression\n",
      "[flaml.automl.logger: 07-07 23:55:45] {1691} INFO - Evaluation method: holdout\n",
      "[flaml.automl.logger: 07-07 23:55:45] {1789} INFO - Minimizing error metric: rmse\n",
      "[flaml.automl.logger: 07-07 23:55:45] {1901} INFO - List of ML learners in AutoML Run: ['xgboost', 'rf', 'lgbm']\n",
      "[flaml.automl.logger: 07-07 23:55:45] {2219} INFO - iteration 0, current learner xgboost\n",
      "[flaml.automl.logger: 07-07 23:55:47] {2345} INFO - Estimated sufficient time budget=12003s. Estimated necessary time budget=12s.\n",
      "[flaml.automl.logger: 07-07 23:55:47] {2392} INFO -  at 1.2s,\testimator xgboost's best error=0.9781,\tbest estimator xgboost's best error=0.9781\n",
      "[flaml.automl.logger: 07-07 23:55:47] {2219} INFO - iteration 1, current learner lgbm\n",
      "[flaml.automl.logger: 07-07 23:55:49] {2392} INFO -  at 3.2s,\testimator lgbm's best error=0.9946,\tbest estimator xgboost's best error=0.9781\n",
      "[flaml.automl.logger: 07-07 23:55:49] {2219} INFO - iteration 2, current learner xgboost\n",
      "[flaml.automl.logger: 07-07 23:55:49] {2392} INFO -  at 3.8s,\testimator xgboost's best error=0.9781,\tbest estimator xgboost's best error=0.9781\n",
      "[flaml.automl.logger: 07-07 23:55:49] {2219} INFO - iteration 3, current learner lgbm\n",
      "[flaml.automl.logger: 07-07 23:55:50] {2392} INFO -  at 5.0s,\testimator lgbm's best error=0.9946,\tbest estimator xgboost's best error=0.9781\n",
      "[flaml.automl.logger: 07-07 23:55:50] {2219} INFO - iteration 4, current learner xgboost\n",
      "[flaml.automl.logger: 07-07 23:55:52] {2392} INFO -  at 6.2s,\testimator xgboost's best error=0.9781,\tbest estimator xgboost's best error=0.9781\n",
      "[flaml.automl.logger: 07-07 23:55:52] {2219} INFO - iteration 5, current learner rf\n",
      "[flaml.automl.logger: 07-07 23:55:52] {2392} INFO -  at 6.2s,\testimator rf's best error=0.9347,\tbest estimator rf's best error=0.9347\n",
      "[flaml.automl.logger: 07-07 23:55:52] {2219} INFO - iteration 6, current learner rf\n",
      "[flaml.automl.logger: 07-07 23:55:52] {2392} INFO -  at 6.3s,\testimator rf's best error=0.9347,\tbest estimator rf's best error=0.9347\n",
      "[flaml.automl.logger: 07-07 23:55:52] {2219} INFO - iteration 7, current learner rf\n",
      "[flaml.automl.logger: 07-07 23:55:52] {2392} INFO -  at 6.4s,\testimator rf's best error=0.9284,\tbest estimator rf's best error=0.9284\n",
      "[flaml.automl.logger: 07-07 23:55:52] {2219} INFO - iteration 8, current learner rf\n",
      "[flaml.automl.logger: 07-07 23:55:52] {2392} INFO -  at 6.4s,\testimator rf's best error=0.9284,\tbest estimator rf's best error=0.9284\n",
      "[flaml.automl.logger: 07-07 23:55:52] {2219} INFO - iteration 9, current learner rf\n",
      "[flaml.automl.logger: 07-07 23:55:52] {2392} INFO -  at 6.5s,\testimator rf's best error=0.9284,\tbest estimator rf's best error=0.9284\n",
      "[flaml.automl.logger: 07-07 23:55:52] {2219} INFO - iteration 10, current learner rf\n",
      "[flaml.automl.logger: 07-07 23:55:52] {2392} INFO -  at 6.6s,\testimator rf's best error=0.9284,\tbest estimator rf's best error=0.9284\n",
      "[flaml.automl.logger: 07-07 23:55:52] {2219} INFO - iteration 11, current learner rf\n",
      "[flaml.automl.logger: 07-07 23:55:52] {2392} INFO -  at 6.6s,\testimator rf's best error=0.9093,\tbest estimator rf's best error=0.9093\n",
      "[flaml.automl.logger: 07-07 23:55:52] {2219} INFO - iteration 12, current learner rf\n",
      "[flaml.automl.logger: 07-07 23:55:52] {2392} INFO -  at 6.7s,\testimator rf's best error=0.9093,\tbest estimator rf's best error=0.9093\n",
      "[flaml.automl.logger: 07-07 23:55:52] {2219} INFO - iteration 13, current learner rf\n",
      "[flaml.automl.logger: 07-07 23:55:52] {2392} INFO -  at 6.8s,\testimator rf's best error=0.9093,\tbest estimator rf's best error=0.9093\n",
      "[flaml.automl.logger: 07-07 23:55:52] {2219} INFO - iteration 14, current learner rf\n",
      "[flaml.automl.logger: 07-07 23:55:52] {2392} INFO -  at 6.8s,\testimator rf's best error=0.9093,\tbest estimator rf's best error=0.9093\n",
      "[flaml.automl.logger: 07-07 23:55:52] {2219} INFO - iteration 15, current learner rf\n",
      "[flaml.automl.logger: 07-07 23:55:52] {2392} INFO -  at 6.9s,\testimator rf's best error=0.9093,\tbest estimator rf's best error=0.9093\n",
      "[flaml.automl.logger: 07-07 23:55:52] {2219} INFO - iteration 16, current learner rf\n",
      "[flaml.automl.logger: 07-07 23:55:52] {2392} INFO -  at 6.9s,\testimator rf's best error=0.9093,\tbest estimator rf's best error=0.9093\n",
      "[flaml.automl.logger: 07-07 23:55:52] {2219} INFO - iteration 17, current learner xgboost\n",
      "[flaml.automl.logger: 07-07 23:55:52] {2392} INFO -  at 6.9s,\testimator xgboost's best error=0.9762,\tbest estimator rf's best error=0.9093\n",
      "[flaml.automl.logger: 07-07 23:55:52] {2219} INFO - iteration 18, current learner rf\n",
      "[flaml.automl.logger: 07-07 23:55:52] {2392} INFO -  at 7.0s,\testimator rf's best error=0.9093,\tbest estimator rf's best error=0.9093\n",
      "[flaml.automl.logger: 07-07 23:55:52] {2219} INFO - iteration 19, current learner rf\n",
      "[flaml.automl.logger: 07-07 23:55:53] {2392} INFO -  at 7.1s,\testimator rf's best error=0.9093,\tbest estimator rf's best error=0.9093\n",
      "[flaml.automl.logger: 07-07 23:55:53] {2219} INFO - iteration 20, current learner rf\n",
      "[flaml.automl.logger: 07-07 23:55:53] {2392} INFO -  at 7.1s,\testimator rf's best error=0.9093,\tbest estimator rf's best error=0.9093\n",
      "[flaml.automl.logger: 07-07 23:55:53] {2219} INFO - iteration 21, current learner rf\n",
      "[flaml.automl.logger: 07-07 23:55:53] {2392} INFO -  at 7.2s,\testimator rf's best error=0.9093,\tbest estimator rf's best error=0.9093\n",
      "[flaml.automl.logger: 07-07 23:55:53] {2219} INFO - iteration 22, current learner rf\n",
      "[flaml.automl.logger: 07-07 23:55:53] {2392} INFO -  at 7.3s,\testimator rf's best error=0.9093,\tbest estimator rf's best error=0.9093\n",
      "[flaml.automl.logger: 07-07 23:55:53] {2219} INFO - iteration 23, current learner lgbm\n",
      "[flaml.automl.logger: 07-07 23:55:53] {2392} INFO -  at 7.7s,\testimator lgbm's best error=0.9670,\tbest estimator rf's best error=0.9093\n",
      "[flaml.automl.logger: 07-07 23:55:53] {2219} INFO - iteration 24, current learner lgbm\n",
      "[flaml.automl.logger: 07-07 23:55:53] {2392} INFO -  at 7.7s,\testimator lgbm's best error=0.9335,\tbest estimator rf's best error=0.9093\n",
      "[flaml.automl.logger: 07-07 23:55:53] {2219} INFO - iteration 25, current learner lgbm\n",
      "[flaml.automl.logger: 07-07 23:55:53] {2392} INFO -  at 7.8s,\testimator lgbm's best error=0.9335,\tbest estimator rf's best error=0.9093\n",
      "[flaml.automl.logger: 07-07 23:55:53] {2219} INFO - iteration 26, current learner lgbm\n",
      "[flaml.automl.logger: 07-07 23:55:53] {2392} INFO -  at 7.8s,\testimator lgbm's best error=0.9335,\tbest estimator rf's best error=0.9093\n",
      "[flaml.automl.logger: 07-07 23:55:53] {2219} INFO - iteration 27, current learner lgbm\n",
      "[flaml.automl.logger: 07-07 23:55:53] {2392} INFO -  at 7.8s,\testimator lgbm's best error=0.9335,\tbest estimator rf's best error=0.9093\n",
      "[flaml.automl.logger: 07-07 23:55:53] {2219} INFO - iteration 28, current learner lgbm\n",
      "[flaml.automl.logger: 07-07 23:55:53] {2392} INFO -  at 7.8s,\testimator lgbm's best error=0.9335,\tbest estimator rf's best error=0.9093\n",
      "[flaml.automl.logger: 07-07 23:55:53] {2219} INFO - iteration 29, current learner rf\n",
      "[flaml.automl.logger: 07-07 23:55:53] {2392} INFO -  at 7.8s,\testimator rf's best error=0.9093,\tbest estimator rf's best error=0.9093\n",
      "[flaml.automl.logger: 07-07 23:55:53] {2219} INFO - iteration 30, current learner rf\n",
      "[flaml.automl.logger: 07-07 23:55:53] {2392} INFO -  at 7.9s,\testimator rf's best error=0.9093,\tbest estimator rf's best error=0.9093\n",
      "[flaml.automl.logger: 07-07 23:55:53] {2219} INFO - iteration 31, current learner lgbm\n",
      "[flaml.automl.logger: 07-07 23:55:57] {2392} INFO -  at 11.6s,\testimator lgbm's best error=0.9251,\tbest estimator rf's best error=0.9093\n",
      "[flaml.automl.logger: 07-07 23:55:57] {2219} INFO - iteration 32, current learner rf\n",
      "[flaml.automl.logger: 07-07 23:55:57] {2392} INFO -  at 11.6s,\testimator rf's best error=0.9093,\tbest estimator rf's best error=0.9093\n",
      "[flaml.automl.logger: 07-07 23:55:57] {2219} INFO - iteration 33, current learner rf\n",
      "[flaml.automl.logger: 07-07 23:55:57] {2392} INFO -  at 11.7s,\testimator rf's best error=0.9093,\tbest estimator rf's best error=0.9093\n",
      "[flaml.automl.logger: 07-07 23:55:57] {2219} INFO - iteration 34, current learner rf\n",
      "[flaml.automl.logger: 07-07 23:55:57] {2392} INFO -  at 11.8s,\testimator rf's best error=0.9093,\tbest estimator rf's best error=0.9093\n",
      "[flaml.automl.logger: 07-07 23:55:57] {2219} INFO - iteration 35, current learner lgbm\n",
      "[flaml.automl.logger: 07-07 23:56:00] {2392} INFO -  at 14.1s,\testimator lgbm's best error=0.9251,\tbest estimator rf's best error=0.9093\n",
      "[flaml.automl.logger: 07-07 23:56:00] {2219} INFO - iteration 36, current learner rf\n",
      "[flaml.automl.logger: 07-07 23:56:00] {2392} INFO -  at 14.1s,\testimator rf's best error=0.9093,\tbest estimator rf's best error=0.9093\n",
      "[flaml.automl.logger: 07-07 23:56:00] {2219} INFO - iteration 37, current learner rf\n",
      "[flaml.automl.logger: 07-07 23:56:00] {2392} INFO -  at 14.2s,\testimator rf's best error=0.9062,\tbest estimator rf's best error=0.9062\n",
      "[flaml.automl.logger: 07-07 23:56:00] {2219} INFO - iteration 38, current learner rf\n",
      "[flaml.automl.logger: 07-07 23:56:00] {2392} INFO -  at 14.3s,\testimator rf's best error=0.9062,\tbest estimator rf's best error=0.9062\n",
      "[flaml.automl.logger: 07-07 23:56:00] {2219} INFO - iteration 39, current learner rf\n",
      "[flaml.automl.logger: 07-07 23:56:00] {2392} INFO -  at 14.3s,\testimator rf's best error=0.9062,\tbest estimator rf's best error=0.9062\n",
      "[flaml.automl.logger: 07-07 23:56:00] {2219} INFO - iteration 40, current learner rf\n",
      "[flaml.automl.logger: 07-07 23:56:00] {2392} INFO -  at 14.4s,\testimator rf's best error=0.9062,\tbest estimator rf's best error=0.9062\n",
      "[flaml.automl.logger: 07-07 23:56:00] {2219} INFO - iteration 41, current learner rf\n",
      "[flaml.automl.logger: 07-07 23:56:00] {2392} INFO -  at 14.5s,\testimator rf's best error=0.9062,\tbest estimator rf's best error=0.9062\n",
      "[flaml.automl.logger: 07-07 23:56:00] {2219} INFO - iteration 42, current learner rf\n",
      "[flaml.automl.logger: 07-07 23:56:00] {2392} INFO -  at 14.5s,\testimator rf's best error=0.9062,\tbest estimator rf's best error=0.9062\n",
      "[flaml.automl.logger: 07-07 23:56:00] {2219} INFO - iteration 43, current learner lgbm\n",
      "[flaml.automl.logger: 07-07 23:56:08] {2392} INFO -  at 22.8s,\testimator lgbm's best error=0.9251,\tbest estimator rf's best error=0.9062\n",
      "[flaml.automl.logger: 07-07 23:56:08] {2219} INFO - iteration 44, current learner rf\n",
      "[flaml.automl.logger: 07-07 23:56:08] {2392} INFO -  at 22.8s,\testimator rf's best error=0.9062,\tbest estimator rf's best error=0.9062\n",
      "[flaml.automl.logger: 07-07 23:56:08] {2219} INFO - iteration 45, current learner rf\n",
      "[flaml.automl.logger: 07-07 23:56:08] {2392} INFO -  at 22.9s,\testimator rf's best error=0.9062,\tbest estimator rf's best error=0.9062\n",
      "[flaml.automl.logger: 07-07 23:56:08] {2219} INFO - iteration 46, current learner rf\n",
      "[flaml.automl.logger: 07-07 23:56:08] {2392} INFO -  at 22.9s,\testimator rf's best error=0.9062,\tbest estimator rf's best error=0.9062\n",
      "[flaml.automl.logger: 07-07 23:56:08] {2219} INFO - iteration 47, current learner rf\n",
      "[flaml.automl.logger: 07-07 23:56:08] {2392} INFO -  at 23.0s,\testimator rf's best error=0.9062,\tbest estimator rf's best error=0.9062\n",
      "[flaml.automl.logger: 07-07 23:56:08] {2219} INFO - iteration 48, current learner rf\n",
      "[flaml.automl.logger: 07-07 23:56:09] {2392} INFO -  at 23.0s,\testimator rf's best error=0.9062,\tbest estimator rf's best error=0.9062\n",
      "[flaml.automl.logger: 07-07 23:56:09] {2219} INFO - iteration 49, current learner rf\n",
      "[flaml.automl.logger: 07-07 23:56:09] {2392} INFO -  at 23.1s,\testimator rf's best error=0.9062,\tbest estimator rf's best error=0.9062\n",
      "[flaml.automl.logger: 07-07 23:56:09] {2219} INFO - iteration 50, current learner rf\n",
      "[flaml.automl.logger: 07-07 23:56:09] {2392} INFO -  at 23.2s,\testimator rf's best error=0.9062,\tbest estimator rf's best error=0.9062\n",
      "[flaml.automl.logger: 07-07 23:56:09] {2219} INFO - iteration 51, current learner rf\n",
      "[flaml.automl.logger: 07-07 23:56:09] {2392} INFO -  at 23.2s,\testimator rf's best error=0.9062,\tbest estimator rf's best error=0.9062\n",
      "[flaml.automl.logger: 07-07 23:56:09] {2219} INFO - iteration 52, current learner rf\n",
      "[flaml.automl.logger: 07-07 23:56:09] {2392} INFO -  at 23.3s,\testimator rf's best error=0.9062,\tbest estimator rf's best error=0.9062\n",
      "[flaml.automl.logger: 07-07 23:56:09] {2219} INFO - iteration 53, current learner rf\n",
      "[flaml.automl.logger: 07-07 23:56:09] {2392} INFO -  at 23.3s,\testimator rf's best error=0.9062,\tbest estimator rf's best error=0.9062\n",
      "[flaml.automl.logger: 07-07 23:56:09] {2219} INFO - iteration 54, current learner rf\n",
      "[flaml.automl.logger: 07-07 23:56:09] {2392} INFO -  at 23.4s,\testimator rf's best error=0.9062,\tbest estimator rf's best error=0.9062\n",
      "[flaml.automl.logger: 07-07 23:56:09] {2219} INFO - iteration 55, current learner rf\n",
      "[flaml.automl.logger: 07-07 23:56:09] {2392} INFO -  at 23.5s,\testimator rf's best error=0.9062,\tbest estimator rf's best error=0.9062\n",
      "[flaml.automl.logger: 07-07 23:56:09] {2219} INFO - iteration 56, current learner rf\n",
      "[flaml.automl.logger: 07-07 23:56:09] {2392} INFO -  at 23.5s,\testimator rf's best error=0.9062,\tbest estimator rf's best error=0.9062\n",
      "[flaml.automl.logger: 07-07 23:56:09] {2219} INFO - iteration 57, current learner rf\n",
      "[flaml.automl.logger: 07-07 23:56:09] {2392} INFO -  at 23.6s,\testimator rf's best error=0.9062,\tbest estimator rf's best error=0.9062\n",
      "[flaml.automl.logger: 07-07 23:56:09] {2219} INFO - iteration 58, current learner rf\n",
      "[flaml.automl.logger: 07-07 23:56:09] {2392} INFO -  at 23.7s,\testimator rf's best error=0.9062,\tbest estimator rf's best error=0.9062\n",
      "[flaml.automl.logger: 07-07 23:56:09] {2219} INFO - iteration 59, current learner rf\n",
      "[flaml.automl.logger: 07-07 23:56:09] {2392} INFO -  at 23.7s,\testimator rf's best error=0.9062,\tbest estimator rf's best error=0.9062\n",
      "[flaml.automl.logger: 07-07 23:56:09] {2219} INFO - iteration 60, current learner rf\n",
      "[flaml.automl.logger: 07-07 23:56:09] {2392} INFO -  at 23.8s,\testimator rf's best error=0.9062,\tbest estimator rf's best error=0.9062\n",
      "[flaml.automl.logger: 07-07 23:56:09] {2219} INFO - iteration 61, current learner rf\n",
      "[flaml.automl.logger: 07-07 23:56:09] {2392} INFO -  at 23.9s,\testimator rf's best error=0.9062,\tbest estimator rf's best error=0.9062\n",
      "[flaml.automl.logger: 07-07 23:56:09] {2219} INFO - iteration 62, current learner rf\n",
      "[flaml.automl.logger: 07-07 23:56:09] {2392} INFO -  at 23.9s,\testimator rf's best error=0.9062,\tbest estimator rf's best error=0.9062\n",
      "[flaml.automl.logger: 07-07 23:56:09] {2219} INFO - iteration 63, current learner rf\n",
      "[flaml.automl.logger: 07-07 23:56:09] {2392} INFO -  at 24.0s,\testimator rf's best error=0.9062,\tbest estimator rf's best error=0.9062\n",
      "[flaml.automl.logger: 07-07 23:56:09] {2219} INFO - iteration 64, current learner rf\n",
      "[flaml.automl.logger: 07-07 23:56:10] {2392} INFO -  at 24.1s,\testimator rf's best error=0.9062,\tbest estimator rf's best error=0.9062\n",
      "[flaml.automl.logger: 07-07 23:56:10] {2219} INFO - iteration 65, current learner rf\n",
      "[flaml.automl.logger: 07-07 23:56:10] {2392} INFO -  at 24.1s,\testimator rf's best error=0.9062,\tbest estimator rf's best error=0.9062\n",
      "[flaml.automl.logger: 07-07 23:56:10] {2219} INFO - iteration 66, current learner rf\n",
      "[flaml.automl.logger: 07-07 23:56:10] {2392} INFO -  at 24.2s,\testimator rf's best error=0.9062,\tbest estimator rf's best error=0.9062\n",
      "[flaml.automl.logger: 07-07 23:56:10] {2219} INFO - iteration 67, current learner rf\n",
      "[flaml.automl.logger: 07-07 23:56:10] {2392} INFO -  at 24.3s,\testimator rf's best error=0.9062,\tbest estimator rf's best error=0.9062\n",
      "[flaml.automl.logger: 07-07 23:56:10] {2219} INFO - iteration 68, current learner rf\n",
      "[flaml.automl.logger: 07-07 23:56:10] {2392} INFO -  at 24.3s,\testimator rf's best error=0.9062,\tbest estimator rf's best error=0.9062\n",
      "[flaml.automl.logger: 07-07 23:56:10] {2219} INFO - iteration 69, current learner rf\n",
      "[flaml.automl.logger: 07-07 23:56:10] {2392} INFO -  at 24.4s,\testimator rf's best error=0.8886,\tbest estimator rf's best error=0.8886\n",
      "[flaml.automl.logger: 07-07 23:56:10] {2219} INFO - iteration 70, current learner rf\n",
      "[flaml.automl.logger: 07-07 23:56:10] {2392} INFO -  at 24.5s,\testimator rf's best error=0.8886,\tbest estimator rf's best error=0.8886\n",
      "[flaml.automl.logger: 07-07 23:56:10] {2219} INFO - iteration 71, current learner rf\n",
      "[flaml.automl.logger: 07-07 23:56:10] {2392} INFO -  at 24.6s,\testimator rf's best error=0.8886,\tbest estimator rf's best error=0.8886\n",
      "[flaml.automl.logger: 07-07 23:56:10] {2219} INFO - iteration 72, current learner rf\n",
      "[flaml.automl.logger: 07-07 23:56:10] {2392} INFO -  at 24.6s,\testimator rf's best error=0.8886,\tbest estimator rf's best error=0.8886\n",
      "[flaml.automl.logger: 07-07 23:56:10] {2219} INFO - iteration 73, current learner rf\n",
      "[flaml.automl.logger: 07-07 23:56:10] {2392} INFO -  at 24.7s,\testimator rf's best error=0.8886,\tbest estimator rf's best error=0.8886\n",
      "[flaml.automl.logger: 07-07 23:56:10] {2219} INFO - iteration 74, current learner rf\n",
      "[flaml.automl.logger: 07-07 23:56:10] {2392} INFO -  at 24.7s,\testimator rf's best error=0.8886,\tbest estimator rf's best error=0.8886\n",
      "[flaml.automl.logger: 07-07 23:56:10] {2219} INFO - iteration 75, current learner rf\n",
      "[flaml.automl.logger: 07-07 23:56:10] {2392} INFO -  at 24.8s,\testimator rf's best error=0.8886,\tbest estimator rf's best error=0.8886\n",
      "[flaml.automl.logger: 07-07 23:56:10] {2219} INFO - iteration 76, current learner rf\n",
      "[flaml.automl.logger: 07-07 23:56:10] {2392} INFO -  at 24.8s,\testimator rf's best error=0.8886,\tbest estimator rf's best error=0.8886\n",
      "[flaml.automl.logger: 07-07 23:56:10] {2219} INFO - iteration 77, current learner rf\n",
      "[flaml.automl.logger: 07-07 23:56:10] {2392} INFO -  at 24.9s,\testimator rf's best error=0.8886,\tbest estimator rf's best error=0.8886\n",
      "[flaml.automl.logger: 07-07 23:56:10] {2219} INFO - iteration 78, current learner rf\n",
      "[flaml.automl.logger: 07-07 23:56:10] {2392} INFO -  at 24.9s,\testimator rf's best error=0.8886,\tbest estimator rf's best error=0.8886\n",
      "[flaml.automl.logger: 07-07 23:56:10] {2219} INFO - iteration 79, current learner rf\n",
      "[flaml.automl.logger: 07-07 23:56:10] {2392} INFO -  at 25.0s,\testimator rf's best error=0.8886,\tbest estimator rf's best error=0.8886\n",
      "[flaml.automl.logger: 07-07 23:56:10] {2219} INFO - iteration 80, current learner rf\n",
      "[flaml.automl.logger: 07-07 23:56:11] {2392} INFO -  at 25.1s,\testimator rf's best error=0.8886,\tbest estimator rf's best error=0.8886\n",
      "[flaml.automl.logger: 07-07 23:56:11] {2219} INFO - iteration 81, current learner rf\n",
      "[flaml.automl.logger: 07-07 23:56:11] {2392} INFO -  at 25.1s,\testimator rf's best error=0.8886,\tbest estimator rf's best error=0.8886\n",
      "[flaml.automl.logger: 07-07 23:56:11] {2219} INFO - iteration 82, current learner rf\n",
      "[flaml.automl.logger: 07-07 23:56:11] {2392} INFO -  at 25.2s,\testimator rf's best error=0.8886,\tbest estimator rf's best error=0.8886\n",
      "[flaml.automl.logger: 07-07 23:56:11] {2219} INFO - iteration 83, current learner rf\n",
      "[flaml.automl.logger: 07-07 23:56:11] {2392} INFO -  at 25.2s,\testimator rf's best error=0.8886,\tbest estimator rf's best error=0.8886\n",
      "[flaml.automl.logger: 07-07 23:56:11] {2219} INFO - iteration 84, current learner rf\n",
      "[flaml.automl.logger: 07-07 23:56:11] {2392} INFO -  at 25.3s,\testimator rf's best error=0.8886,\tbest estimator rf's best error=0.8886\n",
      "[flaml.automl.logger: 07-07 23:56:11] {2219} INFO - iteration 85, current learner rf\n",
      "[flaml.automl.logger: 07-07 23:56:11] {2392} INFO -  at 25.4s,\testimator rf's best error=0.8886,\tbest estimator rf's best error=0.8886\n",
      "[flaml.automl.logger: 07-07 23:56:11] {2219} INFO - iteration 86, current learner rf\n",
      "[flaml.automl.logger: 07-07 23:56:11] {2392} INFO -  at 25.4s,\testimator rf's best error=0.8886,\tbest estimator rf's best error=0.8886\n",
      "[flaml.automl.logger: 07-07 23:56:11] {2219} INFO - iteration 87, current learner rf\n",
      "[flaml.automl.logger: 07-07 23:56:11] {2392} INFO -  at 25.5s,\testimator rf's best error=0.8886,\tbest estimator rf's best error=0.8886\n",
      "[flaml.automl.logger: 07-07 23:56:11] {2219} INFO - iteration 88, current learner rf\n",
      "[flaml.automl.logger: 07-07 23:56:11] {2392} INFO -  at 25.5s,\testimator rf's best error=0.8886,\tbest estimator rf's best error=0.8886\n",
      "[flaml.automl.logger: 07-07 23:56:11] {2219} INFO - iteration 89, current learner rf\n",
      "[flaml.automl.logger: 07-07 23:56:11] {2392} INFO -  at 25.6s,\testimator rf's best error=0.8886,\tbest estimator rf's best error=0.8886\n",
      "[flaml.automl.logger: 07-07 23:56:11] {2219} INFO - iteration 90, current learner rf\n",
      "[flaml.automl.logger: 07-07 23:56:11] {2392} INFO -  at 25.6s,\testimator rf's best error=0.8886,\tbest estimator rf's best error=0.8886\n",
      "[flaml.automl.logger: 07-07 23:56:11] {2219} INFO - iteration 91, current learner rf\n",
      "[flaml.automl.logger: 07-07 23:56:11] {2392} INFO -  at 25.7s,\testimator rf's best error=0.8886,\tbest estimator rf's best error=0.8886\n",
      "[flaml.automl.logger: 07-07 23:56:11] {2219} INFO - iteration 92, current learner rf\n",
      "[flaml.automl.logger: 07-07 23:56:11] {2392} INFO -  at 25.8s,\testimator rf's best error=0.8886,\tbest estimator rf's best error=0.8886\n",
      "[flaml.automl.logger: 07-07 23:56:11] {2219} INFO - iteration 93, current learner rf\n",
      "[flaml.automl.logger: 07-07 23:56:11] {2392} INFO -  at 25.8s,\testimator rf's best error=0.8886,\tbest estimator rf's best error=0.8886\n",
      "[flaml.automl.logger: 07-07 23:56:11] {2219} INFO - iteration 94, current learner rf\n",
      "[flaml.automl.logger: 07-07 23:56:11] {2392} INFO -  at 25.9s,\testimator rf's best error=0.8886,\tbest estimator rf's best error=0.8886\n",
      "[flaml.automl.logger: 07-07 23:56:11] {2219} INFO - iteration 95, current learner rf\n",
      "[flaml.automl.logger: 07-07 23:56:11] {2392} INFO -  at 25.9s,\testimator rf's best error=0.8886,\tbest estimator rf's best error=0.8886\n",
      "[flaml.automl.logger: 07-07 23:56:11] {2219} INFO - iteration 96, current learner rf\n",
      "[flaml.automl.logger: 07-07 23:56:11] {2392} INFO -  at 26.0s,\testimator rf's best error=0.8886,\tbest estimator rf's best error=0.8886\n",
      "[flaml.automl.logger: 07-07 23:56:11] {2219} INFO - iteration 97, current learner rf\n",
      "[flaml.automl.logger: 07-07 23:56:12] {2392} INFO -  at 26.1s,\testimator rf's best error=0.8886,\tbest estimator rf's best error=0.8886\n",
      "[flaml.automl.logger: 07-07 23:56:12] {2219} INFO - iteration 98, current learner rf\n",
      "[flaml.automl.logger: 07-07 23:56:12] {2392} INFO -  at 26.1s,\testimator rf's best error=0.8886,\tbest estimator rf's best error=0.8886\n",
      "[flaml.automl.logger: 07-07 23:56:12] {2219} INFO - iteration 99, current learner rf\n",
      "[flaml.automl.logger: 07-07 23:56:12] {2392} INFO -  at 26.2s,\testimator rf's best error=0.8886,\tbest estimator rf's best error=0.8886\n",
      "[flaml.automl.logger: 07-07 23:56:12] {2219} INFO - iteration 100, current learner rf\n",
      "[flaml.automl.logger: 07-07 23:56:12] {2392} INFO -  at 26.2s,\testimator rf's best error=0.8886,\tbest estimator rf's best error=0.8886\n",
      "[flaml.automl.logger: 07-07 23:56:12] {2219} INFO - iteration 101, current learner xgboost\n",
      "[flaml.automl.logger: 07-07 23:56:13] {2392} INFO -  at 27.3s,\testimator xgboost's best error=0.9762,\tbest estimator rf's best error=0.8886\n",
      "[flaml.automl.logger: 07-07 23:56:13] {2219} INFO - iteration 102, current learner rf\n",
      "[flaml.automl.logger: 07-07 23:56:13] {2392} INFO -  at 27.4s,\testimator rf's best error=0.8886,\tbest estimator rf's best error=0.8886\n",
      "[flaml.automl.logger: 07-07 23:56:13] {2219} INFO - iteration 103, current learner rf\n",
      "[flaml.automl.logger: 07-07 23:56:13] {2392} INFO -  at 27.4s,\testimator rf's best error=0.8886,\tbest estimator rf's best error=0.8886\n",
      "[flaml.automl.logger: 07-07 23:56:13] {2219} INFO - iteration 104, current learner rf\n",
      "[flaml.automl.logger: 07-07 23:56:13] {2392} INFO -  at 27.5s,\testimator rf's best error=0.8768,\tbest estimator rf's best error=0.8768\n",
      "[flaml.automl.logger: 07-07 23:56:13] {2219} INFO - iteration 105, current learner rf\n",
      "[flaml.automl.logger: 07-07 23:56:13] {2392} INFO -  at 27.6s,\testimator rf's best error=0.8768,\tbest estimator rf's best error=0.8768\n",
      "[flaml.automl.logger: 07-07 23:56:13] {2219} INFO - iteration 106, current learner rf\n",
      "[flaml.automl.logger: 07-07 23:56:13] {2392} INFO -  at 27.6s,\testimator rf's best error=0.8768,\tbest estimator rf's best error=0.8768\n",
      "[flaml.automl.logger: 07-07 23:56:13] {2219} INFO - iteration 107, current learner rf\n",
      "[flaml.automl.logger: 07-07 23:56:13] {2392} INFO -  at 27.7s,\testimator rf's best error=0.8768,\tbest estimator rf's best error=0.8768\n",
      "[flaml.automl.logger: 07-07 23:56:13] {2219} INFO - iteration 108, current learner rf\n",
      "[flaml.automl.logger: 07-07 23:56:13] {2392} INFO -  at 27.7s,\testimator rf's best error=0.8768,\tbest estimator rf's best error=0.8768\n",
      "[flaml.automl.logger: 07-07 23:56:13] {2219} INFO - iteration 109, current learner rf\n",
      "[flaml.automl.logger: 07-07 23:56:13] {2392} INFO -  at 27.8s,\testimator rf's best error=0.8768,\tbest estimator rf's best error=0.8768\n",
      "[flaml.automl.logger: 07-07 23:56:13] {2219} INFO - iteration 110, current learner rf\n",
      "[flaml.automl.logger: 07-07 23:56:13] {2392} INFO -  at 27.8s,\testimator rf's best error=0.8768,\tbest estimator rf's best error=0.8768\n",
      "[flaml.automl.logger: 07-07 23:56:13] {2219} INFO - iteration 111, current learner rf\n",
      "[flaml.automl.logger: 07-07 23:56:13] {2392} INFO -  at 27.9s,\testimator rf's best error=0.8768,\tbest estimator rf's best error=0.8768\n",
      "[flaml.automl.logger: 07-07 23:56:13] {2219} INFO - iteration 112, current learner rf\n",
      "[flaml.automl.logger: 07-07 23:56:13] {2392} INFO -  at 28.0s,\testimator rf's best error=0.8768,\tbest estimator rf's best error=0.8768\n",
      "[flaml.automl.logger: 07-07 23:56:13] {2219} INFO - iteration 113, current learner rf\n",
      "[flaml.automl.logger: 07-07 23:56:13] {2392} INFO -  at 28.0s,\testimator rf's best error=0.8768,\tbest estimator rf's best error=0.8768\n",
      "[flaml.automl.logger: 07-07 23:56:13] {2219} INFO - iteration 114, current learner rf\n",
      "[flaml.automl.logger: 07-07 23:56:14] {2392} INFO -  at 28.1s,\testimator rf's best error=0.8768,\tbest estimator rf's best error=0.8768\n",
      "[flaml.automl.logger: 07-07 23:56:14] {2219} INFO - iteration 115, current learner rf\n",
      "[flaml.automl.logger: 07-07 23:56:14] {2392} INFO -  at 28.1s,\testimator rf's best error=0.8768,\tbest estimator rf's best error=0.8768\n",
      "[flaml.automl.logger: 07-07 23:56:14] {2219} INFO - iteration 116, current learner rf\n",
      "[flaml.automl.logger: 07-07 23:56:14] {2392} INFO -  at 28.1s,\testimator rf's best error=0.8768,\tbest estimator rf's best error=0.8768\n",
      "[flaml.automl.logger: 07-07 23:56:14] {2219} INFO - iteration 117, current learner rf\n",
      "[flaml.automl.logger: 07-07 23:56:14] {2392} INFO -  at 28.2s,\testimator rf's best error=0.8768,\tbest estimator rf's best error=0.8768\n",
      "[flaml.automl.logger: 07-07 23:56:14] {2219} INFO - iteration 118, current learner rf\n",
      "[flaml.automl.logger: 07-07 23:56:14] {2392} INFO -  at 28.2s,\testimator rf's best error=0.8768,\tbest estimator rf's best error=0.8768\n",
      "[flaml.automl.logger: 07-07 23:56:14] {2219} INFO - iteration 119, current learner rf\n",
      "[flaml.automl.logger: 07-07 23:56:14] {2392} INFO -  at 28.3s,\testimator rf's best error=0.8768,\tbest estimator rf's best error=0.8768\n",
      "[flaml.automl.logger: 07-07 23:56:14] {2219} INFO - iteration 120, current learner rf\n",
      "[flaml.automl.logger: 07-07 23:56:14] {2392} INFO -  at 28.3s,\testimator rf's best error=0.8768,\tbest estimator rf's best error=0.8768\n",
      "[flaml.automl.logger: 07-07 23:56:14] {2219} INFO - iteration 121, current learner rf\n",
      "[flaml.automl.logger: 07-07 23:56:14] {2392} INFO -  at 28.4s,\testimator rf's best error=0.8768,\tbest estimator rf's best error=0.8768\n",
      "[flaml.automl.logger: 07-07 23:56:14] {2219} INFO - iteration 122, current learner rf\n",
      "[flaml.automl.logger: 07-07 23:56:14] {2392} INFO -  at 28.4s,\testimator rf's best error=0.8768,\tbest estimator rf's best error=0.8768\n",
      "[flaml.automl.logger: 07-07 23:56:14] {2219} INFO - iteration 123, current learner rf\n",
      "[flaml.automl.logger: 07-07 23:56:14] {2392} INFO -  at 28.5s,\testimator rf's best error=0.8768,\tbest estimator rf's best error=0.8768\n",
      "[flaml.automl.logger: 07-07 23:56:14] {2219} INFO - iteration 124, current learner rf\n",
      "[flaml.automl.logger: 07-07 23:56:14] {2392} INFO -  at 28.6s,\testimator rf's best error=0.8768,\tbest estimator rf's best error=0.8768\n",
      "[flaml.automl.logger: 07-07 23:56:14] {2219} INFO - iteration 125, current learner rf\n",
      "[flaml.automl.logger: 07-07 23:56:14] {2392} INFO -  at 28.6s,\testimator rf's best error=0.8768,\tbest estimator rf's best error=0.8768\n",
      "[flaml.automl.logger: 07-07 23:56:14] {2219} INFO - iteration 126, current learner rf\n",
      "[flaml.automl.logger: 07-07 23:56:14] {2392} INFO -  at 28.7s,\testimator rf's best error=0.8768,\tbest estimator rf's best error=0.8768\n",
      "[flaml.automl.logger: 07-07 23:56:14] {2219} INFO - iteration 127, current learner rf\n",
      "[flaml.automl.logger: 07-07 23:56:14] {2392} INFO -  at 28.7s,\testimator rf's best error=0.8768,\tbest estimator rf's best error=0.8768\n",
      "[flaml.automl.logger: 07-07 23:56:14] {2219} INFO - iteration 128, current learner rf\n",
      "[flaml.automl.logger: 07-07 23:56:14] {2392} INFO -  at 28.8s,\testimator rf's best error=0.8768,\tbest estimator rf's best error=0.8768\n",
      "[flaml.automl.logger: 07-07 23:56:14] {2219} INFO - iteration 129, current learner rf\n",
      "[flaml.automl.logger: 07-07 23:56:14] {2392} INFO -  at 28.9s,\testimator rf's best error=0.8768,\tbest estimator rf's best error=0.8768\n",
      "[flaml.automl.logger: 07-07 23:56:14] {2219} INFO - iteration 130, current learner rf\n",
      "[flaml.automl.logger: 07-07 23:56:14] {2392} INFO -  at 28.9s,\testimator rf's best error=0.8768,\tbest estimator rf's best error=0.8768\n",
      "[flaml.automl.logger: 07-07 23:56:14] {2219} INFO - iteration 131, current learner rf\n",
      "[flaml.automl.logger: 07-07 23:56:14] {2392} INFO -  at 29.0s,\testimator rf's best error=0.8768,\tbest estimator rf's best error=0.8768\n",
      "[flaml.automl.logger: 07-07 23:56:14] {2219} INFO - iteration 132, current learner rf\n",
      "[flaml.automl.logger: 07-07 23:56:14] {2392} INFO -  at 29.0s,\testimator rf's best error=0.8768,\tbest estimator rf's best error=0.8768\n",
      "[flaml.automl.logger: 07-07 23:56:14] {2219} INFO - iteration 133, current learner rf\n",
      "[flaml.automl.logger: 07-07 23:56:15] {2392} INFO -  at 29.1s,\testimator rf's best error=0.8768,\tbest estimator rf's best error=0.8768\n",
      "[flaml.automl.logger: 07-07 23:56:15] {2219} INFO - iteration 134, current learner rf\n",
      "[flaml.automl.logger: 07-07 23:56:15] {2392} INFO -  at 29.2s,\testimator rf's best error=0.8768,\tbest estimator rf's best error=0.8768\n",
      "[flaml.automl.logger: 07-07 23:56:15] {2219} INFO - iteration 135, current learner rf\n",
      "[flaml.automl.logger: 07-07 23:56:15] {2392} INFO -  at 29.2s,\testimator rf's best error=0.8768,\tbest estimator rf's best error=0.8768\n",
      "[flaml.automl.logger: 07-07 23:56:15] {2219} INFO - iteration 136, current learner rf\n",
      "[flaml.automl.logger: 07-07 23:56:15] {2392} INFO -  at 29.3s,\testimator rf's best error=0.8768,\tbest estimator rf's best error=0.8768\n",
      "[flaml.automl.logger: 07-07 23:56:15] {2219} INFO - iteration 137, current learner rf\n",
      "[flaml.automl.logger: 07-07 23:56:15] {2392} INFO -  at 29.3s,\testimator rf's best error=0.8768,\tbest estimator rf's best error=0.8768\n",
      "[flaml.automl.logger: 07-07 23:56:15] {2219} INFO - iteration 138, current learner rf\n",
      "[flaml.automl.logger: 07-07 23:56:15] {2392} INFO -  at 29.4s,\testimator rf's best error=0.8768,\tbest estimator rf's best error=0.8768\n",
      "[flaml.automl.logger: 07-07 23:56:15] {2219} INFO - iteration 139, current learner rf\n",
      "[flaml.automl.logger: 07-07 23:56:15] {2392} INFO -  at 29.4s,\testimator rf's best error=0.8768,\tbest estimator rf's best error=0.8768\n",
      "[flaml.automl.logger: 07-07 23:56:15] {2219} INFO - iteration 140, current learner rf\n",
      "[flaml.automl.logger: 07-07 23:56:15] {2392} INFO -  at 29.5s,\testimator rf's best error=0.8768,\tbest estimator rf's best error=0.8768\n",
      "[flaml.automl.logger: 07-07 23:56:15] {2219} INFO - iteration 141, current learner rf\n",
      "[flaml.automl.logger: 07-07 23:56:15] {2392} INFO -  at 29.5s,\testimator rf's best error=0.8768,\tbest estimator rf's best error=0.8768\n",
      "[flaml.automl.logger: 07-07 23:56:15] {2219} INFO - iteration 142, current learner rf\n",
      "[flaml.automl.logger: 07-07 23:56:15] {2392} INFO -  at 29.6s,\testimator rf's best error=0.8768,\tbest estimator rf's best error=0.8768\n",
      "[flaml.automl.logger: 07-07 23:56:15] {2219} INFO - iteration 143, current learner rf\n",
      "[flaml.automl.logger: 07-07 23:56:15] {2392} INFO -  at 29.7s,\testimator rf's best error=0.8768,\tbest estimator rf's best error=0.8768\n",
      "[flaml.automl.logger: 07-07 23:56:15] {2219} INFO - iteration 144, current learner rf\n",
      "[flaml.automl.logger: 07-07 23:56:15] {2392} INFO -  at 29.7s,\testimator rf's best error=0.8768,\tbest estimator rf's best error=0.8768\n",
      "[flaml.automl.logger: 07-07 23:56:15] {2219} INFO - iteration 145, current learner rf\n",
      "[flaml.automl.logger: 07-07 23:56:15] {2392} INFO -  at 29.8s,\testimator rf's best error=0.8768,\tbest estimator rf's best error=0.8768\n",
      "[flaml.automl.logger: 07-07 23:56:15] {2219} INFO - iteration 146, current learner rf\n",
      "[flaml.automl.logger: 07-07 23:56:15] {2392} INFO -  at 29.8s,\testimator rf's best error=0.8768,\tbest estimator rf's best error=0.8768\n",
      "[flaml.automl.logger: 07-07 23:56:15] {2219} INFO - iteration 147, current learner rf\n",
      "[flaml.automl.logger: 07-07 23:56:15] {2392} INFO -  at 29.9s,\testimator rf's best error=0.8768,\tbest estimator rf's best error=0.8768\n",
      "[flaml.automl.logger: 07-07 23:56:15] {2219} INFO - iteration 148, current learner rf\n",
      "[flaml.automl.logger: 07-07 23:56:15] {2392} INFO -  at 29.9s,\testimator rf's best error=0.8768,\tbest estimator rf's best error=0.8768\n",
      "[flaml.automl.logger: 07-07 23:56:15] {2219} INFO - iteration 149, current learner rf\n",
      "[flaml.automl.logger: 07-07 23:56:15] {2392} INFO -  at 30.0s,\testimator rf's best error=0.8768,\tbest estimator rf's best error=0.8768\n",
      "[flaml.automl.logger: 07-07 23:56:16] {2628} INFO - retrain rf for 0.1s\n",
      "[flaml.automl.logger: 07-07 23:56:16] {2631} INFO - retrained model: RandomForestRegressor(max_features=np.float64(0.6289819396739678),\n",
      "                      max_leaf_nodes=4, n_estimators=6, n_jobs=-1,\n",
      "                      random_state=12032022)\n",
      "[flaml.automl.logger: 07-07 23:56:16] {1931} INFO - fit succeeded\n",
      "[flaml.automl.logger: 07-07 23:56:16] {1932} INFO - Time taken to find the best model: 27.50126552581787\n",
      "Fold correlation: 0.29649032940591835\n"
     ]
    }
   ],
   "source": [
    "trainer.train()"
   ]
  },
  {
   "cell_type": "code",
   "execution_count": 15,
   "metadata": {},
   "outputs": [],
   "source": [
    "trainers = [trainer]"
   ]
  },
  {
   "cell_type": "code",
   "execution_count": 17,
   "metadata": {},
   "outputs": [
    {
     "name": "stderr",
     "output_type": "stream",
     "text": [
      "INFO:refract.utils:Aggregating SHAP values and predictions...\n",
      "INFO:refract.utils:Saving training results to train_results.csv...\n",
      "INFO:refract.utils:Plotting scatterplot to train_results.png...\n",
      "INFO:refract.utils:Computing pearson correlation...\n",
      "INFO:refract.utils:Overall test correlation: 0.2964903294059182\n",
      "INFO:refract.utils:Saving SHAP summary plot to shap_summary_plot.png...\n",
      "INFO:refract.utils:Getting top features...\n",
      "INFO:refract.utils:Saving the SHAP values and top feature names...\n",
      "INFO:refract.utils:Getting network interactions...\n",
      "INFO:refract.utils:Saving training details...\n"
     ]
    }
   ],
   "source": [
    "save_output(trainers, output_dir)"
   ]
  },
  {
   "cell_type": "code",
   "execution_count": 18,
   "metadata": {},
   "outputs": [],
   "source": [
    "# Lets configure some runs\n",
    "test_cmd = f\"python run_training.py --drug_name {drug_name} --response_dir {response_dir} --feature_path {feature_path} --output_dir {output_dir} --neighborhood_json {neighborhood_json}\""
   ]
  },
  {
   "cell_type": "code",
   "execution_count": 19,
   "metadata": {},
   "outputs": [
    {
     "data": {
      "text/plain": [
       "'python run_training.py --drug_name birinapant --response_dir /scratch/users/nphill22/projects/corsello_lab/20240706_retrain_feature_select/data/responses --feature_path /scratch/users/nphill22/projects/corsello_lab/20240706_retrain_feature_select/data/processed_data/x-all.pkl --output_dir /scratch/users/nphill22/projects/corsello_lab/20240706_retrain_feature_select/outputs/small_test --neighborhood_json /scratch/users/nphill22/projects/corsello_lab/20240706_retrain_feature_select/refract/notebooks/20240706_feature_selection/neighbors.json'"
      ]
     },
     "execution_count": 19,
     "metadata": {},
     "output_type": "execute_result"
    }
   ],
   "source": [
    "test_cmd"
   ]
  },
  {
   "cell_type": "code",
   "execution_count": null,
   "metadata": {},
   "outputs": [],
   "source": [
    "python run_training.py --drug_name birinapant --response_dir /scratch/users/nphill22/projects/corsello_lab/20240706_retrain_feature_select/data/responses --feature_path /scratch/users/nphill22/projects/corsello_lab/20240706_retrain_feature_select/data/processed_data/x-all.pkl --output_dir /scratch/users/nphill22/projects/corsello_lab/20240706_retrain_feature_select/outputs/small_test_end_to_end --neighborhood_json /scratch/users/nphill22/projects/corsello_lab/20240706_retrain_feature_select/refract/notebooks/20240706_feature_selection/neighbors.json"
   ]
  },
  {
   "cell_type": "code",
   "execution_count": 7,
   "metadata": {},
   "outputs": [],
   "source": [
    "import pandas as pd\n",
    "import numpy as np\n",
    "import os\n",
    "import sys"
   ]
  },
  {
   "cell_type": "code",
   "execution_count": 8,
   "metadata": {},
   "outputs": [
    {
     "name": "stderr",
     "output_type": "stream",
     "text": [
      "INFO:__main__:Loading response data...\n"
     ]
    }
   ],
   "source": [
    "logger.info(\"Loading response data...\")\n",
    "response_files = glob.glob(os.path.join(response_dir, \"*.csv\"))\n",
    "response_data = {}\n",
    "for response_file in response_files:\n",
    "    response_name = os.path.basename(response_file).replace(\".csv\", \"\")\n",
    "    response_data[response_name] = pd.read_csv(response_file)\n",
    "# for every one, select LFC.CB, pert_name, ccle_name\n",
    "response_data = {k: v.loc[:, [\"LFC.cb\", \"pert_name\", \"ccle_name\"]] for k, v in response_data.items()}\n",
    "# concatenate all responses\n",
    "response_data = pd.concat(response_data.values(), axis=0)\n",
    "# drop duplicates on pert_name, ccle_name\n",
    "response_data = response_data.drop_duplicates(subset=[\"pert_name\", \"ccle_name\"])\n",
    "# pivot so ccle_name is the columns and pert_name is the index\n",
    "response_data = response_data.pivot(index=\"pert_name\", columns=\"ccle_name\", values=\"LFC.cb\")    # get responses for all these\n"
   ]
  },
  {
   "cell_type": "code",
   "execution_count": 12,
   "metadata": {},
   "outputs": [],
   "source": [
    "perts = list(set(response_data.index.values))"
   ]
  },
  {
   "cell_type": "code",
   "execution_count": 14,
   "metadata": {},
   "outputs": [],
   "source": [
    "# take a random sample of 100\n",
    "rand_perts = np.random.choice(perts, 100, replace=False)"
   ]
  },
  {
   "cell_type": "code",
   "execution_count": 17,
   "metadata": {},
   "outputs": [],
   "source": [
    "# save to file\n",
    "with open(\"med_test_drugs.txt\", \"w\") as f:\n",
    "    for pert in rand_perts:\n",
    "        f.write(pert + \"\\n\")"
   ]
  },
  {
   "cell_type": "markdown",
   "metadata": {},
   "source": [
    "# Read the PRISM output and get a sampling of a range of pearson score drugs"
   ]
  },
  {
   "cell_type": "code",
   "execution_count": 9,
   "metadata": {},
   "outputs": [],
   "source": [
    "model_out = glob.glob(\"/scratch/users/nphill22/projects/corsello_lab/20240313_prism_final_reruns/new_baseline/output/*/Model_table.csv\")"
   ]
  },
  {
   "cell_type": "code",
   "execution_count": 10,
   "metadata": {},
   "outputs": [],
   "source": [
    "prism_perf = pd.concat([pd.read_csv(f) for f in model_out], axis=0)"
   ]
  },
  {
   "cell_type": "code",
   "execution_count": 12,
   "metadata": {},
   "outputs": [],
   "source": [
    "prism_perf = prism_perf.loc[prism_perf.model == \"all\", :]"
   ]
  },
  {
   "cell_type": "code",
   "execution_count": 14,
   "metadata": {},
   "outputs": [
    {
     "data": {
      "text/html": [
       "<div>\n",
       "<style scoped>\n",
       "    .dataframe tbody tr th:only-of-type {\n",
       "        vertical-align: middle;\n",
       "    }\n",
       "\n",
       "    .dataframe tbody tr th {\n",
       "        vertical-align: top;\n",
       "    }\n",
       "\n",
       "    .dataframe thead th {\n",
       "        text-align: right;\n",
       "    }\n",
       "</style>\n",
       "<table border=\"1\" class=\"dataframe\">\n",
       "  <thead>\n",
       "    <tr style=\"text-align: right;\">\n",
       "      <th></th>\n",
       "      <th>MSE</th>\n",
       "      <th>MSE.se</th>\n",
       "      <th>R2</th>\n",
       "      <th>PearsonScore</th>\n",
       "      <th>pert_mfc_id</th>\n",
       "      <th>pert_name</th>\n",
       "      <th>pert_idose</th>\n",
       "      <th>model</th>\n",
       "    </tr>\n",
       "  </thead>\n",
       "  <tbody>\n",
       "    <tr>\n",
       "      <th>0</th>\n",
       "      <td>0.535591</td>\n",
       "      <td>0.034252</td>\n",
       "      <td>0.031246</td>\n",
       "      <td>0.203915</td>\n",
       "      <td>BRD:BRD-K49522529-001-02-9</td>\n",
       "      <td>alfacalcidol</td>\n",
       "      <td>2.530000</td>\n",
       "      <td>all</td>\n",
       "    </tr>\n",
       "    <tr>\n",
       "      <th>0</th>\n",
       "      <td>0.138923</td>\n",
       "      <td>0.010593</td>\n",
       "      <td>0.002905</td>\n",
       "      <td>0.149334</td>\n",
       "      <td>BRD:BRD-K94379058-001-06-8</td>\n",
       "      <td>bml-190</td>\n",
       "      <td>2.500000</td>\n",
       "      <td>all</td>\n",
       "    </tr>\n",
       "    <tr>\n",
       "      <th>0</th>\n",
       "      <td>0.091434</td>\n",
       "      <td>0.006196</td>\n",
       "      <td>-0.065392</td>\n",
       "      <td>0.034882</td>\n",
       "      <td>BRD:BRD-K57427145-001-01-6</td>\n",
       "      <td>ripazepam</td>\n",
       "      <td>2.500000</td>\n",
       "      <td>all</td>\n",
       "    </tr>\n",
       "    <tr>\n",
       "      <th>0</th>\n",
       "      <td>0.189311</td>\n",
       "      <td>0.016263</td>\n",
       "      <td>-0.077014</td>\n",
       "      <td>-0.030325</td>\n",
       "      <td>BRD:BRD-K80315159-051-02-0</td>\n",
       "      <td>dppe</td>\n",
       "      <td>2.500000</td>\n",
       "      <td>all</td>\n",
       "    </tr>\n",
       "    <tr>\n",
       "      <th>0</th>\n",
       "      <td>0.290285</td>\n",
       "      <td>0.018736</td>\n",
       "      <td>-0.034425</td>\n",
       "      <td>0.074175</td>\n",
       "      <td>BRD:BRD-K34073885-001-09-3</td>\n",
       "      <td>tanshinone-i</td>\n",
       "      <td>2.540000</td>\n",
       "      <td>all</td>\n",
       "    </tr>\n",
       "    <tr>\n",
       "      <th>...</th>\n",
       "      <td>...</td>\n",
       "      <td>...</td>\n",
       "      <td>...</td>\n",
       "      <td>...</td>\n",
       "      <td>...</td>\n",
       "      <td>...</td>\n",
       "      <td>...</td>\n",
       "      <td>...</td>\n",
       "    </tr>\n",
       "    <tr>\n",
       "      <th>0</th>\n",
       "      <td>0.096832</td>\n",
       "      <td>0.008312</td>\n",
       "      <td>-0.083503</td>\n",
       "      <td>0.048577</td>\n",
       "      <td>BRD:BRD-K21586122-001-01-9</td>\n",
       "      <td>fimasartan</td>\n",
       "      <td>2.500008</td>\n",
       "      <td>all</td>\n",
       "    </tr>\n",
       "    <tr>\n",
       "      <th>0</th>\n",
       "      <td>1.106020</td>\n",
       "      <td>0.082285</td>\n",
       "      <td>0.107805</td>\n",
       "      <td>0.325976</td>\n",
       "      <td>BRD:BRD-K24715592-406-02-1</td>\n",
       "      <td>ethacridine-lactate-monohydrate</td>\n",
       "      <td>2.530000</td>\n",
       "      <td>all</td>\n",
       "    </tr>\n",
       "    <tr>\n",
       "      <th>0</th>\n",
       "      <td>0.072736</td>\n",
       "      <td>0.006479</td>\n",
       "      <td>-0.038580</td>\n",
       "      <td>0.071842</td>\n",
       "      <td>BRD:BRD-K53438416-001-01-9</td>\n",
       "      <td>yz9</td>\n",
       "      <td>2.500000</td>\n",
       "      <td>all</td>\n",
       "    </tr>\n",
       "    <tr>\n",
       "      <th>0</th>\n",
       "      <td>0.240671</td>\n",
       "      <td>0.017085</td>\n",
       "      <td>0.029977</td>\n",
       "      <td>0.188852</td>\n",
       "      <td>BRD:BRD-K00003370-001-01-9</td>\n",
       "      <td>cadazolid</td>\n",
       "      <td>2.500000</td>\n",
       "      <td>all</td>\n",
       "    </tr>\n",
       "    <tr>\n",
       "      <th>0</th>\n",
       "      <td>0.116068</td>\n",
       "      <td>0.008484</td>\n",
       "      <td>-0.037050</td>\n",
       "      <td>0.018937</td>\n",
       "      <td>BRD:BRD-K90885812-004-24-2</td>\n",
       "      <td>propantheline</td>\n",
       "      <td>2.500000</td>\n",
       "      <td>all</td>\n",
       "    </tr>\n",
       "  </tbody>\n",
       "</table>\n",
       "<p>6639 rows × 8 columns</p>\n",
       "</div>"
      ],
      "text/plain": [
       "         MSE    MSE.se        R2  PearsonScore                 pert_mfc_id  \\\n",
       "0   0.535591  0.034252  0.031246      0.203915  BRD:BRD-K49522529-001-02-9   \n",
       "0   0.138923  0.010593  0.002905      0.149334  BRD:BRD-K94379058-001-06-8   \n",
       "0   0.091434  0.006196 -0.065392      0.034882  BRD:BRD-K57427145-001-01-6   \n",
       "0   0.189311  0.016263 -0.077014     -0.030325  BRD:BRD-K80315159-051-02-0   \n",
       "0   0.290285  0.018736 -0.034425      0.074175  BRD:BRD-K34073885-001-09-3   \n",
       "..       ...       ...       ...           ...                         ...   \n",
       "0   0.096832  0.008312 -0.083503      0.048577  BRD:BRD-K21586122-001-01-9   \n",
       "0   1.106020  0.082285  0.107805      0.325976  BRD:BRD-K24715592-406-02-1   \n",
       "0   0.072736  0.006479 -0.038580      0.071842  BRD:BRD-K53438416-001-01-9   \n",
       "0   0.240671  0.017085  0.029977      0.188852  BRD:BRD-K00003370-001-01-9   \n",
       "0   0.116068  0.008484 -0.037050      0.018937  BRD:BRD-K90885812-004-24-2   \n",
       "\n",
       "                          pert_name  pert_idose model  \n",
       "0                      alfacalcidol    2.530000   all  \n",
       "0                           bml-190    2.500000   all  \n",
       "0                         ripazepam    2.500000   all  \n",
       "0                              dppe    2.500000   all  \n",
       "0                      tanshinone-i    2.540000   all  \n",
       "..                              ...         ...   ...  \n",
       "0                        fimasartan    2.500008   all  \n",
       "0   ethacridine-lactate-monohydrate    2.530000   all  \n",
       "0                               yz9    2.500000   all  \n",
       "0                         cadazolid    2.500000   all  \n",
       "0                     propantheline    2.500000   all  \n",
       "\n",
       "[6639 rows x 8 columns]"
      ]
     },
     "execution_count": 14,
     "metadata": {},
     "output_type": "execute_result"
    }
   ],
   "source": [
    "prism_perf"
   ]
  },
  {
   "cell_type": "code",
   "execution_count": 15,
   "metadata": {},
   "outputs": [
    {
     "name": "stderr",
     "output_type": "stream",
     "text": [
      "/tmp/ipykernel_21548/1647639671.py:2: SettingWithCopyWarning: \n",
      "A value is trying to be set on a copy of a slice from a DataFrame.\n",
      "Try using .loc[row_indexer,col_indexer] = value instead\n",
      "\n",
      "See the caveats in the documentation: https://pandas.pydata.org/pandas-docs/stable/user_guide/indexing.html#returning-a-view-versus-a-copy\n",
      "  prism_perf['decile'] = pd.qcut(prism_perf['PearsonScore'], 10, labels=False)\n"
     ]
    }
   ],
   "source": [
    "# assign decile\n",
    "prism_perf['decile'] = pd.qcut(prism_perf['PearsonScore'], 10, labels=False)"
   ]
  },
  {
   "cell_type": "code",
   "execution_count": 17,
   "metadata": {},
   "outputs": [],
   "source": [
    "# randomly sample 10 per decile\n",
    "rand_perts = []\n",
    "for i in range(10):\n",
    "    decile_perts = prism_perf.loc[prism_perf.decile == i, \"pert_name\"].values\n",
    "    rand_perts.extend(np.random.choice(decile_perts, 10, replace=False))"
   ]
  },
  {
   "cell_type": "code",
   "execution_count": 21,
   "metadata": {},
   "outputs": [],
   "source": [
    "# verify these are in the response data\n",
    "checks = []\n",
    "for pert in rand_perts:\n",
    "    checks.append(pert in response_data.index.values)"
   ]
  },
  {
   "cell_type": "code",
   "execution_count": 25,
   "metadata": {},
   "outputs": [
    {
     "data": {
      "text/plain": [
       "True"
      ]
     },
     "execution_count": 25,
     "metadata": {},
     "output_type": "execute_result"
    }
   ],
   "source": [
    "# any false?\n",
    "all(checks)"
   ]
  },
  {
   "cell_type": "code",
   "execution_count": 27,
   "metadata": {},
   "outputs": [],
   "source": [
    "# save to file\n",
    "with open(\"sampled_drugs.txt\", \"w\") as f:\n",
    "    for pert in rand_perts:\n",
    "        f.write(pert + \"\\n\")"
   ]
  },
  {
   "cell_type": "code",
   "execution_count": null,
   "metadata": {},
   "outputs": [],
   "source": []
  }
 ],
 "metadata": {
  "kernelspec": {
   "display_name": "prism",
   "language": "python",
   "name": "python3"
  },
  "language_info": {
   "codemirror_mode": {
    "name": "ipython",
    "version": 3
   },
   "file_extension": ".py",
   "mimetype": "text/x-python",
   "name": "python",
   "nbconvert_exporter": "python",
   "pygments_lexer": "ipython3",
   "version": "3.11.9"
  },
  "orig_nbformat": 4
 },
 "nbformat": 4,
 "nbformat_minor": 2
}
