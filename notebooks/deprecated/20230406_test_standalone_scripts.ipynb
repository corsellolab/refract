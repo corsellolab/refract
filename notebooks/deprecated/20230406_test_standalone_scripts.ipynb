{
 "cells": [
  {
   "cell_type": "code",
   "execution_count": 1,
   "metadata": {},
   "outputs": [],
   "source": [
    "# verify the standalone scripts work\n",
    "response_path = \"/mnt/c/Users/nick/Desktop/courses/rotations/corsello_lab/data/responsedir/amg-232_v2.csv\"\n",
    "feature_dir = \"/mnt/c/Users/nick/Desktop/courses/rotations/corsello_lab/data/depmap_public-22q1-305b_v24\"\n",
    "output_dir = \"test_output\"\n"
   ]
  },
  {
   "cell_type": "code",
   "execution_count": 2,
   "metadata": {},
   "outputs": [],
   "source": [
    "import os\n",
    "import sys"
   ]
  },
  {
   "cell_type": "code",
   "execution_count": 3,
   "metadata": {},
   "outputs": [],
   "source": [
    "sys.path.append(\"../refract\")"
   ]
  },
  {
   "cell_type": "code",
   "execution_count": 4,
   "metadata": {},
   "outputs": [],
   "source": [
    "from run import run"
   ]
  },
  {
   "cell_type": "code",
   "execution_count": 5,
   "metadata": {},
   "outputs": [
    {
     "name": "stderr",
     "output_type": "stream",
     "text": [
      "DEBUG:root:test\n"
     ]
    }
   ],
   "source": [
    "import logging\n",
    "logger = logging.getLogger()\n",
    "logger.setLevel(logging.DEBUG)\n",
    "logging.debug(\"test\")"
   ]
  },
  {
   "cell_type": "code",
   "execution_count": 6,
   "metadata": {},
   "outputs": [
    {
     "name": "stderr",
     "output_type": "stream",
     "text": [
      "INFO:root:Loading response data...\n",
      "INFO:root:Loading feature data...\n",
      "INFO:root:Training model...\n",
      "INFO:trainers:Found 1 unique runs\n",
      "INFO:trainers:Using feature set: X_all\n",
      "INFO:trainers:    Training model for run AMG-232, BRD-K64925568-001-01-8, 2.5\n"
     ]
    },
    {
     "name": "stdout",
     "output_type": "stream",
     "text": [
      "Total responses: 539\n",
      "Number of responses with features: 379\n",
      "Number of features: 104065\n"
     ]
    },
    {
     "name": "stderr",
     "output_type": "stream",
     "text": [
      "INFO:trainers:Using feature set: X_ccle\n",
      "INFO:trainers:    Training model for run AMG-232, BRD-K64925568-001-01-8, 2.5\n"
     ]
    },
    {
     "name": "stdout",
     "output_type": "stream",
     "text": [
      "Total responses: 539\n",
      "Number of responses with features: 531\n",
      "Number of features: 85577\n"
     ]
    },
    {
     "name": "stderr",
     "output_type": "stream",
     "text": [
      "INFO:root:done\n"
     ]
    }
   ],
   "source": [
    "run(response_path, feature_dir, output_dir, None)"
   ]
  },
  {
   "cell_type": "code",
   "execution_count": 15,
   "metadata": {},
   "outputs": [],
   "source": [
    "import os\n",
    "from datasets import ResponseSet, FeatureSet\n",
    "from trainers import RFBaseTrainer\n",
    "from utils import RandomForestConfig\n",
    "import json\n",
    "import argparse\n",
    "import logging"
   ]
  },
  {
   "cell_type": "code",
   "execution_count": 16,
   "metadata": {},
   "outputs": [
    {
     "name": "stderr",
     "output_type": "stream",
     "text": [
      "INFO:root:Loading response data...\n",
      "INFO:root:Loading feature data...\n"
     ]
    }
   ],
   "source": [
    "logging.info(\"Loading response data...\")\n",
    "response_set = ResponseSet(response_path)\n",
    "response_set.load_response_table()\n",
    "logging.info(\"Loading feature data...\")\n",
    "feature_set = FeatureSet(feature_dir)\n",
    "feature_set.load_concatenated_feature_tables()"
   ]
  },
  {
   "cell_type": "code",
   "execution_count": 20,
   "metadata": {},
   "outputs": [],
   "source": [
    "config = RandomForestConfig(n_jobs=14)"
   ]
  },
  {
   "cell_type": "code",
   "execution_count": 17,
   "metadata": {},
   "outputs": [],
   "source": [
    "trainer = RFBaseTrainer()"
   ]
  },
  {
   "cell_type": "code",
   "execution_count": 22,
   "metadata": {},
   "outputs": [
    {
     "name": "stderr",
     "output_type": "stream",
     "text": [
      "INFO:trainers:Found 1 unique runs\n",
      "INFO:trainers:Using feature set: X_all\n",
      "INFO:trainers:    Training model for run AMG-232, BRD-K64925568-001-01-8, 2.5\n"
     ]
    },
    {
     "name": "stdout",
     "output_type": "stream",
     "text": [
      "Total responses: 539\n",
      "Number of responses with features: 379\n",
      "Number of features: 104065\n"
     ]
    },
    {
     "name": "stderr",
     "output_type": "stream",
     "text": [
      "/mnt/c/Users/nick/Desktop/courses/rotations/corsello_lab/refract/notebooks/../refract/trainers.py:51: DataConversionWarning: A column-vector y was passed when a 1d array was expected. Please change the shape of y to (n_samples,), for example using ravel().\n",
      "  rf.fit(X, y)\n"
     ]
    },
    {
     "ename": "ValueError",
     "evalue": "all the input array dimensions for the concatenation axis must match exactly, but along dimension 1, the array at index 0 has size 1 and the array at index 1 has size 379",
     "output_type": "error",
     "traceback": [
      "\u001b[0;31m---------------------------------------------------------------------------\u001b[0m",
      "\u001b[0;31mValueError\u001b[0m                                Traceback (most recent call last)",
      "Cell \u001b[0;32mIn[22], line 1\u001b[0m\n\u001b[0;32m----> 1\u001b[0m trainer\u001b[39m.\u001b[39;49mtrain(\n\u001b[1;32m      2\u001b[0m     response_set\u001b[39m=\u001b[39;49mresponse_set,\n\u001b[1;32m      3\u001b[0m     feature_set\u001b[39m=\u001b[39;49mfeature_set,\n\u001b[1;32m      4\u001b[0m     config\u001b[39m=\u001b[39;49mconfig,\n\u001b[1;32m      5\u001b[0m     output_dir\u001b[39m=\u001b[39;49moutput_dir\n\u001b[1;32m      6\u001b[0m )\n",
      "File \u001b[0;32m/mnt/c/Users/nick/Desktop/courses/rotations/corsello_lab/refract/notebooks/../refract/trainers.py:72\u001b[0m, in \u001b[0;36mRFBaseTrainer.train\u001b[0;34m(self, feature_set, response_set, output_dir, config)\u001b[0m\n\u001b[1;32m     70\u001b[0m mse_se \u001b[39m=\u001b[39m mse \u001b[39m/\u001b[39m \u001b[39mlen\u001b[39m(y_true)\n\u001b[1;32m     71\u001b[0m r2 \u001b[39m=\u001b[39m rf\u001b[39m.\u001b[39mscore(X, y)\n\u001b[0;32m---> 72\u001b[0m pearson \u001b[39m=\u001b[39m np\u001b[39m.\u001b[39;49mcorrcoef(y_true, y_pred)[\u001b[39m0\u001b[39m, \u001b[39m1\u001b[39m]\n\u001b[1;32m     73\u001b[0m model_stats\u001b[39m.\u001b[39mappend({\n\u001b[1;32m     74\u001b[0m     \u001b[39m\"\u001b[39m\u001b[39mpert_name\u001b[39m\u001b[39m\"\u001b[39m: pert_name,\n\u001b[1;32m     75\u001b[0m     \u001b[39m\"\u001b[39m\u001b[39mpert_mfc_id\u001b[39m\u001b[39m\"\u001b[39m: pert_mfc_id,\n\u001b[0;32m   (...)\u001b[0m\n\u001b[1;32m     81\u001b[0m     \u001b[39m\"\u001b[39m\u001b[39mpearson\u001b[39m\u001b[39m\"\u001b[39m: pearson\n\u001b[1;32m     82\u001b[0m })\n\u001b[1;32m     84\u001b[0m \u001b[39m# save feature importance output\u001b[39;00m\n",
      "File \u001b[0;32m<__array_function__ internals>:180\u001b[0m, in \u001b[0;36mcorrcoef\u001b[0;34m(*args, **kwargs)\u001b[0m\n",
      "File \u001b[0;32m~/miniconda3/envs/corlab/lib/python3.10/site-packages/numpy/lib/function_base.py:2845\u001b[0m, in \u001b[0;36mcorrcoef\u001b[0;34m(x, y, rowvar, bias, ddof, dtype)\u001b[0m\n\u001b[1;32m   2841\u001b[0m \u001b[39mif\u001b[39;00m bias \u001b[39mis\u001b[39;00m \u001b[39mnot\u001b[39;00m np\u001b[39m.\u001b[39m_NoValue \u001b[39mor\u001b[39;00m ddof \u001b[39mis\u001b[39;00m \u001b[39mnot\u001b[39;00m np\u001b[39m.\u001b[39m_NoValue:\n\u001b[1;32m   2842\u001b[0m     \u001b[39m# 2015-03-15, 1.10\u001b[39;00m\n\u001b[1;32m   2843\u001b[0m     warnings\u001b[39m.\u001b[39mwarn(\u001b[39m'\u001b[39m\u001b[39mbias and ddof have no effect and are deprecated\u001b[39m\u001b[39m'\u001b[39m,\n\u001b[1;32m   2844\u001b[0m                   \u001b[39mDeprecationWarning\u001b[39;00m, stacklevel\u001b[39m=\u001b[39m\u001b[39m3\u001b[39m)\n\u001b[0;32m-> 2845\u001b[0m c \u001b[39m=\u001b[39m cov(x, y, rowvar, dtype\u001b[39m=\u001b[39;49mdtype)\n\u001b[1;32m   2846\u001b[0m \u001b[39mtry\u001b[39;00m:\n\u001b[1;32m   2847\u001b[0m     d \u001b[39m=\u001b[39m diag(c)\n",
      "File \u001b[0;32m<__array_function__ internals>:180\u001b[0m, in \u001b[0;36mcov\u001b[0;34m(*args, **kwargs)\u001b[0m\n",
      "File \u001b[0;32m~/miniconda3/envs/corlab/lib/python3.10/site-packages/numpy/lib/function_base.py:2639\u001b[0m, in \u001b[0;36mcov\u001b[0;34m(m, y, rowvar, bias, ddof, fweights, aweights, dtype)\u001b[0m\n\u001b[1;32m   2637\u001b[0m     \u001b[39mif\u001b[39;00m \u001b[39mnot\u001b[39;00m rowvar \u001b[39mand\u001b[39;00m y\u001b[39m.\u001b[39mshape[\u001b[39m0\u001b[39m] \u001b[39m!=\u001b[39m \u001b[39m1\u001b[39m:\n\u001b[1;32m   2638\u001b[0m         y \u001b[39m=\u001b[39m y\u001b[39m.\u001b[39mT\n\u001b[0;32m-> 2639\u001b[0m     X \u001b[39m=\u001b[39m np\u001b[39m.\u001b[39;49mconcatenate((X, y), axis\u001b[39m=\u001b[39;49m\u001b[39m0\u001b[39;49m)\n\u001b[1;32m   2641\u001b[0m \u001b[39mif\u001b[39;00m ddof \u001b[39mis\u001b[39;00m \u001b[39mNone\u001b[39;00m:\n\u001b[1;32m   2642\u001b[0m     \u001b[39mif\u001b[39;00m bias \u001b[39m==\u001b[39m \u001b[39m0\u001b[39m:\n",
      "File \u001b[0;32m<__array_function__ internals>:180\u001b[0m, in \u001b[0;36mconcatenate\u001b[0;34m(*args, **kwargs)\u001b[0m\n",
      "\u001b[0;31mValueError\u001b[0m: all the input array dimensions for the concatenation axis must match exactly, but along dimension 1, the array at index 0 has size 1 and the array at index 1 has size 379"
     ]
    }
   ],
   "source": [
    "trainer.train(\n",
    "    response_set=response_set,\n",
    "    feature_set=feature_set,\n",
    "    config=config,\n",
    "    output_dir=output_dir\n",
    ")"
   ]
  },
  {
   "cell_type": "code",
   "execution_count": null,
   "metadata": {},
   "outputs": [],
   "source": []
  }
 ],
 "metadata": {
  "kernelspec": {
   "display_name": "corlab",
   "language": "python",
   "name": "python3"
  },
  "language_info": {
   "codemirror_mode": {
    "name": "ipython",
    "version": 3
   },
   "file_extension": ".py",
   "mimetype": "text/x-python",
   "name": "python",
   "nbconvert_exporter": "python",
   "pygments_lexer": "ipython3",
   "version": "3.10.4"
  },
  "orig_nbformat": 4
 },
 "nbformat": 4,
 "nbformat_minor": 2
}
