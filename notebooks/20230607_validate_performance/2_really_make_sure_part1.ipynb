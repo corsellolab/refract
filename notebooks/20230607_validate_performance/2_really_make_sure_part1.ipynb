{
 "cells": [
  {
   "attachments": {},
   "cell_type": "markdown",
   "metadata": {},
   "source": [
    "# 1. Save individual dataframes for Train / Test"
   ]
  },
  {
   "cell_type": "code",
   "execution_count": 1,
   "metadata": {},
   "outputs": [],
   "source": [
    "import pandas as pd\n",
    "import pickle\n",
    "from sklearn.model_selection import KFold"
   ]
  },
  {
   "cell_type": "code",
   "execution_count": 2,
   "metadata": {},
   "outputs": [],
   "source": [
    "NUM_FEATURES = 100\n",
    "SLATE_LENGTH = 10\n",
    "NUM_EPOCHS = 50\n",
    "BATCH_SIZE = 512"
   ]
  },
  {
   "cell_type": "code",
   "execution_count": 3,
   "metadata": {},
   "outputs": [],
   "source": [
    "compound_name = \"caramiphen\""
   ]
  },
  {
   "cell_type": "code",
   "execution_count": 4,
   "metadata": {},
   "outputs": [],
   "source": [
    "response_path = f\"/mnt/c/Users/nick/Desktop/corsello_lab/refract/notebooks/20230607_validate_performance/FINAL_updated_responses/{compound_name}.csv\"\n",
    "feature_importance_path = f\"/mnt/c/Users/nick/Desktop/corsello_lab/refract/notebooks/20230607_validate_performance/feature_importance_paths/{compound_name}.csv\"\n",
    "feature_path = \"/mnt/c/Users/nick/Desktop/corsello_lab/data/depmap_public-22q1-305b_v24/x-all.pkl\""
   ]
  },
  {
   "cell_type": "code",
   "execution_count": 5,
   "metadata": {},
   "outputs": [],
   "source": [
    "# load data\n",
    "with open(feature_path, \"rb\") as f:\n",
    "    feature_df = pickle.load(f)\n",
    "feature_df = feature_df.rename_axis(\"ccle_name\")\n",
    "\n",
    "response_df = pd.read_csv(response_path)\n",
    "feature_importance_df = pd.read_csv(feature_importance_path)\n"
   ]
  },
  {
   "cell_type": "code",
   "execution_count": 6,
   "metadata": {},
   "outputs": [],
   "source": [
    "splitter = KFold(n_splits=5, shuffle=True, random_state=42)"
   ]
  },
  {
   "cell_type": "code",
   "execution_count": 7,
   "metadata": {},
   "outputs": [],
   "source": [
    "for i, (train_index, test_index) in enumerate(splitter.split(response_df)):\n",
    "    response_train = response_df.iloc[train_index, :].copy()\n",
    "    response_test = response_df.iloc[test_index, :].copy()"
   ]
  },
  {
   "cell_type": "code",
   "execution_count": 8,
   "metadata": {},
   "outputs": [
    {
     "name": "stdout",
     "output_type": "stream",
     "text": [
      "0\n"
     ]
    }
   ],
   "source": [
    "# verify no responses from train in test\n",
    "print(len(set(response_train[\"ccle_name\"]).intersection(set(response_test[\"ccle_name\"]))))"
   ]
  },
  {
   "cell_type": "code",
   "execution_count": 9,
   "metadata": {},
   "outputs": [],
   "source": [
    "feature_train = feature_df.loc[feature_df.index.isin(response_train.ccle_name.values), :].copy()\n",
    "feature_test = feature_df.loc[feature_df.index.isin(response_test.ccle_name.values), :].copy()"
   ]
  },
  {
   "cell_type": "code",
   "execution_count": 10,
   "metadata": {},
   "outputs": [
    {
     "name": "stdout",
     "output_type": "stream",
     "text": [
      "0\n"
     ]
    }
   ],
   "source": [
    "# verify no feature_train in feature_test\n",
    "print(len(set(feature_train.index).intersection(set(feature_test.index))))"
   ]
  },
  {
   "cell_type": "code",
   "execution_count": 11,
   "metadata": {},
   "outputs": [],
   "source": [
    "# save everything to csv files\n",
    "response_train.to_csv(\"dfs/response_train.csv\", index=False)\n",
    "response_test.to_csv(\"dfs/response_test.csv\", index=False)\n",
    "feature_train.to_csv(\"dfs/feature_train.csv\")\n",
    "feature_test.to_csv(\"dfs/feature_test.csv\")"
   ]
  }
 ],
 "metadata": {
  "kernelspec": {
   "display_name": "corlab",
   "language": "python",
   "name": "python3"
  },
  "language_info": {
   "codemirror_mode": {
    "name": "ipython",
    "version": 3
   },
   "file_extension": ".py",
   "mimetype": "text/x-python",
   "name": "python",
   "nbconvert_exporter": "python",
   "pygments_lexer": "ipython3",
   "version": "3.10.4"
  },
  "orig_nbformat": 4
 },
 "nbformat": 4,
 "nbformat_minor": 2
}
