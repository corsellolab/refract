{
 "cells": [
  {
   "attachments": {},
   "cell_type": "markdown",
   "metadata": {},
   "source": [
    "## Ranking Neural Net"
   ]
  },
  {
   "cell_type": "code",
   "execution_count": 1,
   "metadata": {},
   "outputs": [],
   "source": [
    "import torch \n",
    "from torch.utils.data import Dataset\n",
    "import pandas as pd\n",
    "import numpy as np\n",
    "from sklearn.preprocessing import QuantileTransformer\n",
    "# import tensorboard\n",
    "from torch.utils.tensorboard import SummaryWriter\n",
    "from scipy.stats import pearsonr"
   ]
  },
  {
   "cell_type": "code",
   "execution_count": 2,
   "metadata": {},
   "outputs": [],
   "source": [
    "class PrismDataset(Dataset):\n",
    "    def __init__(self, response_df, feature_df, feature_importance_df, top_k_features, slate_length, quantile_transfomer=None, prioritize_sensitive=True):\n",
    "        self.response_df = response_df\n",
    "        self.feature_df = feature_df\n",
    "        self.feature_importance_df = feature_importance_df\n",
    "        self.top_k_features = top_k_features\n",
    "        self.slate_length = slate_length\n",
    "        self.prioritize_sensitive = prioritize_sensitive\n",
    "        \n",
    "        # Get the top k features based on importance\n",
    "        top_features = self.feature_importance_df.nlargest(top_k_features, \"importance\")[\"feature\"].tolist()\n",
    "\n",
    "        # filter self.feature_df to include only the top features\n",
    "        self.feature_df = self.feature_df.loc[:, top_features]\n",
    "\n",
    "        # quantile transform all features\n",
    "        if not quantile_transfomer:\n",
    "            self.quantile_transfomer = QuantileTransformer()\n",
    "            self.quantile_transfomer.fit(self.feature_df)\n",
    "        else:\n",
    "            self.quantile_transfomer = quantile_transfomer\n",
    "\n",
    "        # quantile transform feature_df\n",
    "        self.feature_df = pd.DataFrame(self.quantile_transfomer.transform(self.feature_df), columns=self.feature_df.columns, index=self.feature_df.index)\n",
    "\n",
    "        # quantile transform labels\n",
    "        self.label_transformer = QuantileTransformer()\n",
    "        self.response_df.loc[:, \"LFC.cb\"] = self.label_transformer.fit_transform(self.response_df[\"LFC.cb\"].values) \n",
    "        if self.prioritize_sensitive:\n",
    "            self.response_df.loc[:, \"LFC.cb\"] = 1 - self.response_df[\"LFC.cb\"].values\n",
    "        # scale from 0 to 5\n",
    "        self.response_df.loc[:, \"LFC.cb\"] = self.response_df[\"LFC.cb\"] * 5\n",
    "\n",
    "        # Join response_df and feature_df on \"ccle_name\"\n",
    "        self.joined_df = pd.merge(self.response_df, self.feature_df, on=\"ccle_name\")\n",
    "        # set index to \"ccle_name\"\n",
    "        self.joined_df = self.joined_df.set_index(\"ccle_name\")\n",
    "\n",
    "        # Order the columns\n",
    "        self.cols = top_features + [\"LFC.cb\"]\n",
    "        self.joined_df = self.joined_df.loc[:, self.cols]\n",
    "\n",
    "        # impute missing values\n",
    "        self.joined_df = self.joined_df.fillna(-1)\n",
    "\n",
    "        # get ccle_names\n",
    "        self.ccle_names = self.joined_df.index.tolist()\n",
    "\n",
    "    def __len__(self):\n",
    "        return len(self.ccle_names)\n",
    "\n",
    "    def __getitem__(self, idx):\n",
    "        # get slate_length - 1 samples from ccle_names\n",
    "        index_name = self.ccle_names[idx]\n",
    "        ccle_names = np.random.choice(self.ccle_names, self.slate_length - 1, replace=False).tolist()\n",
    "\n",
    "        # get [index_name, *ccle_names] from joined_df\n",
    "        samples = self.joined_df.loc[[index_name] + ccle_names, :]\n",
    "        \n",
    "        # Extract features and labels from the samples\n",
    "        features = torch.tensor(samples.iloc[:, :-1].values, dtype=torch.float32)\n",
    "        labels = torch.tensor(samples.iloc[:, -1].values.squeeze(), dtype=torch.float32)\n",
    "\n",
    "        return features, labels\n"
   ]
  },
  {
   "cell_type": "code",
   "execution_count": 3,
   "metadata": {},
   "outputs": [],
   "source": [
    "feature_path = \"../../tests/data/test_features/x-all.pkl\"\n",
    "response_path = \"../../tests/data/test_responses.csv\"\n",
    "feature_importance_path = \"../../tests/data/test_output/cv/zotarolimus_BRD-K46843573-001-01-9_2.5_all_feature_importances.csv\""
   ]
  },
  {
   "cell_type": "code",
   "execution_count": 4,
   "metadata": {},
   "outputs": [],
   "source": [
    "import pickle\n",
    "with open(feature_path, \"rb\") as f:\n",
    "    feature_df = pickle.load(f)\n",
    "# rename index as ccle_name\n",
    "feature_df = feature_df.rename_axis(\"ccle_name\")"
   ]
  },
  {
   "cell_type": "code",
   "execution_count": 5,
   "metadata": {},
   "outputs": [],
   "source": [
    "response_df = pd.read_csv(response_path)"
   ]
  },
  {
   "cell_type": "code",
   "execution_count": 6,
   "metadata": {},
   "outputs": [],
   "source": [
    "feature_importance_df = pd.read_csv(feature_importance_path)"
   ]
  },
  {
   "cell_type": "code",
   "execution_count": 7,
   "metadata": {},
   "outputs": [
    {
     "name": "stderr",
     "output_type": "stream",
     "text": [
      "/home/nphillips/miniconda3/envs/corlab/lib/python3.10/site-packages/sklearn/preprocessing/_data.py:2627: UserWarning: n_quantiles (1000) is greater than the total number of samples (50). n_quantiles is set to n_samples.\n",
      "  warnings.warn(\n",
      "/home/nphillips/miniconda3/envs/corlab/lib/python3.10/site-packages/sklearn/preprocessing/_data.py:2627: UserWarning: n_quantiles (1000) is greater than the total number of samples (50). n_quantiles is set to n_samples.\n",
      "  warnings.warn(\n"
     ]
    }
   ],
   "source": [
    "ds = PrismDataset(response_df, feature_df, feature_importance_df, 100, 10)"
   ]
  },
  {
   "cell_type": "code",
   "execution_count": 8,
   "metadata": {},
   "outputs": [
    {
     "data": {
      "text/plain": [
       "(tensor([[0.9409, 0.9004, 0.3672, 0.3657, 0.5168, 0.6693, 0.8165, 0.6327, 0.3661,\n",
       "          0.0000],\n",
       "         [0.8586, 0.3663, 0.6827, 0.4754, 0.2586, 0.9758, 0.3660, 0.5204, 0.3175,\n",
       "          0.0000],\n",
       "         [0.6135, 0.5871, 0.5905, 0.6130, 0.7132, 0.5128, 0.9091, 0.0000, 0.6345,\n",
       "          0.0000],\n",
       "         [0.1197, 0.8061, 0.6125, 0.1224, 0.8823, 0.7035, 0.7604, 0.0000, 0.4753,\n",
       "          0.0000],\n",
       "         [0.7177, 0.7069, 0.8403, 0.6861, 0.5043, 0.1411, 0.7535, 0.6327, 0.6620,\n",
       "          0.8469],\n",
       "         [0.7467, 0.4143, 0.3719, 0.9290, 0.4290, 0.7229, 0.1613, 0.9639, 0.4490,\n",
       "          0.0000],\n",
       "         [0.8186, 0.3433, 0.6537, 0.5249, 0.5528, 0.5488, 0.2741, 0.0000, 0.0000,\n",
       "          0.0000],\n",
       "         [0.0732, 0.8945, 0.7290, 0.0435, 0.9141, 0.7934, 0.1239, 0.3367, 0.7728,\n",
       "          0.0000],\n",
       "         [0.5701, 0.1400, 0.5197, 0.9168, 0.8602, 1.0000, 0.4756, 0.7653, 0.7012,\n",
       "          0.0000],\n",
       "         [0.8832, 0.9511, 0.0892, 0.5710, 0.3162, 0.3061, 0.2572, 0.5204, 0.1376,\n",
       "          0.8980]]),\n",
       " tensor([0.0000, 2.3469, 3.5714, 2.6531, 4.5918, 3.9796, 1.2245, 2.9592, 4.4898,\n",
       "         1.7347]))"
      ]
     },
     "execution_count": 8,
     "metadata": {},
     "output_type": "execute_result"
    }
   ],
   "source": [
    "ds[0]"
   ]
  },
  {
   "cell_type": "code",
   "execution_count": 9,
   "metadata": {},
   "outputs": [],
   "source": [
    "import torch\n",
    "\n",
    "PADDED_Y_VALUE = -1\n",
    "DEFAULT_EPS = 1e-10\n",
    "\n",
    "\n",
    "def lambdaLoss(y_pred, y_true, eps=DEFAULT_EPS, padded_value_indicator=PADDED_Y_VALUE, weighing_scheme=None, k=None, sigma=1., mu=10.,\n",
    "               reduction=\"sum\", reduction_log=\"binary\"):\n",
    "    \"\"\"\n",
    "    LambdaLoss framework for LTR losses implementations, introduced in \"The LambdaLoss Framework for Ranking Metric Optimization\".\n",
    "    Contains implementations of different weighing schemes corresponding to e.g. LambdaRank or RankNet.\n",
    "    :param y_pred: predictions from the model, shape [batch_size, slate_length]\n",
    "    :param y_true: ground truth labels, shape [batch_size, slate_length]\n",
    "    :param eps: epsilon value, used for numerical stability\n",
    "    :param padded_value_indicator: an indicator of the y_true index containing a padded item, e.g. -1\n",
    "    :param weighing_scheme: a string corresponding to a name of one of the weighing schemes\n",
    "    :param k: rank at which the loss is truncated\n",
    "    :param sigma: score difference weight used in the sigmoid function\n",
    "    :param mu: optional weight used in NDCGLoss2++ weighing scheme\n",
    "    :param reduction: losses reduction method, could be either a sum or a mean\n",
    "    :param reduction_log: logarithm variant used prior to masking and loss reduction, either binary or natural\n",
    "    :return: loss value, a torch.Tensor\n",
    "    \"\"\"\n",
    "    device = y_pred.device\n",
    "    y_pred = y_pred.clone()\n",
    "    y_true = y_true.clone()\n",
    "\n",
    "    padded_mask = y_true == padded_value_indicator\n",
    "    y_pred[padded_mask] = float(\"-inf\")\n",
    "    y_true[padded_mask] = float(\"-inf\")\n",
    "\n",
    "    # Here we sort the true and predicted relevancy scores.\n",
    "    y_pred_sorted, indices_pred = y_pred.sort(descending=True, dim=-1)\n",
    "    y_true_sorted, _ = y_true.sort(descending=True, dim=-1)\n",
    "\n",
    "    # After sorting, we can mask out the pairs of indices (i, j) containing index of a padded element.\n",
    "    true_sorted_by_preds = torch.gather(y_true, dim=1, index=indices_pred)\n",
    "    true_diffs = true_sorted_by_preds[:, :, None] - true_sorted_by_preds[:, None, :]\n",
    "    padded_pairs_mask = torch.isfinite(true_diffs)\n",
    "\n",
    "    if weighing_scheme != \"ndcgLoss1_scheme\":\n",
    "        padded_pairs_mask = padded_pairs_mask & (true_diffs > 0)\n",
    "\n",
    "    ndcg_at_k_mask = torch.zeros((y_pred.shape[1], y_pred.shape[1]), dtype=torch.bool, device=device)\n",
    "    ndcg_at_k_mask[:k, :k] = 1\n",
    "\n",
    "    # Here we clamp the -infs to get correct gains and ideal DCGs (maxDCGs)\n",
    "    true_sorted_by_preds.clamp_(min=0.)\n",
    "    y_true_sorted.clamp_(min=0.)\n",
    "\n",
    "    # Here we find the gains, discounts and ideal DCGs per slate.\n",
    "    pos_idxs = torch.arange(1, y_pred.shape[1] + 1).to(device)\n",
    "    D = torch.log2(1. + pos_idxs.float())[None, :]\n",
    "    maxDCGs = torch.sum(((torch.pow(2, y_true_sorted) - 1) / D)[:, :k], dim=-1).clamp(min=eps)\n",
    "    G = (torch.pow(2, true_sorted_by_preds) - 1) / maxDCGs[:, None]\n",
    "\n",
    "    # Here we apply appropriate weighing scheme - ndcgLoss1, ndcgLoss2, ndcgLoss2++ or no weights (=1.0)\n",
    "    if weighing_scheme is None:\n",
    "        weights = 1.\n",
    "    else:\n",
    "        weights = globals()[weighing_scheme](G, D, mu, true_sorted_by_preds)  # type: ignore\n",
    "\n",
    "    # We are clamping the array entries to maintain correct backprop (log(0) and division by 0)\n",
    "    scores_diffs = (y_pred_sorted[:, :, None] - y_pred_sorted[:, None, :]).clamp(min=-1e8, max=1e8)\n",
    "    scores_diffs.masked_fill(torch.isnan(scores_diffs), 0.)\n",
    "    weighted_probas = (torch.sigmoid(sigma * scores_diffs).clamp(min=eps) ** weights).clamp(min=eps)\n",
    "    if reduction_log == \"natural\":\n",
    "        losses = torch.log(weighted_probas)\n",
    "    elif reduction_log == \"binary\":\n",
    "        losses = torch.log2(weighted_probas)\n",
    "    else:\n",
    "        raise ValueError(\"Reduction logarithm base can be either natural or binary\")\n",
    "\n",
    "    if reduction == \"sum\":\n",
    "        loss = -torch.sum(losses[padded_pairs_mask & ndcg_at_k_mask])\n",
    "    elif reduction == \"mean\":\n",
    "        loss = -torch.mean(losses[padded_pairs_mask & ndcg_at_k_mask])\n",
    "    else:\n",
    "        raise ValueError(\"Reduction method can be either sum or mean\")\n",
    "\n",
    "    return loss\n",
    "\n",
    "\n",
    "def ndcgLoss1_scheme(G, D, *args):\n",
    "    return (G / D)[:, :, None]\n",
    "\n",
    "\n",
    "def ndcgLoss2_scheme(G, D, *args):\n",
    "    pos_idxs = torch.arange(1, G.shape[1] + 1, device=G.device)\n",
    "    delta_idxs = torch.abs(pos_idxs[:, None] - pos_idxs[None, :])\n",
    "    deltas = torch.abs(torch.pow(torch.abs(D[0, delta_idxs - 1]), -1.) - torch.pow(torch.abs(D[0, delta_idxs]), -1.))\n",
    "    deltas.diagonal().zero_()\n",
    "\n",
    "    return deltas[None, :, :] * torch.abs(G[:, :, None] - G[:, None, :])\n",
    "\n",
    "\n",
    "def lambdaRank_scheme(G, D, *args):\n",
    "    return torch.abs(torch.pow(D[:, :, None], -1.) - torch.pow(D[:, None, :], -1.)) * torch.abs(G[:, :, None] - G[:, None, :])\n",
    "\n",
    "\n",
    "def ndcgLoss2PP_scheme(G, D, *args):\n",
    "    return args[0] * ndcgLoss2_scheme(G, D) + lambdaRank_scheme(G, D)\n",
    "\n",
    "\n",
    "def rankNet_scheme(G, D, *args):\n",
    "    return 1.\n",
    "\n",
    "\n",
    "def rankNetWeightedByGTDiff_scheme(G, D, *args):\n",
    "    return torch.abs(args[1][:, :, None] - args[1][:, None, :])\n",
    "\n",
    "\n",
    "def rankNetWeightedByGTDiffPowed_scheme(G, D, *args):\n",
    "    return torch.abs(torch.pow(args[1][:, :, None], 2) - torch.pow(args[1][:, None, :], 2))"
   ]
  },
  {
   "cell_type": "code",
   "execution_count": 10,
   "metadata": {},
   "outputs": [],
   "source": [
    "import torch\n",
    "import torch.nn as nn\n",
    "\n",
    "class FeedForwardNet(nn.Module):\n",
    "    def __init__(self, input_dim):\n",
    "        super(FeedForwardNet, self).__init__()\n",
    "        self.fc1 = nn.Linear(input_dim, 64)\n",
    "        self.fc2 = nn.Linear(64, 32)\n",
    "        self.fc3 = nn.Linear(32, 1)\n",
    "\n",
    "    def forward(self, x):\n",
    "        x = torch.relu(self.fc1(x))\n",
    "        x = torch.relu(self.fc2(x))\n",
    "        x = self.fc3(x).squeeze(-1)\n",
    "        return x\n"
   ]
  },
  {
   "cell_type": "code",
   "execution_count": 11,
   "metadata": {},
   "outputs": [],
   "source": [
    "model = FeedForwardNet(10)"
   ]
  },
  {
   "cell_type": "code",
   "execution_count": 12,
   "metadata": {},
   "outputs": [],
   "source": [
    "# create a torch dataloader around the dataset\n",
    "from torch.utils.data import DataLoader\n",
    "dl = DataLoader(ds, batch_size=3, shuffle=True)"
   ]
  },
  {
   "cell_type": "code",
   "execution_count": 13,
   "metadata": {},
   "outputs": [],
   "source": [
    "optimizer = torch.optim.Adam(model.parameters(), lr=0.001)"
   ]
  },
  {
   "cell_type": "code",
   "execution_count": 14,
   "metadata": {},
   "outputs": [
    {
     "name": "stdout",
     "output_type": "stream",
     "text": [
      "Epoch [1/10], Loss: 88.6083\n",
      "Epoch [2/10], Loss: 86.9683\n",
      "Epoch [3/10], Loss: 85.3556\n",
      "Epoch [4/10], Loss: 75.9421\n",
      "Epoch [5/10], Loss: 81.6182\n",
      "Epoch [6/10], Loss: 68.9672\n",
      "Epoch [7/10], Loss: 89.4421\n",
      "Epoch [8/10], Loss: 69.9309\n",
      "Epoch [9/10], Loss: 70.7934\n",
      "Epoch [10/10], Loss: 65.6689\n"
     ]
    }
   ],
   "source": [
    "for epoch in range(10):\n",
    "    for batch in dl:\n",
    "        features, labels = batch\n",
    "        pred_scores = model(features)\n",
    "        loss = lambdaLoss(pred_scores, labels)\n",
    "        loss.backward()\n",
    "        optimizer.step()\n",
    "        optimizer.zero_grad()\n",
    "    print('Epoch [{}/{}], Loss: {:.4f}'.format(epoch+1, 10, loss.item()))"
   ]
  },
  {
   "cell_type": "code",
   "execution_count": 15,
   "metadata": {},
   "outputs": [
    {
     "data": {
      "text/plain": [
       "torch.Size([2, 10])"
      ]
     },
     "execution_count": 15,
     "metadata": {},
     "output_type": "execute_result"
    }
   ],
   "source": [
    "pred_scores.shape"
   ]
  },
  {
   "cell_type": "code",
   "execution_count": 16,
   "metadata": {},
   "outputs": [
    {
     "data": {
      "text/plain": [
       "tensor([[-1.2319,  0.3979, -0.1017, -0.4764,  1.2749, -0.2224, -1.0116, -0.0799,\n",
       "         -1.5321, -0.7507],\n",
       "        [-0.4162,  0.3979, -0.5499, -0.1987, -0.9044, -1.2434, -1.5284,  0.4011,\n",
       "         -1.1768, -1.6927]], grad_fn=<SqueezeBackward1>)"
      ]
     },
     "execution_count": 16,
     "metadata": {},
     "output_type": "execute_result"
    }
   ],
   "source": [
    "pred_scores"
   ]
  },
  {
   "attachments": {},
   "cell_type": "markdown",
   "metadata": {},
   "source": [
    "# Now do the same but train on the GPU with real data"
   ]
  },
  {
   "cell_type": "code",
   "execution_count": 17,
   "metadata": {},
   "outputs": [],
   "source": [
    "feature_path = \"/mnt/c/Users/nick/Desktop/corsello_lab/data/depmap_public-22q1-305b_v24/x-all.pkl\"\n",
    "response_path = \"/mnt/c/Users/nick/Desktop/corsello_lab/data/depmap_repurposing/updated_responses/AMG-232.csv\"\n",
    "feature_importance_path = \"/mnt/c/Users/nick/Desktop/corsello_lab/refract/notebooks/20230522_debug_weighted_models/data/baseline_rf/all/AMG-232_BRD-K64925568-001-01-8_2.5_all_feature_importances.csv\""
   ]
  },
  {
   "cell_type": "code",
   "execution_count": 18,
   "metadata": {},
   "outputs": [],
   "source": [
    "import pickle\n",
    "with open(feature_path, \"rb\") as f:\n",
    "    feature_df = pickle.load(f)\n",
    "# rename index as ccle_name\n",
    "feature_df = feature_df.rename_axis(\"ccle_name\")"
   ]
  },
  {
   "cell_type": "code",
   "execution_count": 19,
   "metadata": {},
   "outputs": [],
   "source": [
    "response_df = pd.read_csv(response_path)"
   ]
  },
  {
   "cell_type": "code",
   "execution_count": 20,
   "metadata": {},
   "outputs": [],
   "source": [
    "feature_importance_df = pd.read_csv(feature_importance_path)"
   ]
  },
  {
   "cell_type": "code",
   "execution_count": 21,
   "metadata": {},
   "outputs": [],
   "source": [
    "device = torch.device('cuda' if torch.cuda.is_available() else 'cpu')"
   ]
  },
  {
   "cell_type": "code",
   "execution_count": 22,
   "metadata": {},
   "outputs": [],
   "source": [
    "from sklearn.model_selection import KFold"
   ]
  },
  {
   "cell_type": "code",
   "execution_count": 23,
   "metadata": {},
   "outputs": [],
   "source": [
    "splitter = KFold(n_splits=5, shuffle=True, random_state=42)"
   ]
  },
  {
   "cell_type": "code",
   "execution_count": 24,
   "metadata": {},
   "outputs": [
    {
     "name": "stdout",
     "output_type": "stream",
     "text": [
      "Fold 1\n"
     ]
    },
    {
     "name": "stderr",
     "output_type": "stream",
     "text": [
      "/home/nphillips/miniconda3/envs/corlab/lib/python3.10/site-packages/sklearn/preprocessing/_data.py:2627: UserWarning: n_quantiles (1000) is greater than the total number of samples (447). n_quantiles is set to n_samples.\n",
      "  warnings.warn(\n",
      "/tmp/ipykernel_22717/3178101372.py:28: SettingWithCopyWarning: \n",
      "A value is trying to be set on a copy of a slice from a DataFrame.\n",
      "Try using .loc[row_indexer,col_indexer] = value instead\n",
      "\n",
      "See the caveats in the documentation: https://pandas.pydata.org/pandas-docs/stable/user_guide/indexing.html#returning-a-view-versus-a-copy\n",
      "  self.response_df.loc[:, \"LFC.cb\"] = self.label_transformer.fit_transform(self.response_df[[\"LFC.cb\"]])\n",
      "/tmp/ipykernel_22717/3178101372.py:30: SettingWithCopyWarning: \n",
      "A value is trying to be set on a copy of a slice from a DataFrame.\n",
      "Try using .loc[row_indexer,col_indexer] = value instead\n",
      "\n",
      "See the caveats in the documentation: https://pandas.pydata.org/pandas-docs/stable/user_guide/indexing.html#returning-a-view-versus-a-copy\n",
      "  self.response_df.loc[:, \"LFC.cb\"] = 1 - self.response_df[\"LFC.cb\"]\n",
      "/tmp/ipykernel_22717/3178101372.py:32: SettingWithCopyWarning: \n",
      "A value is trying to be set on a copy of a slice from a DataFrame.\n",
      "Try using .loc[row_indexer,col_indexer] = value instead\n",
      "\n",
      "See the caveats in the documentation: https://pandas.pydata.org/pandas-docs/stable/user_guide/indexing.html#returning-a-view-versus-a-copy\n",
      "  self.response_df.loc[:, \"LFC.cb\"] = self.response_df[\"LFC.cb\"] * 5\n"
     ]
    },
    {
     "name": "stdout",
     "output_type": "stream",
     "text": [
      "Epoch [1/100], Loss: 68.2126\n",
      "Epoch [2/100], Loss: 29.8384\n",
      "Epoch [3/100], Loss: 18.4911\n",
      "Epoch [4/100], Loss: 12.8381\n",
      "Epoch [5/100], Loss: 9.6359\n",
      "Epoch [6/100], Loss: 8.0374\n",
      "Epoch [7/100], Loss: 6.8178\n",
      "Epoch [8/100], Loss: 5.5281\n",
      "Epoch [9/100], Loss: 3.9941\n",
      "Epoch [10/100], Loss: 3.8889\n",
      "Epoch [11/100], Loss: 3.5647\n",
      "Epoch [12/100], Loss: 3.3552\n",
      "Epoch [13/100], Loss: 3.0140\n",
      "Epoch [14/100], Loss: 2.4296\n",
      "Epoch [15/100], Loss: 2.1619\n",
      "Epoch [16/100], Loss: 1.9901\n",
      "Epoch [17/100], Loss: 1.8804\n",
      "Epoch [18/100], Loss: 2.0035\n",
      "Epoch [19/100], Loss: 1.8109\n",
      "Epoch [20/100], Loss: 1.4795\n",
      "Epoch [21/100], Loss: 1.6947\n",
      "Epoch [22/100], Loss: 1.4346\n",
      "Epoch [23/100], Loss: 1.7753\n",
      "Epoch [24/100], Loss: 1.8759\n",
      "Epoch [25/100], Loss: 1.4854\n",
      "Epoch [26/100], Loss: 1.6473\n",
      "Epoch [27/100], Loss: 1.7607\n",
      "Epoch [28/100], Loss: 1.4944\n",
      "Epoch [29/100], Loss: 1.4619\n",
      "Epoch [30/100], Loss: 1.6085\n",
      "Epoch [31/100], Loss: 1.2494\n",
      "Epoch [32/100], Loss: 1.7362\n",
      "Epoch [33/100], Loss: 1.0469\n",
      "Epoch [34/100], Loss: 2.0088\n",
      "Epoch [35/100], Loss: 1.2552\n",
      "Epoch [36/100], Loss: 1.6351\n",
      "Epoch [37/100], Loss: 1.0862\n",
      "Epoch [38/100], Loss: 1.3330\n",
      "Epoch [39/100], Loss: 1.5889\n",
      "Epoch [40/100], Loss: 1.3429\n",
      "Epoch [41/100], Loss: 1.3513\n",
      "Epoch [42/100], Loss: 1.4269\n",
      "Epoch [43/100], Loss: 1.7101\n",
      "Epoch [44/100], Loss: 1.0799\n",
      "Epoch [45/100], Loss: 1.3712\n",
      "Epoch [46/100], Loss: 1.8941\n",
      "Epoch [47/100], Loss: 1.4771\n",
      "Epoch [48/100], Loss: 1.0491\n",
      "Epoch [49/100], Loss: 1.7814\n",
      "Epoch [50/100], Loss: 1.2463\n",
      "Epoch [51/100], Loss: 1.0443\n",
      "Epoch [52/100], Loss: 2.0130\n",
      "Epoch [53/100], Loss: 1.6477\n",
      "Epoch [54/100], Loss: 1.7040\n",
      "Epoch [55/100], Loss: 1.1722\n",
      "Epoch [56/100], Loss: 1.4263\n",
      "Epoch [57/100], Loss: 1.2901\n",
      "Epoch [58/100], Loss: 1.8461\n",
      "Epoch [59/100], Loss: 0.9395\n",
      "Epoch [60/100], Loss: 1.5985\n",
      "Epoch [61/100], Loss: 2.2326\n",
      "Epoch [62/100], Loss: 1.6224\n",
      "Epoch [63/100], Loss: 1.5050\n",
      "Epoch [64/100], Loss: 1.1083\n",
      "Epoch [65/100], Loss: 1.4903\n",
      "Epoch [66/100], Loss: 1.0221\n",
      "Epoch [67/100], Loss: 0.8017\n",
      "Epoch [68/100], Loss: 1.2044\n",
      "Epoch [69/100], Loss: 1.2061\n",
      "Epoch [70/100], Loss: 1.1377\n",
      "Epoch [71/100], Loss: 1.0448\n",
      "Epoch [72/100], Loss: 1.1103\n",
      "Epoch [73/100], Loss: 1.5677\n",
      "Epoch [74/100], Loss: 1.8174\n",
      "Epoch [75/100], Loss: 1.4458\n",
      "Epoch [76/100], Loss: 1.5130\n",
      "Epoch [77/100], Loss: 1.3654\n",
      "Epoch [78/100], Loss: 1.3007\n",
      "Epoch [79/100], Loss: 1.6042\n",
      "Epoch [80/100], Loss: 2.1653\n",
      "Epoch [81/100], Loss: 1.7505\n",
      "Epoch [82/100], Loss: 1.5236\n",
      "Epoch [83/100], Loss: 1.0883\n",
      "Epoch [84/100], Loss: 1.1950\n",
      "Epoch [85/100], Loss: 1.1109\n",
      "Epoch [86/100], Loss: 1.5991\n",
      "Epoch [87/100], Loss: 1.3420\n",
      "Epoch [88/100], Loss: 1.7820\n",
      "Epoch [89/100], Loss: 1.4207\n",
      "Epoch [90/100], Loss: 1.6463\n",
      "Epoch [91/100], Loss: 1.5450\n",
      "Epoch [92/100], Loss: 1.6386\n",
      "Epoch [93/100], Loss: 1.5334\n",
      "Epoch [94/100], Loss: 1.2912\n",
      "Epoch [95/100], Loss: 1.9763\n",
      "Epoch [96/100], Loss: 1.4221\n",
      "Epoch [97/100], Loss: 1.5220\n",
      "Epoch [98/100], Loss: 1.2679\n",
      "Epoch [99/100], Loss: 0.6032\n",
      "Epoch [100/100], Loss: 1.4525\n"
     ]
    },
    {
     "name": "stderr",
     "output_type": "stream",
     "text": [
      "/home/nphillips/miniconda3/envs/corlab/lib/python3.10/site-packages/sklearn/preprocessing/_data.py:2627: UserWarning: n_quantiles (1000) is greater than the total number of samples (112). n_quantiles is set to n_samples.\n",
      "  warnings.warn(\n",
      "/tmp/ipykernel_22717/3178101372.py:28: SettingWithCopyWarning: \n",
      "A value is trying to be set on a copy of a slice from a DataFrame.\n",
      "Try using .loc[row_indexer,col_indexer] = value instead\n",
      "\n",
      "See the caveats in the documentation: https://pandas.pydata.org/pandas-docs/stable/user_guide/indexing.html#returning-a-view-versus-a-copy\n",
      "  self.response_df.loc[:, \"LFC.cb\"] = self.label_transformer.fit_transform(self.response_df[[\"LFC.cb\"]])\n",
      "/tmp/ipykernel_22717/3178101372.py:30: SettingWithCopyWarning: \n",
      "A value is trying to be set on a copy of a slice from a DataFrame.\n",
      "Try using .loc[row_indexer,col_indexer] = value instead\n",
      "\n",
      "See the caveats in the documentation: https://pandas.pydata.org/pandas-docs/stable/user_guide/indexing.html#returning-a-view-versus-a-copy\n",
      "  self.response_df.loc[:, \"LFC.cb\"] = 1 - self.response_df[\"LFC.cb\"]\n",
      "/tmp/ipykernel_22717/3178101372.py:32: SettingWithCopyWarning: \n",
      "A value is trying to be set on a copy of a slice from a DataFrame.\n",
      "Try using .loc[row_indexer,col_indexer] = value instead\n",
      "\n",
      "See the caveats in the documentation: https://pandas.pydata.org/pandas-docs/stable/user_guide/indexing.html#returning-a-view-versus-a-copy\n",
      "  self.response_df.loc[:, \"LFC.cb\"] = self.response_df[\"LFC.cb\"] * 5\n"
     ]
    },
    {
     "name": "stdout",
     "output_type": "stream",
     "text": [
      "Fold 2\n"
     ]
    },
    {
     "name": "stderr",
     "output_type": "stream",
     "text": [
      "/home/nphillips/miniconda3/envs/corlab/lib/python3.10/site-packages/sklearn/preprocessing/_data.py:2627: UserWarning: n_quantiles (1000) is greater than the total number of samples (447). n_quantiles is set to n_samples.\n",
      "  warnings.warn(\n",
      "/tmp/ipykernel_22717/3178101372.py:28: SettingWithCopyWarning: \n",
      "A value is trying to be set on a copy of a slice from a DataFrame.\n",
      "Try using .loc[row_indexer,col_indexer] = value instead\n",
      "\n",
      "See the caveats in the documentation: https://pandas.pydata.org/pandas-docs/stable/user_guide/indexing.html#returning-a-view-versus-a-copy\n",
      "  self.response_df.loc[:, \"LFC.cb\"] = self.label_transformer.fit_transform(self.response_df[[\"LFC.cb\"]])\n",
      "/tmp/ipykernel_22717/3178101372.py:30: SettingWithCopyWarning: \n",
      "A value is trying to be set on a copy of a slice from a DataFrame.\n",
      "Try using .loc[row_indexer,col_indexer] = value instead\n",
      "\n",
      "See the caveats in the documentation: https://pandas.pydata.org/pandas-docs/stable/user_guide/indexing.html#returning-a-view-versus-a-copy\n",
      "  self.response_df.loc[:, \"LFC.cb\"] = 1 - self.response_df[\"LFC.cb\"]\n",
      "/tmp/ipykernel_22717/3178101372.py:32: SettingWithCopyWarning: \n",
      "A value is trying to be set on a copy of a slice from a DataFrame.\n",
      "Try using .loc[row_indexer,col_indexer] = value instead\n",
      "\n",
      "See the caveats in the documentation: https://pandas.pydata.org/pandas-docs/stable/user_guide/indexing.html#returning-a-view-versus-a-copy\n",
      "  self.response_df.loc[:, \"LFC.cb\"] = self.response_df[\"LFC.cb\"] * 5\n"
     ]
    },
    {
     "name": "stdout",
     "output_type": "stream",
     "text": [
      "Epoch [1/100], Loss: 50.9072\n",
      "Epoch [2/100], Loss: 28.0108\n",
      "Epoch [3/100], Loss: 19.7724\n",
      "Epoch [4/100], Loss: 15.7181\n",
      "Epoch [5/100], Loss: 10.2763\n",
      "Epoch [6/100], Loss: 7.2686\n",
      "Epoch [7/100], Loss: 7.1058\n",
      "Epoch [8/100], Loss: 5.4562\n",
      "Epoch [9/100], Loss: 4.0463\n",
      "Epoch [10/100], Loss: 4.1316\n",
      "Epoch [11/100], Loss: 3.3747\n",
      "Epoch [12/100], Loss: 2.7746\n",
      "Epoch [13/100], Loss: 2.5453\n",
      "Epoch [14/100], Loss: 2.5010\n",
      "Epoch [15/100], Loss: 2.3153\n",
      "Epoch [16/100], Loss: 2.0934\n",
      "Epoch [17/100], Loss: 1.8626\n",
      "Epoch [18/100], Loss: 1.7058\n",
      "Epoch [19/100], Loss: 1.8041\n",
      "Epoch [20/100], Loss: 1.8076\n",
      "Epoch [21/100], Loss: 2.1883\n",
      "Epoch [22/100], Loss: 1.7762\n",
      "Epoch [23/100], Loss: 1.9393\n",
      "Epoch [24/100], Loss: 1.4461\n",
      "Epoch [25/100], Loss: 1.7778\n",
      "Epoch [26/100], Loss: 1.5431\n",
      "Epoch [27/100], Loss: 1.7491\n",
      "Epoch [28/100], Loss: 1.6144\n",
      "Epoch [29/100], Loss: 1.3537\n",
      "Epoch [30/100], Loss: 1.4354\n",
      "Epoch [31/100], Loss: 1.1964\n",
      "Epoch [32/100], Loss: 1.2147\n",
      "Epoch [33/100], Loss: 1.4460\n",
      "Epoch [34/100], Loss: 1.1760\n",
      "Epoch [35/100], Loss: 1.3443\n",
      "Epoch [36/100], Loss: 0.8406\n",
      "Epoch [37/100], Loss: 1.2677\n",
      "Epoch [38/100], Loss: 1.2106\n",
      "Epoch [39/100], Loss: 1.1770\n",
      "Epoch [40/100], Loss: 1.0985\n",
      "Epoch [41/100], Loss: 1.4806\n",
      "Epoch [42/100], Loss: 1.1117\n",
      "Epoch [43/100], Loss: 1.4041\n",
      "Epoch [44/100], Loss: 1.4052\n",
      "Epoch [45/100], Loss: 1.6077\n",
      "Epoch [46/100], Loss: 1.2254\n",
      "Epoch [47/100], Loss: 1.6781\n",
      "Epoch [48/100], Loss: 1.2984\n",
      "Epoch [49/100], Loss: 1.4348\n",
      "Epoch [50/100], Loss: 1.5279\n",
      "Epoch [51/100], Loss: 1.3570\n",
      "Epoch [52/100], Loss: 1.0983\n",
      "Epoch [53/100], Loss: 1.3130\n",
      "Epoch [54/100], Loss: 2.7067\n",
      "Epoch [55/100], Loss: 1.7400\n",
      "Epoch [56/100], Loss: 1.2773\n",
      "Epoch [57/100], Loss: 0.9878\n",
      "Epoch [58/100], Loss: 1.2095\n",
      "Epoch [59/100], Loss: 1.1486\n",
      "Epoch [60/100], Loss: 2.0615\n",
      "Epoch [61/100], Loss: 1.5845\n",
      "Epoch [62/100], Loss: 1.9307\n",
      "Epoch [63/100], Loss: 1.5950\n",
      "Epoch [64/100], Loss: 0.9793\n",
      "Epoch [65/100], Loss: 1.7032\n",
      "Epoch [66/100], Loss: 1.9067\n",
      "Epoch [67/100], Loss: 1.2596\n",
      "Epoch [68/100], Loss: 1.2255\n",
      "Epoch [69/100], Loss: 1.2320\n",
      "Epoch [70/100], Loss: 1.3524\n",
      "Epoch [71/100], Loss: 1.4339\n",
      "Epoch [72/100], Loss: 1.3487\n",
      "Epoch [73/100], Loss: 1.1028\n",
      "Epoch [74/100], Loss: 1.7442\n",
      "Epoch [75/100], Loss: 1.2870\n",
      "Epoch [76/100], Loss: 1.9023\n",
      "Epoch [77/100], Loss: 1.2358\n",
      "Epoch [78/100], Loss: 1.1071\n",
      "Epoch [79/100], Loss: 1.6138\n",
      "Epoch [80/100], Loss: 1.3310\n",
      "Epoch [81/100], Loss: 1.7237\n",
      "Epoch [82/100], Loss: 1.1960\n",
      "Epoch [83/100], Loss: 1.7482\n",
      "Epoch [84/100], Loss: 1.1182\n",
      "Epoch [85/100], Loss: 1.6503\n",
      "Epoch [86/100], Loss: 0.6695\n",
      "Epoch [87/100], Loss: 1.0560\n",
      "Epoch [88/100], Loss: 1.1579\n",
      "Epoch [89/100], Loss: 1.2981\n",
      "Epoch [90/100], Loss: 1.7180\n",
      "Epoch [91/100], Loss: 1.7793\n",
      "Epoch [92/100], Loss: 1.4749\n",
      "Epoch [93/100], Loss: 1.5089\n",
      "Epoch [94/100], Loss: 1.3440\n",
      "Epoch [95/100], Loss: 1.1264\n",
      "Epoch [96/100], Loss: 1.4706\n",
      "Epoch [97/100], Loss: 1.1486\n",
      "Epoch [98/100], Loss: 0.8780\n",
      "Epoch [99/100], Loss: 1.3131\n",
      "Epoch [100/100], Loss: 1.1603\n"
     ]
    },
    {
     "name": "stderr",
     "output_type": "stream",
     "text": [
      "/home/nphillips/miniconda3/envs/corlab/lib/python3.10/site-packages/sklearn/preprocessing/_data.py:2627: UserWarning: n_quantiles (1000) is greater than the total number of samples (112). n_quantiles is set to n_samples.\n",
      "  warnings.warn(\n",
      "/tmp/ipykernel_22717/3178101372.py:28: SettingWithCopyWarning: \n",
      "A value is trying to be set on a copy of a slice from a DataFrame.\n",
      "Try using .loc[row_indexer,col_indexer] = value instead\n",
      "\n",
      "See the caveats in the documentation: https://pandas.pydata.org/pandas-docs/stable/user_guide/indexing.html#returning-a-view-versus-a-copy\n",
      "  self.response_df.loc[:, \"LFC.cb\"] = self.label_transformer.fit_transform(self.response_df[[\"LFC.cb\"]])\n",
      "/tmp/ipykernel_22717/3178101372.py:30: SettingWithCopyWarning: \n",
      "A value is trying to be set on a copy of a slice from a DataFrame.\n",
      "Try using .loc[row_indexer,col_indexer] = value instead\n",
      "\n",
      "See the caveats in the documentation: https://pandas.pydata.org/pandas-docs/stable/user_guide/indexing.html#returning-a-view-versus-a-copy\n",
      "  self.response_df.loc[:, \"LFC.cb\"] = 1 - self.response_df[\"LFC.cb\"]\n",
      "/tmp/ipykernel_22717/3178101372.py:32: SettingWithCopyWarning: \n",
      "A value is trying to be set on a copy of a slice from a DataFrame.\n",
      "Try using .loc[row_indexer,col_indexer] = value instead\n",
      "\n",
      "See the caveats in the documentation: https://pandas.pydata.org/pandas-docs/stable/user_guide/indexing.html#returning-a-view-versus-a-copy\n",
      "  self.response_df.loc[:, \"LFC.cb\"] = self.response_df[\"LFC.cb\"] * 5\n"
     ]
    },
    {
     "name": "stdout",
     "output_type": "stream",
     "text": [
      "Fold 3\n"
     ]
    },
    {
     "name": "stderr",
     "output_type": "stream",
     "text": [
      "/home/nphillips/miniconda3/envs/corlab/lib/python3.10/site-packages/sklearn/preprocessing/_data.py:2627: UserWarning: n_quantiles (1000) is greater than the total number of samples (447). n_quantiles is set to n_samples.\n",
      "  warnings.warn(\n",
      "/tmp/ipykernel_22717/3178101372.py:28: SettingWithCopyWarning: \n",
      "A value is trying to be set on a copy of a slice from a DataFrame.\n",
      "Try using .loc[row_indexer,col_indexer] = value instead\n",
      "\n",
      "See the caveats in the documentation: https://pandas.pydata.org/pandas-docs/stable/user_guide/indexing.html#returning-a-view-versus-a-copy\n",
      "  self.response_df.loc[:, \"LFC.cb\"] = self.label_transformer.fit_transform(self.response_df[[\"LFC.cb\"]])\n",
      "/tmp/ipykernel_22717/3178101372.py:30: SettingWithCopyWarning: \n",
      "A value is trying to be set on a copy of a slice from a DataFrame.\n",
      "Try using .loc[row_indexer,col_indexer] = value instead\n",
      "\n",
      "See the caveats in the documentation: https://pandas.pydata.org/pandas-docs/stable/user_guide/indexing.html#returning-a-view-versus-a-copy\n",
      "  self.response_df.loc[:, \"LFC.cb\"] = 1 - self.response_df[\"LFC.cb\"]\n",
      "/tmp/ipykernel_22717/3178101372.py:32: SettingWithCopyWarning: \n",
      "A value is trying to be set on a copy of a slice from a DataFrame.\n",
      "Try using .loc[row_indexer,col_indexer] = value instead\n",
      "\n",
      "See the caveats in the documentation: https://pandas.pydata.org/pandas-docs/stable/user_guide/indexing.html#returning-a-view-versus-a-copy\n",
      "  self.response_df.loc[:, \"LFC.cb\"] = self.response_df[\"LFC.cb\"] * 5\n"
     ]
    },
    {
     "name": "stdout",
     "output_type": "stream",
     "text": [
      "Epoch [1/100], Loss: 75.1052\n",
      "Epoch [2/100], Loss: 26.9490\n",
      "Epoch [3/100], Loss: 17.4126\n",
      "Epoch [4/100], Loss: 14.3117\n",
      "Epoch [5/100], Loss: 9.4394\n",
      "Epoch [6/100], Loss: 7.4444\n",
      "Epoch [7/100], Loss: 5.8792\n",
      "Epoch [8/100], Loss: 4.8750\n",
      "Epoch [9/100], Loss: 3.4860\n",
      "Epoch [10/100], Loss: 3.0895\n",
      "Epoch [11/100], Loss: 2.3535\n",
      "Epoch [12/100], Loss: 2.4407\n",
      "Epoch [13/100], Loss: 1.8300\n",
      "Epoch [14/100], Loss: 1.9897\n",
      "Epoch [15/100], Loss: 1.2121\n",
      "Epoch [16/100], Loss: 1.5844\n",
      "Epoch [17/100], Loss: 1.7268\n",
      "Epoch [18/100], Loss: 1.8651\n",
      "Epoch [19/100], Loss: 2.4250\n",
      "Epoch [20/100], Loss: 1.2126\n",
      "Epoch [21/100], Loss: 1.9749\n",
      "Epoch [22/100], Loss: 1.1486\n",
      "Epoch [23/100], Loss: 1.0841\n",
      "Epoch [24/100], Loss: 1.4564\n",
      "Epoch [25/100], Loss: 1.3698\n",
      "Epoch [26/100], Loss: 1.0561\n",
      "Epoch [27/100], Loss: 1.6469\n",
      "Epoch [28/100], Loss: 1.6518\n",
      "Epoch [29/100], Loss: 1.6546\n",
      "Epoch [30/100], Loss: 1.6557\n",
      "Epoch [31/100], Loss: 1.0668\n",
      "Epoch [32/100], Loss: 1.2617\n",
      "Epoch [33/100], Loss: 1.0420\n",
      "Epoch [34/100], Loss: 0.8740\n",
      "Epoch [35/100], Loss: 0.9943\n",
      "Epoch [36/100], Loss: 1.5077\n",
      "Epoch [37/100], Loss: 1.4961\n",
      "Epoch [38/100], Loss: 1.3935\n",
      "Epoch [39/100], Loss: 0.9962\n",
      "Epoch [40/100], Loss: 1.5313\n",
      "Epoch [41/100], Loss: 1.1934\n",
      "Epoch [42/100], Loss: 1.4554\n"
     ]
    }
   ],
   "source": [
    "# add tensorboard logging\n",
    "\n",
    "\n",
    "all_preds = []\n",
    "all_true = []\n",
    "\n",
    "NUM_FEATURES = 500\n",
    "SLATE_LENGTH = 100\n",
    "NUM_EPOCHS = 100\n",
    "\n",
    "# create summary writer\n",
    "writer = SummaryWriter()\n",
    "\n",
    "for i, (train_index, test_index) in enumerate(splitter.split(response_df)):\n",
    "    print(f\"Fold {i+1}\")\n",
    "    response_train = response_df.iloc[train_index]\n",
    "    response_test = response_df.iloc[test_index]\n",
    "    ds_train = PrismDataset(response_train, feature_df, feature_importance_df, NUM_FEATURES, SLATE_LENGTH)\n",
    "    dl_train = DataLoader(ds_train, batch_size=16, shuffle=True)\n",
    "\n",
    "    model = FeedForwardNet(NUM_FEATURES)\n",
    "    model.to(device)\n",
    "    optimizer = torch.optim.Adam(model.parameters(), lr=0.001)\n",
    "\n",
    "    for epoch in range(NUM_EPOCHS):\n",
    "        for batch in dl_train:\n",
    "            features, labels = batch\n",
    "            features = features.to(device)\n",
    "            labels = labels.to(device)\n",
    "            pred_scores = model(features)\n",
    "            loss = lambdaLoss(pred_scores, labels, weighing_scheme=\"lambdaRank_scheme\")\n",
    "            loss.backward()\n",
    "            optimizer.step()\n",
    "            optimizer.zero_grad()\n",
    "        print('Epoch [{}/{}], Loss: {:.4f}'.format(epoch+1, NUM_EPOCHS, loss.item()))\n",
    "        writer.add_scalar(\"Loss/train\", loss.item(), epoch)\n",
    "\n",
    "\n",
    "    train_preds = []\n",
    "    train_true = []\n",
    "    for ex in ds_train:\n",
    "        f, l = ex\n",
    "        pred = model(f.to(device))[0]\n",
    "        train_preds.append(float(pred))\n",
    "        train_true.append(float(l[0]))\n",
    "    # compute pearsonr \n",
    "    train_pearsonr = pearsonr(train_preds, train_true)\n",
    "\n",
    "    # test pred scores\n",
    "    preds = []\n",
    "    true = []\n",
    "    ds_test = PrismDataset(response_test, feature_df, feature_importance_df, NUM_FEATURES, SLATE_LENGTH, quantile_transfomer=ds_train.quantile_transfomer)\n",
    "    for ex in ds_test:\n",
    "        f, l = ex\n",
    "        pred = model(f.to(device))[0]\n",
    "        preds.append(float(pred))\n",
    "        true.append(float(l[0]))\n",
    "    # compute pearsonr\n",
    "    test_pearsonr = pearsonr(preds, true)\n",
    "    writer.add_scalar(\"Pearsonr/train\", train_pearsonr[0], i)\n",
    "    writer.add_scalar(\"Pearsonr/test\", test_pearsonr[0], i)\n",
    "\n",
    "    # append to all preds\n",
    "    all_preds.extend(preds)\n",
    "    all_true.extend(true)"
   ]
  },
  {
   "cell_type": "code",
   "execution_count": 133,
   "metadata": {},
   "outputs": [
    {
     "data": {
      "text/plain": [
       "tensor([[-0.6826, -1.2387, -0.6166, -0.8763, -0.9685, -0.7606, -1.5604, -0.7964,\n",
       "         -2.3521, -0.8369],\n",
       "        [-1.2933, -0.7317, -0.6804, -1.4229, -1.0264, -0.7443, -2.3521, -1.1995,\n",
       "         -0.7000, -0.7034]])"
      ]
     },
     "execution_count": 133,
     "metadata": {},
     "output_type": "execute_result"
    }
   ],
   "source": [
    "labels"
   ]
  },
  {
   "cell_type": "code",
   "execution_count": null,
   "metadata": {},
   "outputs": [
    {
     "data": {
      "text/plain": [
       "<matplotlib.collections.PathCollection at 0x7f59298a0f70>"
      ]
     },
     "execution_count": 75,
     "metadata": {},
     "output_type": "execute_result"
    },
    {
     "data": {
      "image/png": "[encoded data removed]",
      "text/plain": [
       "<Figure size 640x480 with 1 Axes>"
      ]
     },
     "metadata": {},
     "output_type": "display_data"
    }
   ],
   "source": [
    "# plot all_preds vs all_true\n",
    "import matplotlib.pyplot as plt\n",
    "plt.scatter(all_true, all_preds)"
   ]
  },
  {
   "cell_type": "code",
   "execution_count": null,
   "metadata": {},
   "outputs": [
    {
     "data": {
      "text/plain": [
       "(0.3721174277965609, 9.094770779503158e-20)"
      ]
     },
     "execution_count": 76,
     "metadata": {},
     "output_type": "execute_result"
    }
   ],
   "source": [
    "# get pearson correlation all_preds vs all_true\n",
    "from scipy.stats import pearsonr\n",
    "pearsonr(all_true, all_preds)"
   ]
  },
  {
   "cell_type": "code",
   "execution_count": null,
   "metadata": {},
   "outputs": [],
   "source": []
  }
 ],
 "metadata": {
  "kernelspec": {
   "display_name": "corlab",
   "language": "python",
   "name": "python3"
  },
  "language_info": {
   "codemirror_mode": {
    "name": "ipython",
    "version": 3
   },
   "file_extension": ".py",
   "mimetype": "text/x-python",
   "name": "python",
   "nbconvert_exporter": "python",
   "pygments_lexer": "ipython3",
   "version": "3.10.4"
  },
  "orig_nbformat": 4
 },
 "nbformat": 4,
 "nbformat_minor": 2
}
