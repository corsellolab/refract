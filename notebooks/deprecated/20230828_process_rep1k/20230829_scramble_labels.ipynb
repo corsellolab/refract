{
 "cells": [
  {
   "cell_type": "markdown",
   "metadata": {},
   "source": [
    "# Scramble the labels, how does this change performance?"
   ]
  },
  {
   "cell_type": "code",
   "execution_count": 1,
   "metadata": {},
   "outputs": [],
   "source": [
    "import pandas as pd\n",
    "import numpy as np\n",
    "import os\n",
    "import sys\n",
    "from tqdm import tqdm"
   ]
  },
  {
   "cell_type": "code",
   "execution_count": 2,
   "metadata": {},
   "outputs": [],
   "source": [
    "df = pd.read_csv(\"../../../data/responses/milademetan.csv\")"
   ]
  },
  {
   "cell_type": "code",
   "execution_count": 4,
   "metadata": {},
   "outputs": [],
   "source": [
    "lfc = df[\"LFC.cb\"]\n",
    "# scramble\n",
    "lfc = lfc.sample(frac=1).reset_index(drop=True)\n",
    "df[\"LFC.cb\"] = lfc"
   ]
  },
  {
   "cell_type": "code",
   "execution_count": 5,
   "metadata": {},
   "outputs": [],
   "source": [
    "df.to_csv(\"data/scrambled_responses/scrambled_milademetan.csv\", index=False)"
   ]
  },
  {
   "cell_type": "code",
   "execution_count": null,
   "metadata": {},
   "outputs": [],
   "source": [
    "python /scratch/users/nphill22/projects/corsello_lab/rep1k_analysis/refract/scripts/run_training.py --response_path /scratch/users/nphill22/projects/corsello_lab/rep1k_analysis/refract/notebooks/20230828_process_rep1k/data/scrambled_responses/scrambled_milademetan.csv --feature_path /scratch/users/nphill22/projects/corsello_lab/final_xgboost_model/data/pkl_depmap_public-22q1-305b_v24/x-all.pkl --output_dir /scratch/users/nphill22/projects/corsello_lab/rep1k_analysis/refract/notebooks/20230828_process_rep1k/data/scrambled_output/milademetan"
   ]
  }
 ],
 "metadata": {
  "kernelspec": {
   "display_name": "corlab",
   "language": "python",
   "name": "python3"
  },
  "language_info": {
   "codemirror_mode": {
    "name": "ipython",
    "version": 3
   },
   "file_extension": ".py",
   "mimetype": "text/x-python",
   "name": "python",
   "nbconvert_exporter": "python",
   "pygments_lexer": "ipython3",
   "version": "3.11.2"
  },
  "orig_nbformat": 4
 },
 "nbformat": 4,
 "nbformat_minor": 2
}
