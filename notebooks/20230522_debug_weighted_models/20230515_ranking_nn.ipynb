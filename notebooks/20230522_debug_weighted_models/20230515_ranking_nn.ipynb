{
 "cells": [
  {
   "attachments": {},
   "cell_type": "markdown",
   "metadata": {},
   "source": [
    "## Ranking Neural Net"
   ]
  },
  {
   "cell_type": "code",
   "execution_count": 339,
   "metadata": {},
   "outputs": [],
   "source": [
    "import torch \n",
    "from torch.utils.data import Dataset\n",
    "import pandas as pd\n",
    "import numpy as np\n",
    "from sklearn.preprocessing import QuantileTransformer, PowerTransformer\n",
    "# import tensorboard\n",
    "from torch.utils.tensorboard import SummaryWriter\n",
    "from scipy.stats import pearsonr"
   ]
  },
  {
   "cell_type": "code",
   "execution_count": 340,
   "metadata": {},
   "outputs": [],
   "source": [
    "class PrismDataset(Dataset):\n",
    "    def __init__(self, response_df, feature_df, feature_importance_df, top_k_features, slate_length, quantile_transfomer=None, prioritize_sensitive=True):\n",
    "        self.response_df = response_df\n",
    "        self.feature_df = feature_df\n",
    "        self.feature_importance_df = feature_importance_df\n",
    "        self.top_k_features = top_k_features\n",
    "        self.slate_length = slate_length\n",
    "        self.prioritize_sensitive = prioritize_sensitive\n",
    "        \n",
    "        # Get the top k features based on importance\n",
    "        self.top_features = self.feature_importance_df.nlargest(top_k_features, \"importance\")[\"feature\"].tolist()\n",
    "\n",
    "        # filter self.feature_df to include only the top features\n",
    "        self.feature_df = self.feature_df.loc[:, self.top_features]\n",
    "\n",
    "        # quantile transform all features\n",
    "        if not quantile_transfomer:\n",
    "            self.quantile_transfomer = PowerTransformer()\n",
    "            self.quantile_transfomer.fit(self.feature_df)\n",
    "        else:\n",
    "            self.quantile_transfomer = quantile_transfomer\n",
    "\n",
    "        # quantile transform feature_df\n",
    "        self.feature_df = pd.DataFrame(self.quantile_transfomer.transform(self.feature_df), columns=self.feature_df.columns, index=self.feature_df.index)\n",
    "\n",
    "        # quantile transform labels\n",
    "        self.label_transformer = QuantileTransformer()\n",
    "        self.response_df[\"LFC.cb\"] = self.label_transformer.fit_transform(self.response_df[[\"LFC.cb\"]])\n",
    "        if self.prioritize_sensitive:\n",
    "            self.response_df.loc[:, \"LFC.cb\"] = 1 - self.response_df.loc[:, \"LFC.cb\"]\n",
    "        # scale from 0 to 5\n",
    "        self.response_df.loc[:, \"LFC.cb\"] = self.response_df.loc[:, \"LFC.cb\"] * 5\n",
    "\n",
    "        # Join response_df and feature_df on \"ccle_name\"\n",
    "        self.joined_df = pd.merge(self.response_df, self.feature_df, on=\"ccle_name\")\n",
    "        # set index to \"ccle_name\"\n",
    "        self.joined_df = self.joined_df.set_index(\"ccle_name\")\n",
    "\n",
    "        # Order the columns\n",
    "        self.cols = self.top_features + [\"LFC.cb\"]\n",
    "        self.joined_df = self.joined_df.loc[:, self.cols]\n",
    "\n",
    "        # impute missing values\n",
    "        self.joined_df = self.joined_df.fillna(-1)\n",
    "\n",
    "        # get ccle_names\n",
    "        self.ccle_names = self.joined_df.index.tolist()\n",
    "\n",
    "        if len(self.ccle_names) < self.slate_length:\n",
    "            self.slate_length = len(self.ccle_names)\n",
    "\n",
    "    def __len__(self):\n",
    "        return len(self.ccle_names)\n",
    "\n",
    "    def __getitem__(self, idx):\n",
    "        # get slate_length - 1 samples from ccle_names\n",
    "        index_name = self.ccle_names[idx]\n",
    "        ccle_names = np.random.choice(self.ccle_names, self.slate_length - 1, replace=False).tolist()\n",
    "        \n",
    "        # get [index_name, *ccle_names] from joined_df\n",
    "        samples = self.joined_df.loc[[index_name] + ccle_names, :]\n",
    "        \n",
    "        # Extract features and labels from the samples\n",
    "        features = torch.tensor(samples.iloc[:, :-1].values, dtype=torch.float32)\n",
    "        labels = torch.tensor(samples.iloc[:, -1].values.squeeze(), dtype=torch.float32)\n",
    "\n",
    "        return features, labels\n"
   ]
  },
  {
   "cell_type": "code",
   "execution_count": 341,
   "metadata": {},
   "outputs": [],
   "source": [
    "feature_path = \"../../tests/data/test_features/x-all.pkl\"\n",
    "response_path = \"../../tests/data/test_responses.csv\"\n",
    "feature_importance_path = \"../../tests/data/test_output/cv/zotarolimus_BRD-K46843573-001-01-9_2.5_all_feature_importances.csv\""
   ]
  },
  {
   "cell_type": "code",
   "execution_count": 342,
   "metadata": {},
   "outputs": [],
   "source": [
    "import pickle\n",
    "with open(feature_path, \"rb\") as f:\n",
    "    feature_df = pickle.load(f)\n",
    "# rename index as ccle_name\n",
    "feature_df = feature_df.rename_axis(\"ccle_name\")"
   ]
  },
  {
   "cell_type": "code",
   "execution_count": 343,
   "metadata": {},
   "outputs": [],
   "source": [
    "response_df = pd.read_csv(response_path)"
   ]
  },
  {
   "cell_type": "code",
   "execution_count": 344,
   "metadata": {},
   "outputs": [],
   "source": [
    "feature_importance_df = pd.read_csv(feature_importance_path)"
   ]
  },
  {
   "cell_type": "code",
   "execution_count": 345,
   "metadata": {},
   "outputs": [
    {
     "name": "stderr",
     "output_type": "stream",
     "text": [
      "n_quantiles (1000) is greater than the total number of samples (50). n_quantiles is set to n_samples.\n"
     ]
    }
   ],
   "source": [
    "ds = PrismDataset(response_df, feature_df, feature_importance_df, 100, 10)"
   ]
  },
  {
   "cell_type": "code",
   "execution_count": 346,
   "metadata": {},
   "outputs": [
    {
     "data": {
      "text/plain": [
       "(tensor([[ 1.4714,  1.3802, -0.2590, -0.4291,  0.0694,  0.3141,  0.8002,  0.1148,\n",
       "          -0.3804, -0.4974],\n",
       "         [-1.0000, -1.0000, -1.0000, -1.0000, -1.0000, -1.0000, -1.0000, -1.0000,\n",
       "          -1.0000, -1.0000],\n",
       "         [ 0.8584, -0.3793,  0.2892,  0.0631,  0.0881,  0.1156, -0.4406, -1.1399,\n",
       "          -2.4891, -0.4974],\n",
       "         [-1.2352,  0.9600, -0.8605, -0.2508, -1.0352, -0.5007,  0.5604,  0.3973,\n",
       "           2.4312, -0.4974],\n",
       "         [-0.0547, -1.3340, -0.7092,  0.9247, -0.0938, -1.3944,  0.0121, -0.6382,\n",
       "          -0.0343, -0.4974],\n",
       "         [ 0.4510, -0.9949,  1.6994,  0.4267, -2.2797,  0.0129,  2.2422,  1.8409,\n",
       "           1.1940,  2.1505],\n",
       "         [-0.0734, -0.7190, -0.0973,  0.9718, -0.5173,  0.1388, -1.2816, -0.2258,\n",
       "           0.6783, -0.4974],\n",
       "         [-0.9030,  1.5698,  0.1464, -1.1285,  0.7820, -0.1685, -0.3057,  0.3973,\n",
       "           0.3033, -0.4974],\n",
       "         [-0.2944,  0.4510,  1.9956, -1.4555,  0.2095,  0.6602,  0.0276,  0.8292,\n",
       "          -0.1705, -0.4974],\n",
       "         [ 0.3972,  1.2074, -1.1109, -0.9806,  0.7207, -0.2703, -0.0330,  1.1333,\n",
       "           0.0844,  1.6746]]),\n",
       " tensor([0.0000, 3.3673, 1.2245, 4.8980, 0.6122, 2.2449, 3.1633, 4.6939, 1.6327,\n",
       "         2.7551]))"
      ]
     },
     "execution_count": 346,
     "metadata": {},
     "output_type": "execute_result"
    }
   ],
   "source": [
    "ds[0]"
   ]
  },
  {
   "cell_type": "code",
   "execution_count": 347,
   "metadata": {},
   "outputs": [],
   "source": [
    "import torch\n",
    "\n",
    "PADDED_Y_VALUE = -1\n",
    "DEFAULT_EPS = 1e-10\n",
    "\n",
    "\n",
    "def lambdaLoss(y_pred, y_true, eps=DEFAULT_EPS, padded_value_indicator=PADDED_Y_VALUE, weighing_scheme=None, k=None, sigma=1., mu=10.,\n",
    "               reduction=\"sum\", reduction_log=\"binary\"):\n",
    "    \"\"\"\n",
    "    LambdaLoss framework for LTR losses implementations, introduced in \"The LambdaLoss Framework for Ranking Metric Optimization\".\n",
    "    Contains implementations of different weighing schemes corresponding to e.g. LambdaRank or RankNet.\n",
    "    :param y_pred: predictions from the model, shape [batch_size, slate_length]\n",
    "    :param y_true: ground truth labels, shape [batch_size, slate_length]\n",
    "    :param eps: epsilon value, used for numerical stability\n",
    "    :param padded_value_indicator: an indicator of the y_true index containing a padded item, e.g. -1\n",
    "    :param weighing_scheme: a string corresponding to a name of one of the weighing schemes\n",
    "    :param k: rank at which the loss is truncated\n",
    "    :param sigma: score difference weight used in the sigmoid function\n",
    "    :param mu: optional weight used in NDCGLoss2++ weighing scheme\n",
    "    :param reduction: losses reduction method, could be either a sum or a mean\n",
    "    :param reduction_log: logarithm variant used prior to masking and loss reduction, either binary or natural\n",
    "    :return: loss value, a torch.Tensor\n",
    "    \"\"\"\n",
    "    device = y_pred.device\n",
    "    y_pred = y_pred.clone()\n",
    "    y_true = y_true.clone()\n",
    "\n",
    "    padded_mask = y_true == padded_value_indicator\n",
    "    y_pred[padded_mask] = float(\"-inf\")\n",
    "    y_true[padded_mask] = float(\"-inf\")\n",
    "\n",
    "    # Here we sort the true and predicted relevancy scores.\n",
    "    y_pred_sorted, indices_pred = y_pred.sort(descending=True, dim=-1)\n",
    "    y_true_sorted, _ = y_true.sort(descending=True, dim=-1)\n",
    "\n",
    "    # After sorting, we can mask out the pairs of indices (i, j) containing index of a padded element.\n",
    "    true_sorted_by_preds = torch.gather(y_true, dim=1, index=indices_pred)\n",
    "    true_diffs = true_sorted_by_preds[:, :, None] - true_sorted_by_preds[:, None, :]\n",
    "    padded_pairs_mask = torch.isfinite(true_diffs)\n",
    "\n",
    "    if weighing_scheme != \"ndcgLoss1_scheme\":\n",
    "        padded_pairs_mask = padded_pairs_mask & (true_diffs > 0)\n",
    "\n",
    "    ndcg_at_k_mask = torch.zeros((y_pred.shape[1], y_pred.shape[1]), dtype=torch.bool, device=device)\n",
    "    ndcg_at_k_mask[:k, :k] = 1\n",
    "\n",
    "    # Here we clamp the -infs to get correct gains and ideal DCGs (maxDCGs)\n",
    "    true_sorted_by_preds.clamp_(min=0.)\n",
    "    y_true_sorted.clamp_(min=0.)\n",
    "\n",
    "    # Here we find the gains, discounts and ideal DCGs per slate.\n",
    "    pos_idxs = torch.arange(1, y_pred.shape[1] + 1).to(device)\n",
    "    D = torch.log2(1. + pos_idxs.float())[None, :]\n",
    "    maxDCGs = torch.sum(((torch.pow(2, y_true_sorted) - 1) / D)[:, :k], dim=-1).clamp(min=eps)\n",
    "    G = (torch.pow(2, true_sorted_by_preds) - 1) / maxDCGs[:, None]\n",
    "\n",
    "    # Here we apply appropriate weighing scheme - ndcgLoss1, ndcgLoss2, ndcgLoss2++ or no weights (=1.0)\n",
    "    if weighing_scheme is None:\n",
    "        weights = 1.\n",
    "    else:\n",
    "        weights = globals()[weighing_scheme](G, D, mu, true_sorted_by_preds)  # type: ignore\n",
    "\n",
    "    # We are clamping the array entries to maintain correct backprop (log(0) and division by 0)\n",
    "    scores_diffs = (y_pred_sorted[:, :, None] - y_pred_sorted[:, None, :]).clamp(min=-1e8, max=1e8)\n",
    "    scores_diffs.masked_fill(torch.isnan(scores_diffs), 0.)\n",
    "    weighted_probas = (torch.sigmoid(sigma * scores_diffs).clamp(min=eps) ** weights).clamp(min=eps)\n",
    "    if reduction_log == \"natural\":\n",
    "        losses = torch.log(weighted_probas)\n",
    "    elif reduction_log == \"binary\":\n",
    "        losses = torch.log2(weighted_probas)\n",
    "    else:\n",
    "        raise ValueError(\"Reduction logarithm base can be either natural or binary\")\n",
    "\n",
    "    if reduction == \"sum\":\n",
    "        loss = -torch.sum(losses[padded_pairs_mask & ndcg_at_k_mask])\n",
    "    elif reduction == \"mean\":\n",
    "        loss = -torch.mean(losses[padded_pairs_mask & ndcg_at_k_mask])\n",
    "    else:\n",
    "        raise ValueError(\"Reduction method can be either sum or mean\")\n",
    "\n",
    "    return loss\n",
    "\n",
    "\n",
    "def ndcgLoss1_scheme(G, D, *args):\n",
    "    return (G / D)[:, :, None]\n",
    "\n",
    "\n",
    "def ndcgLoss2_scheme(G, D, *args):\n",
    "    pos_idxs = torch.arange(1, G.shape[1] + 1, device=G.device)\n",
    "    delta_idxs = torch.abs(pos_idxs[:, None] - pos_idxs[None, :])\n",
    "    deltas = torch.abs(torch.pow(torch.abs(D[0, delta_idxs - 1]), -1.) - torch.pow(torch.abs(D[0, delta_idxs]), -1.))\n",
    "    deltas.diagonal().zero_()\n",
    "\n",
    "    return deltas[None, :, :] * torch.abs(G[:, :, None] - G[:, None, :])\n",
    "\n",
    "\n",
    "def lambdaRank_scheme(G, D, *args):\n",
    "    return torch.abs(torch.pow(D[:, :, None], -1.) - torch.pow(D[:, None, :], -1.)) * torch.abs(G[:, :, None] - G[:, None, :])\n",
    "\n",
    "\n",
    "def ndcgLoss2PP_scheme(G, D, *args):\n",
    "    return args[0] * ndcgLoss2_scheme(G, D) + lambdaRank_scheme(G, D)\n",
    "\n",
    "\n",
    "def rankNet_scheme(G, D, *args):\n",
    "    return 1.\n",
    "\n",
    "\n",
    "def rankNetWeightedByGTDiff_scheme(G, D, *args):\n",
    "    return torch.abs(args[1][:, :, None] - args[1][:, None, :])\n",
    "\n",
    "\n",
    "def rankNetWeightedByGTDiffPowed_scheme(G, D, *args):\n",
    "    return torch.abs(torch.pow(args[1][:, :, None], 2) - torch.pow(args[1][:, None, :], 2))"
   ]
  },
  {
   "cell_type": "code",
   "execution_count": 348,
   "metadata": {},
   "outputs": [],
   "source": [
    "import torch\n",
    "import torch.nn as nn\n",
    "\n",
    "class FeedForwardNet(nn.Module):\n",
    "    def __init__(self, input_dim):\n",
    "        super(FeedForwardNet, self).__init__()\n",
    "        self.fc1 = nn.Linear(input_dim, 64)\n",
    "        self.fc2 = nn.Linear(64, 32)\n",
    "        self.fc3 = nn.Linear(32, 1)\n",
    "\n",
    "    def forward(self, x):\n",
    "        x = torch.relu(self.fc1(x))\n",
    "        x = torch.relu(self.fc2(x))\n",
    "        x = self.fc3(x)\n",
    "        return x\n"
   ]
  },
  {
   "cell_type": "code",
   "execution_count": 349,
   "metadata": {},
   "outputs": [],
   "source": [
    "model = FeedForwardNet(10)"
   ]
  },
  {
   "cell_type": "code",
   "execution_count": 350,
   "metadata": {},
   "outputs": [],
   "source": [
    "# create a torch dataloader around the dataset\n",
    "from torch.utils.data import DataLoader\n",
    "dl = DataLoader(ds, batch_size=3, shuffle=True)"
   ]
  },
  {
   "cell_type": "code",
   "execution_count": 351,
   "metadata": {},
   "outputs": [],
   "source": [
    "optimizer = torch.optim.Adam(model.parameters(), lr=0.001)"
   ]
  },
  {
   "cell_type": "code",
   "execution_count": 352,
   "metadata": {},
   "outputs": [
    {
     "name": "stdout",
     "output_type": "stream",
     "text": [
      "Epoch [1/10], Loss: 83.7350\n",
      "Epoch [2/10], Loss: 77.0161\n",
      "Epoch [3/10], Loss: 74.2184\n",
      "Epoch [4/10], Loss: 66.5239\n",
      "Epoch [5/10], Loss: 63.5489\n",
      "Epoch [6/10], Loss: 64.7216\n",
      "Epoch [7/10], Loss: 51.4670\n",
      "Epoch [8/10], Loss: 59.7166\n",
      "Epoch [9/10], Loss: 53.7766\n",
      "Epoch [10/10], Loss: 51.0442\n"
     ]
    }
   ],
   "source": [
    "for epoch in range(10):\n",
    "    for batch in dl:\n",
    "        features, labels = batch\n",
    "        pred_scores = model(features)\n",
    "        loss = lambdaLoss(pred_scores.squeeze(), labels)\n",
    "        loss.backward()\n",
    "        optimizer.step()\n",
    "        optimizer.zero_grad()\n",
    "    print('Epoch [{}/{}], Loss: {:.4f}'.format(epoch+1, 10, loss.item()))"
   ]
  },
  {
   "cell_type": "code",
   "execution_count": 353,
   "metadata": {},
   "outputs": [
    {
     "data": {
      "text/plain": [
       "torch.Size([2, 10, 1])"
      ]
     },
     "execution_count": 353,
     "metadata": {},
     "output_type": "execute_result"
    }
   ],
   "source": [
    "pred_scores.shape"
   ]
  },
  {
   "cell_type": "code",
   "execution_count": 354,
   "metadata": {},
   "outputs": [
    {
     "data": {
      "text/plain": [
       "tensor([[[ 1.1860],\n",
       "         [ 2.4874],\n",
       "         [ 1.3602],\n",
       "         [ 1.1860],\n",
       "         [ 0.1891],\n",
       "         [ 2.5484],\n",
       "         [-1.0674],\n",
       "         [-0.5478],\n",
       "         [-0.6696],\n",
       "         [ 1.1459]],\n",
       "\n",
       "        [[ 1.1459],\n",
       "         [ 1.1860],\n",
       "         [ 2.4874],\n",
       "         [-0.6522],\n",
       "         [-0.0179],\n",
       "         [ 0.1441],\n",
       "         [ 0.9555],\n",
       "         [ 4.3952],\n",
       "         [-0.2660],\n",
       "         [ 0.1891]]], grad_fn=<ViewBackward0>)"
      ]
     },
     "execution_count": 354,
     "metadata": {},
     "output_type": "execute_result"
    }
   ],
   "source": [
    "pred_scores"
   ]
  },
  {
   "attachments": {},
   "cell_type": "markdown",
   "metadata": {},
   "source": [
    "# Now do the same but train on the GPU with real data"
   ]
  },
  {
   "cell_type": "code",
   "execution_count": 355,
   "metadata": {},
   "outputs": [],
   "source": [
    "feature_path = \"/mnt/c/Users/nick/Desktop/corsello_lab/data/depmap_public-22q1-305b_v24/x-all.pkl\"\n",
    "response_path = \"/mnt/c/Users/nick/Desktop/corsello_lab/data/depmap_repurposing/updated_responses/AMG-232.csv\"\n",
    "feature_importance_path = \"/mnt/c/Users/nick/Desktop/corsello_lab/refract/notebooks/20230522_debug_weighted_models/data/baseline_rf/all/AMG-232_BRD-K64925568-001-01-8_2.5_all_feature_importances.csv\""
   ]
  },
  {
   "cell_type": "code",
   "execution_count": 356,
   "metadata": {},
   "outputs": [],
   "source": [
    "import pickle\n",
    "with open(feature_path, \"rb\") as f:\n",
    "    feature_df = pickle.load(f)\n",
    "# rename index as ccle_name\n",
    "feature_df = feature_df.rename_axis(\"ccle_name\")"
   ]
  },
  {
   "cell_type": "code",
   "execution_count": 357,
   "metadata": {},
   "outputs": [],
   "source": [
    "response_df = pd.read_csv(response_path)"
   ]
  },
  {
   "cell_type": "code",
   "execution_count": 358,
   "metadata": {},
   "outputs": [],
   "source": [
    "feature_importance_df = pd.read_csv(feature_importance_path)"
   ]
  },
  {
   "cell_type": "code",
   "execution_count": 359,
   "metadata": {},
   "outputs": [],
   "source": [
    "device = torch.device('cuda' if torch.cuda.is_available() else 'cpu')"
   ]
  },
  {
   "cell_type": "code",
   "execution_count": 360,
   "metadata": {},
   "outputs": [],
   "source": [
    "from sklearn.model_selection import KFold"
   ]
  },
  {
   "cell_type": "code",
   "execution_count": 361,
   "metadata": {},
   "outputs": [],
   "source": [
    "splitter = KFold(n_splits=5, shuffle=True, random_state=42)"
   ]
  },
  {
   "cell_type": "code",
   "execution_count": 362,
   "metadata": {},
   "outputs": [
    {
     "name": "stdout",
     "output_type": "stream",
     "text": [
      "Fold 1\n"
     ]
    },
    {
     "name": "stderr",
     "output_type": "stream",
     "text": [
      "n_quantiles (1000) is greater than the total number of samples (447). n_quantiles is set to n_samples.\n"
     ]
    },
    {
     "name": "stdout",
     "output_type": "stream",
     "text": [
      "Epoch [1/50], Loss: 1902.4792\n",
      "Epoch [2/50], Loss: 1488.2336\n",
      "Epoch [3/50], Loss: 998.4606\n",
      "Epoch [4/50], Loss: 671.9679\n",
      "Epoch [5/50], Loss: 507.5835\n",
      "Epoch [6/50], Loss: 409.0882\n",
      "Epoch [7/50], Loss: 356.8562\n",
      "Epoch [8/50], Loss: 302.2748\n",
      "Epoch [9/50], Loss: 267.3059\n",
      "Epoch [10/50], Loss: 248.5643\n",
      "Epoch [11/50], Loss: 225.2048\n",
      "Epoch [12/50], Loss: 204.7771\n",
      "Epoch [13/50], Loss: 195.9507\n",
      "Epoch [14/50], Loss: 169.2624\n",
      "Epoch [15/50], Loss: 163.2707\n",
      "Epoch [16/50], Loss: 154.7079\n",
      "Epoch [17/50], Loss: 146.2099\n",
      "Epoch [18/50], Loss: 130.1868\n",
      "Epoch [19/50], Loss: 118.5852\n",
      "Epoch [20/50], Loss: 111.5818\n",
      "Epoch [21/50], Loss: 107.8012\n",
      "Epoch [22/50], Loss: 107.6982\n",
      "Epoch [23/50], Loss: 94.9110\n",
      "Epoch [24/50], Loss: 96.6542\n",
      "Epoch [25/50], Loss: 89.0928\n",
      "Epoch [26/50], Loss: 83.9239\n",
      "Epoch [27/50], Loss: 81.3064\n",
      "Epoch [28/50], Loss: 78.4213\n",
      "Epoch [29/50], Loss: 73.8633\n",
      "Epoch [30/50], Loss: 71.1735\n",
      "Epoch [31/50], Loss: 64.5723\n",
      "Epoch [32/50], Loss: 60.4515\n",
      "Epoch [33/50], Loss: 57.4912\n",
      "Epoch [34/50], Loss: 58.2308\n",
      "Epoch [35/50], Loss: 55.2685\n",
      "Epoch [36/50], Loss: 51.3828\n",
      "Epoch [37/50], Loss: 50.8133\n",
      "Epoch [38/50], Loss: 47.9908\n",
      "Epoch [39/50], Loss: 46.5895\n",
      "Epoch [40/50], Loss: 45.3521\n",
      "Epoch [41/50], Loss: 42.9591\n",
      "Epoch [42/50], Loss: 41.6389\n",
      "Epoch [43/50], Loss: 40.6064\n",
      "Epoch [44/50], Loss: 40.5765\n",
      "Epoch [45/50], Loss: 37.5404\n",
      "Epoch [46/50], Loss: 37.2501\n",
      "Epoch [47/50], Loss: 35.1038\n",
      "Epoch [48/50], Loss: 36.6454\n",
      "Epoch [49/50], Loss: 31.9754\n",
      "Epoch [50/50], Loss: 32.5084\n"
     ]
    },
    {
     "name": "stderr",
     "output_type": "stream",
     "text": [
      "n_quantiles (1000) is greater than the total number of samples (112). n_quantiles is set to n_samples.\n"
     ]
    },
    {
     "name": "stdout",
     "output_type": "stream",
     "text": [
      "Fold 2\n"
     ]
    },
    {
     "name": "stderr",
     "output_type": "stream",
     "text": [
      "n_quantiles (1000) is greater than the total number of samples (447). n_quantiles is set to n_samples.\n"
     ]
    },
    {
     "name": "stdout",
     "output_type": "stream",
     "text": [
      "Epoch [1/50], Loss: 1867.4446\n",
      "Epoch [2/50], Loss: 1295.1257\n",
      "Epoch [3/50], Loss: 840.4673\n",
      "Epoch [4/50], Loss: 533.6327\n",
      "Epoch [5/50], Loss: 396.6432\n",
      "Epoch [6/50], Loss: 312.8341\n",
      "Epoch [7/50], Loss: 278.5717\n",
      "Epoch [8/50], Loss: 253.2895\n",
      "Epoch [9/50], Loss: 219.6324\n",
      "Epoch [10/50], Loss: 206.2332\n",
      "Epoch [11/50], Loss: 197.0900\n",
      "Epoch [12/50], Loss: 178.9939\n",
      "Epoch [13/50], Loss: 162.7427\n",
      "Epoch [14/50], Loss: 156.4442\n",
      "Epoch [15/50], Loss: 145.4230\n",
      "Epoch [16/50], Loss: 125.9742\n",
      "Epoch [17/50], Loss: 123.4132\n",
      "Epoch [18/50], Loss: 118.5312\n",
      "Epoch [19/50], Loss: 111.0149\n",
      "Epoch [20/50], Loss: 104.3954\n",
      "Epoch [21/50], Loss: 97.9120\n",
      "Epoch [22/50], Loss: 93.7510\n",
      "Epoch [23/50], Loss: 90.1515\n",
      "Epoch [24/50], Loss: 85.4512\n",
      "Epoch [25/50], Loss: 80.1674\n",
      "Epoch [26/50], Loss: 79.2651\n",
      "Epoch [27/50], Loss: 69.4472\n",
      "Epoch [28/50], Loss: 70.9108\n",
      "Epoch [29/50], Loss: 68.2029\n",
      "Epoch [30/50], Loss: 66.4406\n",
      "Epoch [31/50], Loss: 62.0176\n",
      "Epoch [32/50], Loss: 60.4411\n",
      "Epoch [33/50], Loss: 55.6233\n",
      "Epoch [34/50], Loss: 54.4417\n",
      "Epoch [35/50], Loss: 54.3079\n",
      "Epoch [36/50], Loss: 49.1020\n",
      "Epoch [37/50], Loss: 48.6504\n",
      "Epoch [38/50], Loss: 46.1158\n",
      "Epoch [39/50], Loss: 45.0413\n",
      "Epoch [40/50], Loss: 41.9337\n",
      "Epoch [41/50], Loss: 43.4423\n",
      "Epoch [42/50], Loss: 41.3376\n",
      "Epoch [43/50], Loss: 37.8364\n",
      "Epoch [44/50], Loss: 35.4641\n",
      "Epoch [45/50], Loss: 36.6395\n",
      "Epoch [46/50], Loss: 33.4584\n",
      "Epoch [47/50], Loss: 33.8405\n",
      "Epoch [48/50], Loss: 31.8108\n",
      "Epoch [49/50], Loss: 29.6406\n",
      "Epoch [50/50], Loss: 29.9369\n"
     ]
    },
    {
     "name": "stderr",
     "output_type": "stream",
     "text": [
      "n_quantiles (1000) is greater than the total number of samples (112). n_quantiles is set to n_samples.\n"
     ]
    },
    {
     "name": "stdout",
     "output_type": "stream",
     "text": [
      "Fold 3\n"
     ]
    },
    {
     "name": "stderr",
     "output_type": "stream",
     "text": [
      "n_quantiles (1000) is greater than the total number of samples (447). n_quantiles is set to n_samples.\n"
     ]
    },
    {
     "name": "stdout",
     "output_type": "stream",
     "text": [
      "Epoch [1/50], Loss: 1961.2830\n",
      "Epoch [2/50], Loss: 1628.8318\n",
      "Epoch [3/50], Loss: 1150.3182\n",
      "Epoch [4/50], Loss: 765.9973\n",
      "Epoch [5/50], Loss: 544.6154\n",
      "Epoch [6/50], Loss: 426.9452\n",
      "Epoch [7/50], Loss: 361.3051\n",
      "Epoch [8/50], Loss: 323.4401\n",
      "Epoch [9/50], Loss: 282.8615\n",
      "Epoch [10/50], Loss: 269.2475\n",
      "Epoch [11/50], Loss: 236.5366\n",
      "Epoch [12/50], Loss: 212.7722\n",
      "Epoch [13/50], Loss: 184.9404\n",
      "Epoch [14/50], Loss: 173.0493\n",
      "Epoch [15/50], Loss: 168.7301\n",
      "Epoch [16/50], Loss: 148.1085\n",
      "Epoch [17/50], Loss: 143.7040\n",
      "Epoch [18/50], Loss: 132.5027\n",
      "Epoch [19/50], Loss: 121.5747\n",
      "Epoch [20/50], Loss: 115.8512\n",
      "Epoch [21/50], Loss: 113.9911\n",
      "Epoch [22/50], Loss: 104.4304\n",
      "Epoch [23/50], Loss: 100.0878\n",
      "Epoch [24/50], Loss: 98.1798\n",
      "Epoch [25/50], Loss: 88.4704\n",
      "Epoch [26/50], Loss: 85.3926\n",
      "Epoch [27/50], Loss: 80.8018\n",
      "Epoch [28/50], Loss: 76.7713\n",
      "Epoch [29/50], Loss: 70.0124\n",
      "Epoch [30/50], Loss: 70.1985\n",
      "Epoch [31/50], Loss: 70.7227\n",
      "Epoch [32/50], Loss: 65.7736\n",
      "Epoch [33/50], Loss: 61.7764\n",
      "Epoch [34/50], Loss: 57.9315\n",
      "Epoch [35/50], Loss: 56.1802\n",
      "Epoch [36/50], Loss: 54.1081\n",
      "Epoch [37/50], Loss: 54.5291\n",
      "Epoch [38/50], Loss: 53.2857\n",
      "Epoch [39/50], Loss: 50.9649\n",
      "Epoch [40/50], Loss: 50.0251\n",
      "Epoch [41/50], Loss: 47.5854\n",
      "Epoch [42/50], Loss: 46.5642\n",
      "Epoch [43/50], Loss: 42.5119\n",
      "Epoch [44/50], Loss: 40.5656\n",
      "Epoch [45/50], Loss: 40.0565\n",
      "Epoch [46/50], Loss: 39.6419\n",
      "Epoch [47/50], Loss: 37.0800\n",
      "Epoch [48/50], Loss: 37.2968\n",
      "Epoch [49/50], Loss: 36.1775\n",
      "Epoch [50/50], Loss: 34.3190\n"
     ]
    },
    {
     "name": "stderr",
     "output_type": "stream",
     "text": [
      "n_quantiles (1000) is greater than the total number of samples (112). n_quantiles is set to n_samples.\n"
     ]
    },
    {
     "name": "stdout",
     "output_type": "stream",
     "text": [
      "Fold 4\n"
     ]
    },
    {
     "name": "stderr",
     "output_type": "stream",
     "text": [
      "n_quantiles (1000) is greater than the total number of samples (447). n_quantiles is set to n_samples.\n"
     ]
    },
    {
     "name": "stdout",
     "output_type": "stream",
     "text": [
      "Epoch [1/50], Loss: 1872.0806\n",
      "Epoch [2/50], Loss: 1504.8468\n",
      "Epoch [3/50], Loss: 1074.1658\n",
      "Epoch [4/50], Loss: 705.3162\n",
      "Epoch [5/50], Loss: 513.7089\n",
      "Epoch [6/50], Loss: 400.1346\n",
      "Epoch [7/50], Loss: 358.2637\n",
      "Epoch [8/50], Loss: 309.6370\n",
      "Epoch [9/50], Loss: 296.3632\n",
      "Epoch [10/50], Loss: 254.7115\n",
      "Epoch [11/50], Loss: 233.0743\n",
      "Epoch [12/50], Loss: 205.3704\n",
      "Epoch [13/50], Loss: 187.9191\n",
      "Epoch [14/50], Loss: 175.9607\n",
      "Epoch [15/50], Loss: 167.8713\n",
      "Epoch [16/50], Loss: 157.6629\n",
      "Epoch [17/50], Loss: 145.3151\n",
      "Epoch [18/50], Loss: 131.3767\n",
      "Epoch [19/50], Loss: 130.1006\n",
      "Epoch [20/50], Loss: 117.9157\n",
      "Epoch [21/50], Loss: 112.7071\n",
      "Epoch [22/50], Loss: 102.7788\n",
      "Epoch [23/50], Loss: 101.7080\n",
      "Epoch [24/50], Loss: 91.1322\n",
      "Epoch [25/50], Loss: 94.4302\n",
      "Epoch [26/50], Loss: 84.2598\n",
      "Epoch [27/50], Loss: 82.3835\n",
      "Epoch [28/50], Loss: 80.4131\n",
      "Epoch [29/50], Loss: 73.7987\n",
      "Epoch [30/50], Loss: 72.9818\n",
      "Epoch [31/50], Loss: 68.2144\n",
      "Epoch [32/50], Loss: 64.4177\n",
      "Epoch [33/50], Loss: 60.6406\n",
      "Epoch [34/50], Loss: 60.8931\n",
      "Epoch [35/50], Loss: 57.8726\n",
      "Epoch [36/50], Loss: 55.2892\n",
      "Epoch [37/50], Loss: 53.1421\n",
      "Epoch [38/50], Loss: 50.2687\n",
      "Epoch [39/50], Loss: 47.0657\n",
      "Epoch [40/50], Loss: 48.7889\n",
      "Epoch [41/50], Loss: 47.1393\n",
      "Epoch [42/50], Loss: 44.3286\n",
      "Epoch [43/50], Loss: 40.8503\n",
      "Epoch [44/50], Loss: 40.8424\n",
      "Epoch [45/50], Loss: 37.8798\n",
      "Epoch [46/50], Loss: 36.9099\n",
      "Epoch [47/50], Loss: 33.9203\n",
      "Epoch [48/50], Loss: 34.4071\n",
      "Epoch [49/50], Loss: 33.7149\n",
      "Epoch [50/50], Loss: 32.3538\n"
     ]
    },
    {
     "name": "stderr",
     "output_type": "stream",
     "text": [
      "n_quantiles (1000) is greater than the total number of samples (112). n_quantiles is set to n_samples.\n"
     ]
    },
    {
     "name": "stdout",
     "output_type": "stream",
     "text": [
      "Fold 5\n"
     ]
    },
    {
     "name": "stderr",
     "output_type": "stream",
     "text": [
      "n_quantiles (1000) is greater than the total number of samples (448). n_quantiles is set to n_samples.\n"
     ]
    },
    {
     "name": "stdout",
     "output_type": "stream",
     "text": [
      "Epoch [1/50], Loss: 1915.3446\n",
      "Epoch [2/50], Loss: 1425.9965\n",
      "Epoch [3/50], Loss: 936.8922\n",
      "Epoch [4/50], Loss: 644.6122\n",
      "Epoch [5/50], Loss: 481.6199\n",
      "Epoch [6/50], Loss: 389.2834\n",
      "Epoch [7/50], Loss: 340.9587\n",
      "Epoch [8/50], Loss: 298.7892\n",
      "Epoch [9/50], Loss: 273.9911\n",
      "Epoch [10/50], Loss: 253.3874\n",
      "Epoch [11/50], Loss: 218.3663\n",
      "Epoch [12/50], Loss: 205.9157\n",
      "Epoch [13/50], Loss: 195.9019\n",
      "Epoch [14/50], Loss: 176.1024\n",
      "Epoch [15/50], Loss: 162.5779\n",
      "Epoch [16/50], Loss: 156.1584\n",
      "Epoch [17/50], Loss: 145.1168\n",
      "Epoch [18/50], Loss: 136.4697\n",
      "Epoch [19/50], Loss: 123.5622\n",
      "Epoch [20/50], Loss: 121.7644\n",
      "Epoch [21/50], Loss: 115.1978\n",
      "Epoch [22/50], Loss: 111.6557\n",
      "Epoch [23/50], Loss: 98.7580\n",
      "Epoch [24/50], Loss: 95.7167\n",
      "Epoch [25/50], Loss: 90.3159\n",
      "Epoch [26/50], Loss: 85.1384\n",
      "Epoch [27/50], Loss: 78.7013\n",
      "Epoch [28/50], Loss: 81.2928\n",
      "Epoch [29/50], Loss: 79.5840\n",
      "Epoch [30/50], Loss: 76.7211\n",
      "Epoch [31/50], Loss: 71.4021\n",
      "Epoch [32/50], Loss: 68.4082\n",
      "Epoch [33/50], Loss: 62.1643\n",
      "Epoch [34/50], Loss: 63.8993\n",
      "Epoch [35/50], Loss: 61.6948\n",
      "Epoch [36/50], Loss: 62.0527\n",
      "Epoch [37/50], Loss: 58.1933\n",
      "Epoch [38/50], Loss: 56.1757\n",
      "Epoch [39/50], Loss: 54.3751\n",
      "Epoch [40/50], Loss: 48.7979\n",
      "Epoch [41/50], Loss: 50.7823\n",
      "Epoch [42/50], Loss: 50.1794\n",
      "Epoch [43/50], Loss: 46.0581\n",
      "Epoch [44/50], Loss: 48.2892\n",
      "Epoch [45/50], Loss: 40.9235\n",
      "Epoch [46/50], Loss: 45.7428\n",
      "Epoch [47/50], Loss: 41.7839\n",
      "Epoch [48/50], Loss: 41.5929\n",
      "Epoch [49/50], Loss: 40.5272\n",
      "Epoch [50/50], Loss: 37.3610\n"
     ]
    },
    {
     "name": "stderr",
     "output_type": "stream",
     "text": [
      "n_quantiles (1000) is greater than the total number of samples (111). n_quantiles is set to n_samples.\n"
     ]
    }
   ],
   "source": [
    "# add tensorboard logging\n",
    "\n",
    "\n",
    "all_preds = []\n",
    "all_true = []\n",
    "\n",
    "NUM_FEATURES = 1000\n",
    "SLATE_LENGTH = 50\n",
    "NUM_EPOCHS = 50\n",
    "BATCH_SIZE = 256\n",
    "\n",
    "# create summary writer\n",
    "writer = SummaryWriter()\n",
    "\n",
    "for i, (train_index, test_index) in enumerate(splitter.split(response_df)):\n",
    "    print(f\"Fold {i+1}\")\n",
    "    response_train = response_df.iloc[train_index, :].copy()\n",
    "    response_test = response_df.iloc[test_index, :].copy()\n",
    "    ds_train = PrismDataset(response_train, feature_df, feature_importance_df, NUM_FEATURES, SLATE_LENGTH)\n",
    "    dl_train = DataLoader(ds_train, batch_size=BATCH_SIZE, shuffle=True)\n",
    "\n",
    "    model = FeedForwardNet(NUM_FEATURES)\n",
    "    model.to(device)\n",
    "    optimizer = torch.optim.Adam(model.parameters(), lr=0.001)\n",
    "\n",
    "    for epoch in range(NUM_EPOCHS):\n",
    "        for batch in dl_train:\n",
    "            features, labels = batch\n",
    "            features = features.to(device)\n",
    "            labels = labels.to(device)\n",
    "            pred_scores = model(features).squeeze()\n",
    "            loss = lambdaLoss(pred_scores, labels, weighing_scheme=\"lambdaRank_scheme\")\n",
    "            loss.backward()\n",
    "            optimizer.step()\n",
    "            optimizer.zero_grad()\n",
    "        print('Epoch [{}/{}], Loss: {:.4f}'.format(epoch+1, NUM_EPOCHS, loss.item()))\n",
    "        writer.add_scalar(\"Loss/train\", loss.item(), epoch)\n",
    "\n",
    "\n",
    "    train_preds = []\n",
    "    train_true = []\n",
    "    for ex in ds_train:\n",
    "        f, l = ex\n",
    "        pred = model(f.to(device))[0]\n",
    "        train_preds.append(float(pred))\n",
    "        train_true.append(float(l[0]))\n",
    "    # compute pearsonr \n",
    "    train_pearsonr = pearsonr(train_preds, train_true)\n",
    "\n",
    "    # test pred scores\n",
    "    preds = []\n",
    "    true = []\n",
    "    ds_test = PrismDataset(response_test, feature_df, feature_importance_df, NUM_FEATURES, SLATE_LENGTH, quantile_transfomer=ds_train.quantile_transfomer)\n",
    "    for ex in ds_test:\n",
    "        f, l = ex\n",
    "        pred = model(f.to(device))[0]\n",
    "        preds.append(float(pred))\n",
    "        true.append(float(l[0]))\n",
    "    # compute pearsonr\n",
    "    test_pearsonr = pearsonr(preds, true)\n",
    "    writer.add_scalar(\"Pearsonr/train\", train_pearsonr[0], i)\n",
    "    writer.add_scalar(\"Pearsonr/test\", test_pearsonr[0], i)\n",
    "\n",
    "    # append to all preds\n",
    "    all_preds.extend(preds)\n",
    "    all_true.extend(true)"
   ]
  },
  {
   "cell_type": "code",
   "execution_count": 363,
   "metadata": {},
   "outputs": [
    {
     "data": {
      "text/plain": [
       "<matplotlib.collections.PathCollection at 0x7f5e14df1840>"
      ]
     },
     "execution_count": 363,
     "metadata": {},
     "output_type": "execute_result"
    },
    {
     "data": {
      "image/png": "[encoded data removed]",
      "text/plain": [
       "<Figure size 640x480 with 1 Axes>"
      ]
     },
     "metadata": {},
     "output_type": "display_data"
    }
   ],
   "source": [
    "# plot all_preds vs all_true\n",
    "import matplotlib.pyplot as plt\n",
    "plt.scatter(all_true, all_preds)"
   ]
  },
  {
   "cell_type": "code",
   "execution_count": 364,
   "metadata": {},
   "outputs": [
    {
     "data": {
      "text/plain": [
       "(0.6671498729352686, 3.9638392983993463e-73)"
      ]
     },
     "execution_count": 364,
     "metadata": {},
     "output_type": "execute_result"
    }
   ],
   "source": [
    "# get pearson correlation all_preds vs all_true\n",
    "from scipy.stats import pearsonr\n",
    "pearsonr(all_true, all_preds)"
   ]
  },
  {
   "cell_type": "code",
   "execution_count": 396,
   "metadata": {},
   "outputs": [],
   "source": [
    "df = pd.DataFrame({\"preds\": all_preds, \"true\": all_true})"
   ]
  },
  {
   "cell_type": "code",
   "execution_count": 400,
   "metadata": {},
   "outputs": [
    {
     "name": "stderr",
     "output_type": "stream",
     "text": [
      "n_quantiles (1000) is greater than the total number of samples (558). n_quantiles is set to n_samples.\n"
     ]
    }
   ],
   "source": [
    "df.head()\n",
    "df[\"preds\"] = QuantileTransformer().fit_transform(df[[\"preds\"]]) * 5"
   ]
  },
  {
   "cell_type": "code",
   "execution_count": 406,
   "metadata": {},
   "outputs": [],
   "source": [
    "# compute top 20 accuracy\n",
    "def compute_accuracy_at_k(df, k_list=[1,5,10,20,50]):\n",
    "    out = {}\n",
    "    for k in k_list:\n",
    "        df[\"preds_rank\"] = df[\"preds\"].rank(ascending=False)\n",
    "        df[\"true_rank\"] = df[\"true\"].rank(ascending=False)\n",
    "\n",
    "        df[\"preds_rank\"] = df[\"preds_rank\"].astype(int)\n",
    "        df[\"true_rank\"] = df[\"true_rank\"].astype(int)\n",
    "\n",
    "        df[\"top_true\"] = df[\"true_rank\"].apply(lambda x: 1 if x <= k else 0)\n",
    "        df[\"top_pred\"] = df[\"preds_rank\"].apply(lambda x: 1 if x <= k else 0)\n",
    "        out[k] = (df[\"top_pred\"] & df[\"top_true\"]).sum() / k\n",
    "    return out"
   ]
  },
  {
   "cell_type": "code",
   "execution_count": 411,
   "metadata": {},
   "outputs": [
    {
     "data": {
      "text/plain": [
       "0.3"
      ]
     },
     "execution_count": 411,
     "metadata": {},
     "output_type": "execute_result"
    }
   ],
   "source": [
    "(df[\"top_pred\"] & df[\"top_true\"]).sum() / k"
   ]
  },
  {
   "attachments": {},
   "cell_type": "markdown",
   "metadata": {},
   "source": [
    "## SHAP explainer"
   ]
  },
  {
   "cell_type": "code",
   "execution_count": 381,
   "metadata": {},
   "outputs": [],
   "source": [
    "# get some samples\n",
    "X = []\n",
    "y = []\n",
    "for ex in ds_train:\n",
    "    f, l = ex\n",
    "    if l[0] > 4.5 or l[0] < 0.5:\n",
    "        X.append(f[0,:])\n",
    "        y.append(l[0])"
   ]
  },
  {
   "cell_type": "code",
   "execution_count": 382,
   "metadata": {},
   "outputs": [],
   "source": [
    "X = torch.stack(X)"
   ]
  },
  {
   "cell_type": "code",
   "execution_count": 383,
   "metadata": {},
   "outputs": [],
   "source": [
    "X = X.to(device)"
   ]
  },
  {
   "cell_type": "code",
   "execution_count": 384,
   "metadata": {},
   "outputs": [
    {
     "data": {
      "text/plain": [
       "torch.Size([90, 1000])"
      ]
     },
     "execution_count": 384,
     "metadata": {},
     "output_type": "execute_result"
    }
   ],
   "source": [
    "X.shape"
   ]
  },
  {
   "cell_type": "code",
   "execution_count": 385,
   "metadata": {},
   "outputs": [],
   "source": [
    "# expand middle dim\n",
    "#X = X.unsqueeze(1)"
   ]
  },
  {
   "cell_type": "code",
   "execution_count": 386,
   "metadata": {},
   "outputs": [
    {
     "data": {
      "text/plain": [
       "torch.Size([90, 1000])"
      ]
     },
     "execution_count": 386,
     "metadata": {},
     "output_type": "execute_result"
    }
   ],
   "source": [
    "X.shape"
   ]
  },
  {
   "cell_type": "code",
   "execution_count": 387,
   "metadata": {},
   "outputs": [],
   "source": [
    "from shap import DeepExplainer"
   ]
  },
  {
   "cell_type": "code",
   "execution_count": 388,
   "metadata": {},
   "outputs": [],
   "source": [
    "exp = DeepExplainer(model, X)"
   ]
  },
  {
   "cell_type": "code",
   "execution_count": 389,
   "metadata": {},
   "outputs": [
    {
     "data": {
      "text/plain": [
       "torch.Size([90, 1])"
      ]
     },
     "execution_count": 389,
     "metadata": {},
     "output_type": "execute_result"
    }
   ],
   "source": [
    "model(X).shape"
   ]
  },
  {
   "cell_type": "code",
   "execution_count": 390,
   "metadata": {},
   "outputs": [
    {
     "name": "stderr",
     "output_type": "stream",
     "text": [
      "Using a non-full backward hook when the forward contains multiple autograd Nodes is deprecated and will be removed in future versions. This hook will be missing some grad_input. Please use register_full_backward_hook to get the documented behavior.\n"
     ]
    }
   ],
   "source": [
    "shap_values = exp.shap_values(X)"
   ]
  },
  {
   "cell_type": "code",
   "execution_count": 391,
   "metadata": {},
   "outputs": [],
   "source": [
    "from shap import summary_plot"
   ]
  },
  {
   "cell_type": "code",
   "execution_count": 392,
   "metadata": {},
   "outputs": [],
   "source": [
    "# get X as numpy array\n",
    "X_np = X.cpu().numpy()"
   ]
  },
  {
   "cell_type": "code",
   "execution_count": 393,
   "metadata": {},
   "outputs": [
    {
     "name": "stderr",
     "output_type": "stream",
     "text": [
      "No data for colormapping provided via 'c'. Parameters 'vmin', 'vmax' will be ignored\n"
     ]
    },
    {
     "data": {
      "image/png": "[encoded data removed]",
      "text/plain": [
       "<Figure size 800x950 with 2 Axes>"
      ]
     },
     "metadata": {},
     "output_type": "display_data"
    }
   ],
   "source": [
    "summary_plot(shap_values, X_np, feature_names=ds_train.joined_df.columns)"
   ]
  }
 ],
 "metadata": {
  "kernelspec": {
   "display_name": "corlab",
   "language": "python",
   "name": "python3"
  },
  "language_info": {
   "codemirror_mode": {
    "name": "ipython",
    "version": 3
   },
   "file_extension": ".py",
   "mimetype": "text/x-python",
   "name": "python",
   "nbconvert_exporter": "python",
   "pygments_lexer": "ipython3",
   "version": "3.10.4"
  },
  "orig_nbformat": 4
 },
 "nbformat": 4,
 "nbformat_minor": 2
}
