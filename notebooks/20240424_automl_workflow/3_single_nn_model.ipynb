{
 "cells": [
  {
   "cell_type": "markdown",
   "metadata": {},
   "source": [
    "# Try running a single ML model"
   ]
  },
  {
   "cell_type": "code",
   "execution_count": 1,
   "metadata": {},
   "outputs": [],
   "source": [
    "import argparse\n",
    "import logging\n",
    "import os\n",
    "import pickle\n",
    "import sys\n",
    "\n",
    "import matplotlib.pyplot as plt\n",
    "import numpy as np\n",
    "import pandas as pd\n",
    "import shap\n",
    "import xgboost as xgb\n",
    "from sklearn.model_selection import KFold, StratifiedKFold"
   ]
  },
  {
   "cell_type": "code",
   "execution_count": 2,
   "metadata": {},
   "outputs": [],
   "source": [
    "%load_ext autoreload\n",
    "%autoreload 2"
   ]
  },
  {
   "cell_type": "code",
   "execution_count": 3,
   "metadata": {},
   "outputs": [],
   "source": [
    "sys.path.append(\"../..\")"
   ]
  },
  {
   "cell_type": "code",
   "execution_count": 4,
   "metadata": {},
   "outputs": [],
   "source": [
    "feature_path = \"/scratch/users/nphill22/projects/corsello_lab/20240313_prism_final_reruns/new_baseline/processed_data/x-all.pkl\"\n",
    "response_path = \"/scratch/users/nphill22/projects/corsello_lab/20240313_prism_final_reruns/data/features/responses/amg-232_2.5.csv\"\n",
    "output_dir = \"nn_test\""
   ]
  },
  {
   "cell_type": "code",
   "execution_count": 5,
   "metadata": {},
   "outputs": [],
   "source": [
    "logger = logging.getLogger(__name__)\n",
    "logging.basicConfig(level=\"INFO\")"
   ]
  },
  {
   "cell_type": "code",
   "execution_count": 6,
   "metadata": {},
   "outputs": [
    {
     "name": "stderr",
     "output_type": "stream",
     "text": [
      "INFO:__main__:Loading feature data...\n"
     ]
    }
   ],
   "source": [
    "# load data\n",
    "logger.info(\"Loading feature data...\")\n",
    "with open(feature_path, \"rb\") as f:\n",
    "    feature_df = pickle.load(f)\n",
    "feature_df.set_index(\"ccle_name\", inplace=True)\n",
    "feature_df.fillna(-1, inplace=True)"
   ]
  },
  {
   "cell_type": "code",
   "execution_count": 7,
   "metadata": {},
   "outputs": [
    {
     "name": "stderr",
     "output_type": "stream",
     "text": [
      "INFO:__main__:Loading response data...\n"
     ]
    }
   ],
   "source": [
    "logger.info(\"Loading response data...\")\n",
    "response_df = pd.read_csv(response_path)\n",
    "\n",
    "# only keep cell lines we have features for\n",
    "available_ccle_names = set(feature_df.index)\n",
    "response_df = response_df[response_df[\"ccle_name\"].isin(available_ccle_names)]\n",
    "\n",
    "# drop culture column\n",
    "response_df = response_df.drop(columns=[\"culture\"])\n",
    "# drop duplicates by ccle_name, keep first\n",
    "response_df = response_df.drop_duplicates(subset=[\"ccle_name\"], keep=\"first\")"
   ]
  },
  {
   "cell_type": "code",
   "execution_count": 8,
   "metadata": {},
   "outputs": [],
   "source": [
    "from refract.trainers import *\n",
    "from sklearn.preprocessing import StandardScaler"
   ]
  },
  {
   "cell_type": "code",
   "execution_count": 9,
   "metadata": {},
   "outputs": [
    {
     "name": "stderr",
     "output_type": "stream",
     "text": [
      "/home/groups/corsello/nphill22/tools/miniconda3/envs/lab/lib/python3.9/site-packages/numpy/lib/function_base.py:2897: RuntimeWarning: invalid value encountered in divide\n",
      "  c /= stddev[:, None]\n",
      "/home/groups/corsello/nphill22/tools/miniconda3/envs/lab/lib/python3.9/site-packages/numpy/lib/function_base.py:2898: RuntimeWarning: invalid value encountered in divide\n",
      "  c /= stddev[None, :]\n"
     ]
    }
   ],
   "source": [
    "# train test val split on response_df ccle_names\n",
    "train_ccle_names, test_ccle_names = train_test_split(response_df[\"ccle_name\"], test_size=0.2, random_state=42)\n",
    "train_ccle_names, val_ccle_names = train_test_split(train_ccle_names, test_size=0.2, random_state=42)\n",
    "\n",
    "# get response_train, response_val, response_test dfs in order \n",
    "response_train_df = response_df.loc[response_df.ccle_name.isin(train_ccle_names)]\n",
    "response_val_df = response_df.loc[response_df.ccle_name.isin(val_ccle_names)]\n",
    "response_test_df = response_df.loc[response_df.ccle_name.isin(test_ccle_names)]\n",
    "\n",
    "# drop all columns with zero stddev\n",
    "feature_df = feature_df.loc[:, feature_df.std() != 0]\n",
    "\n",
    "X_train_df = feature_df.loc[response_train_df.ccle_name.values, :]\n",
    "X_val_df = feature_df.loc[response_val_df.ccle_name.values, :]\n",
    "X_test_df = feature_df.loc[response_test_df.ccle_name.values, :]\n",
    "\n",
    "top_features = get_n_correlated_features(\n",
    "    response_train_df['LFC.cb'].values,\n",
    "    X_train_df.values,\n",
    "    X_train_df.columns,\n",
    "    n=500\n",
    ")"
   ]
  },
  {
   "cell_type": "markdown",
   "metadata": {},
   "source": [
    "# Load all the responses for all compounds"
   ]
  },
  {
   "cell_type": "code",
   "execution_count": 10,
   "metadata": {},
   "outputs": [],
   "source": [
    "import glob\n",
    "import tqdm"
   ]
  },
  {
   "cell_type": "code",
   "execution_count": 11,
   "metadata": {},
   "outputs": [],
   "source": [
    "response_files = glob.glob(\"/scratch/users/nphill22/projects/corsello_lab/20240313_prism_final_reruns/data/features/responses/*.csv\")"
   ]
  },
  {
   "cell_type": "code",
   "execution_count": 12,
   "metadata": {},
   "outputs": [
    {
     "name": "stderr",
     "output_type": "stream",
     "text": [
      "100%|██████████| 6513/6513 [00:22<00:00, 292.85it/s]\n"
     ]
    }
   ],
   "source": [
    "all_responses = []\n",
    "for response_path in tqdm.tqdm(response_files):\n",
    "    response_df = pd.read_csv(response_path)\n",
    "    df = response_df.loc[:, [\"ccle_name\", \"pert_name\", \"pert_idose\", \"LFC.cb\"]]\n",
    "    # concatenate pert_name and pert_idose\n",
    "    df[\"pert_name\"] = df[\"pert_name\"] + \"_\" + df[\"pert_idose\"].astype(str)\n",
    "    df = df.drop(columns=[\"pert_idose\"])\n",
    "    all_responses.append(df)\n",
    "response_df = pd.concat(all_responses, axis=0)"
   ]
  },
  {
   "cell_type": "code",
   "execution_count": 13,
   "metadata": {},
   "outputs": [
    {
     "data": {
      "text/html": [
       "<div>\n",
       "<style scoped>\n",
       "    .dataframe tbody tr th:only-of-type {\n",
       "        vertical-align: middle;\n",
       "    }\n",
       "\n",
       "    .dataframe tbody tr th {\n",
       "        vertical-align: top;\n",
       "    }\n",
       "\n",
       "    .dataframe thead th {\n",
       "        text-align: right;\n",
       "    }\n",
       "</style>\n",
       "<table border=\"1\" class=\"dataframe\">\n",
       "  <thead>\n",
       "    <tr style=\"text-align: right;\">\n",
       "      <th></th>\n",
       "      <th>ccle_name</th>\n",
       "      <th>pert_name</th>\n",
       "      <th>LFC.cb</th>\n",
       "    </tr>\n",
       "  </thead>\n",
       "  <tbody>\n",
       "    <tr>\n",
       "      <th>0</th>\n",
       "      <td>NIHOVCAR3_OVARY</td>\n",
       "      <td>micafungin_2.5</td>\n",
       "      <td>-0.079331</td>\n",
       "    </tr>\n",
       "    <tr>\n",
       "      <th>1</th>\n",
       "      <td>HL60_HAEMATOPOIETIC_AND_LYMPHOID_TISSUE</td>\n",
       "      <td>micafungin_2.5</td>\n",
       "      <td>0.753126</td>\n",
       "    </tr>\n",
       "    <tr>\n",
       "      <th>2</th>\n",
       "      <td>HEL_HAEMATOPOIETIC_AND_LYMPHOID_TISSUE</td>\n",
       "      <td>micafungin_2.5</td>\n",
       "      <td>-0.038481</td>\n",
       "    </tr>\n",
       "    <tr>\n",
       "      <th>3</th>\n",
       "      <td>HEL9217_HAEMATOPOIETIC_AND_LYMPHOID_TISSUE</td>\n",
       "      <td>micafungin_2.5</td>\n",
       "      <td>-0.125686</td>\n",
       "    </tr>\n",
       "    <tr>\n",
       "      <th>4</th>\n",
       "      <td>MONOMAC6_HAEMATOPOIETIC_AND_LYMPHOID_TISSUE</td>\n",
       "      <td>micafungin_2.5</td>\n",
       "      <td>1.384392</td>\n",
       "    </tr>\n",
       "  </tbody>\n",
       "</table>\n",
       "</div>"
      ],
      "text/plain": [
       "                                     ccle_name       pert_name    LFC.cb\n",
       "0                              NIHOVCAR3_OVARY  micafungin_2.5 -0.079331\n",
       "1      HL60_HAEMATOPOIETIC_AND_LYMPHOID_TISSUE  micafungin_2.5  0.753126\n",
       "2       HEL_HAEMATOPOIETIC_AND_LYMPHOID_TISSUE  micafungin_2.5 -0.038481\n",
       "3   HEL9217_HAEMATOPOIETIC_AND_LYMPHOID_TISSUE  micafungin_2.5 -0.125686\n",
       "4  MONOMAC6_HAEMATOPOIETIC_AND_LYMPHOID_TISSUE  micafungin_2.5  1.384392"
      ]
     },
     "execution_count": 13,
     "metadata": {},
     "output_type": "execute_result"
    }
   ],
   "source": [
    "response_df.head()"
   ]
  },
  {
   "cell_type": "code",
   "execution_count": 14,
   "metadata": {},
   "outputs": [
    {
     "data": {
      "text/html": [
       "<div>\n",
       "<style scoped>\n",
       "    .dataframe tbody tr th:only-of-type {\n",
       "        vertical-align: middle;\n",
       "    }\n",
       "\n",
       "    .dataframe tbody tr th {\n",
       "        vertical-align: top;\n",
       "    }\n",
       "\n",
       "    .dataframe thead th {\n",
       "        text-align: right;\n",
       "    }\n",
       "</style>\n",
       "<table border=\"1\" class=\"dataframe\">\n",
       "  <thead>\n",
       "    <tr style=\"text-align: right;\">\n",
       "      <th></th>\n",
       "      <th>GE_TSPAN6</th>\n",
       "      <th>GE_TNMD</th>\n",
       "      <th>GE_DPM1</th>\n",
       "      <th>GE_SCYL3</th>\n",
       "      <th>GE_C1orf112</th>\n",
       "      <th>GE_FGR</th>\n",
       "      <th>GE_CFH</th>\n",
       "      <th>GE_FUCA2</th>\n",
       "      <th>GE_GCLC</th>\n",
       "      <th>GE_NFYA</th>\n",
       "      <th>...</th>\n",
       "      <th>MET_C56:8 TAG</th>\n",
       "      <th>MET_C56:7 TAG</th>\n",
       "      <th>MET_C56:6 TAG</th>\n",
       "      <th>MET_C56:5 TAG</th>\n",
       "      <th>MET_C56:4 TAG</th>\n",
       "      <th>MET_C56:3 TAG</th>\n",
       "      <th>MET_C56:2 TAG</th>\n",
       "      <th>MET_C58:8 TAG</th>\n",
       "      <th>MET_C58:7 TAG</th>\n",
       "      <th>MET_C58:6 TAG</th>\n",
       "    </tr>\n",
       "    <tr>\n",
       "      <th>ccle_name</th>\n",
       "      <th></th>\n",
       "      <th></th>\n",
       "      <th></th>\n",
       "      <th></th>\n",
       "      <th></th>\n",
       "      <th></th>\n",
       "      <th></th>\n",
       "      <th></th>\n",
       "      <th></th>\n",
       "      <th></th>\n",
       "      <th></th>\n",
       "      <th></th>\n",
       "      <th></th>\n",
       "      <th></th>\n",
       "      <th></th>\n",
       "      <th></th>\n",
       "      <th></th>\n",
       "      <th></th>\n",
       "      <th></th>\n",
       "      <th></th>\n",
       "      <th></th>\n",
       "    </tr>\n",
       "  </thead>\n",
       "  <tbody>\n",
       "    <tr>\n",
       "      <th>127399_SOFT_TISSUE</th>\n",
       "      <td>3.243364</td>\n",
       "      <td>0.000000</td>\n",
       "      <td>6.863567</td>\n",
       "      <td>2.063503</td>\n",
       "      <td>3.916477</td>\n",
       "      <td>0.070389</td>\n",
       "      <td>0.056584</td>\n",
       "      <td>5.426600</td>\n",
       "      <td>3.820690</td>\n",
       "      <td>2.976364</td>\n",
       "      <td>...</td>\n",
       "      <td>-1.0</td>\n",
       "      <td>-1.0</td>\n",
       "      <td>-1.0</td>\n",
       "      <td>-1.0</td>\n",
       "      <td>-1.0</td>\n",
       "      <td>-1.0</td>\n",
       "      <td>-1.0</td>\n",
       "      <td>-1.0</td>\n",
       "      <td>-1.0</td>\n",
       "      <td>-1.0</td>\n",
       "    </tr>\n",
       "    <tr>\n",
       "      <th>1321N1_CENTRAL_NERVOUS_SYSTEM</th>\n",
       "      <td>-1.000000</td>\n",
       "      <td>-1.000000</td>\n",
       "      <td>-1.000000</td>\n",
       "      <td>-1.000000</td>\n",
       "      <td>-1.000000</td>\n",
       "      <td>-1.000000</td>\n",
       "      <td>-1.000000</td>\n",
       "      <td>-1.000000</td>\n",
       "      <td>-1.000000</td>\n",
       "      <td>-1.000000</td>\n",
       "      <td>...</td>\n",
       "      <td>-1.0</td>\n",
       "      <td>-1.0</td>\n",
       "      <td>-1.0</td>\n",
       "      <td>-1.0</td>\n",
       "      <td>-1.0</td>\n",
       "      <td>-1.0</td>\n",
       "      <td>-1.0</td>\n",
       "      <td>-1.0</td>\n",
       "      <td>-1.0</td>\n",
       "      <td>-1.0</td>\n",
       "    </tr>\n",
       "    <tr>\n",
       "      <th>143B_BONE</th>\n",
       "      <td>4.719731</td>\n",
       "      <td>0.000000</td>\n",
       "      <td>7.360540</td>\n",
       "      <td>1.778209</td>\n",
       "      <td>3.786596</td>\n",
       "      <td>0.014355</td>\n",
       "      <td>0.713696</td>\n",
       "      <td>5.393348</td>\n",
       "      <td>4.638074</td>\n",
       "      <td>3.046142</td>\n",
       "      <td>...</td>\n",
       "      <td>-1.0</td>\n",
       "      <td>-1.0</td>\n",
       "      <td>-1.0</td>\n",
       "      <td>-1.0</td>\n",
       "      <td>-1.0</td>\n",
       "      <td>-1.0</td>\n",
       "      <td>-1.0</td>\n",
       "      <td>-1.0</td>\n",
       "      <td>-1.0</td>\n",
       "      <td>-1.0</td>\n",
       "    </tr>\n",
       "    <tr>\n",
       "      <th>170MGBA_CENTRAL_NERVOUS_SYSTEM</th>\n",
       "      <td>4.155425</td>\n",
       "      <td>0.124328</td>\n",
       "      <td>6.681590</td>\n",
       "      <td>2.430285</td>\n",
       "      <td>2.799087</td>\n",
       "      <td>0.815575</td>\n",
       "      <td>3.559492</td>\n",
       "      <td>7.252855</td>\n",
       "      <td>4.300856</td>\n",
       "      <td>3.682573</td>\n",
       "      <td>...</td>\n",
       "      <td>-1.0</td>\n",
       "      <td>-1.0</td>\n",
       "      <td>-1.0</td>\n",
       "      <td>-1.0</td>\n",
       "      <td>-1.0</td>\n",
       "      <td>-1.0</td>\n",
       "      <td>-1.0</td>\n",
       "      <td>-1.0</td>\n",
       "      <td>-1.0</td>\n",
       "      <td>-1.0</td>\n",
       "    </tr>\n",
       "    <tr>\n",
       "      <th>184A1_BREAST</th>\n",
       "      <td>-1.000000</td>\n",
       "      <td>-1.000000</td>\n",
       "      <td>-1.000000</td>\n",
       "      <td>-1.000000</td>\n",
       "      <td>-1.000000</td>\n",
       "      <td>-1.000000</td>\n",
       "      <td>-1.000000</td>\n",
       "      <td>-1.000000</td>\n",
       "      <td>-1.000000</td>\n",
       "      <td>-1.000000</td>\n",
       "      <td>...</td>\n",
       "      <td>-1.0</td>\n",
       "      <td>-1.0</td>\n",
       "      <td>-1.0</td>\n",
       "      <td>-1.0</td>\n",
       "      <td>-1.0</td>\n",
       "      <td>-1.0</td>\n",
       "      <td>-1.0</td>\n",
       "      <td>-1.0</td>\n",
       "      <td>-1.0</td>\n",
       "      <td>-1.0</td>\n",
       "    </tr>\n",
       "  </tbody>\n",
       "</table>\n",
       "<p>5 rows × 110135 columns</p>\n",
       "</div>"
      ],
      "text/plain": [
       "                                GE_TSPAN6   GE_TNMD   GE_DPM1  GE_SCYL3  \\\n",
       "ccle_name                                                                 \n",
       "127399_SOFT_TISSUE               3.243364  0.000000  6.863567  2.063503   \n",
       "1321N1_CENTRAL_NERVOUS_SYSTEM   -1.000000 -1.000000 -1.000000 -1.000000   \n",
       "143B_BONE                        4.719731  0.000000  7.360540  1.778209   \n",
       "170MGBA_CENTRAL_NERVOUS_SYSTEM   4.155425  0.124328  6.681590  2.430285   \n",
       "184A1_BREAST                    -1.000000 -1.000000 -1.000000 -1.000000   \n",
       "\n",
       "                                GE_C1orf112    GE_FGR    GE_CFH  GE_FUCA2  \\\n",
       "ccle_name                                                                   \n",
       "127399_SOFT_TISSUE                 3.916477  0.070389  0.056584  5.426600   \n",
       "1321N1_CENTRAL_NERVOUS_SYSTEM     -1.000000 -1.000000 -1.000000 -1.000000   \n",
       "143B_BONE                          3.786596  0.014355  0.713696  5.393348   \n",
       "170MGBA_CENTRAL_NERVOUS_SYSTEM     2.799087  0.815575  3.559492  7.252855   \n",
       "184A1_BREAST                      -1.000000 -1.000000 -1.000000 -1.000000   \n",
       "\n",
       "                                 GE_GCLC   GE_NFYA  ...  MET_C56:8 TAG  \\\n",
       "ccle_name                                           ...                  \n",
       "127399_SOFT_TISSUE              3.820690  2.976364  ...           -1.0   \n",
       "1321N1_CENTRAL_NERVOUS_SYSTEM  -1.000000 -1.000000  ...           -1.0   \n",
       "143B_BONE                       4.638074  3.046142  ...           -1.0   \n",
       "170MGBA_CENTRAL_NERVOUS_SYSTEM  4.300856  3.682573  ...           -1.0   \n",
       "184A1_BREAST                   -1.000000 -1.000000  ...           -1.0   \n",
       "\n",
       "                                MET_C56:7 TAG  MET_C56:6 TAG  MET_C56:5 TAG  \\\n",
       "ccle_name                                                                     \n",
       "127399_SOFT_TISSUE                       -1.0           -1.0           -1.0   \n",
       "1321N1_CENTRAL_NERVOUS_SYSTEM            -1.0           -1.0           -1.0   \n",
       "143B_BONE                                -1.0           -1.0           -1.0   \n",
       "170MGBA_CENTRAL_NERVOUS_SYSTEM           -1.0           -1.0           -1.0   \n",
       "184A1_BREAST                             -1.0           -1.0           -1.0   \n",
       "\n",
       "                                MET_C56:4 TAG  MET_C56:3 TAG  MET_C56:2 TAG  \\\n",
       "ccle_name                                                                     \n",
       "127399_SOFT_TISSUE                       -1.0           -1.0           -1.0   \n",
       "1321N1_CENTRAL_NERVOUS_SYSTEM            -1.0           -1.0           -1.0   \n",
       "143B_BONE                                -1.0           -1.0           -1.0   \n",
       "170MGBA_CENTRAL_NERVOUS_SYSTEM           -1.0           -1.0           -1.0   \n",
       "184A1_BREAST                             -1.0           -1.0           -1.0   \n",
       "\n",
       "                                MET_C58:8 TAG  MET_C58:7 TAG  MET_C58:6 TAG  \n",
       "ccle_name                                                                    \n",
       "127399_SOFT_TISSUE                       -1.0           -1.0           -1.0  \n",
       "1321N1_CENTRAL_NERVOUS_SYSTEM            -1.0           -1.0           -1.0  \n",
       "143B_BONE                                -1.0           -1.0           -1.0  \n",
       "170MGBA_CENTRAL_NERVOUS_SYSTEM           -1.0           -1.0           -1.0  \n",
       "184A1_BREAST                             -1.0           -1.0           -1.0  \n",
       "\n",
       "[5 rows x 110135 columns]"
      ]
     },
     "execution_count": 14,
     "metadata": {},
     "output_type": "execute_result"
    }
   ],
   "source": [
    "feature_df.head()"
   ]
  },
  {
   "cell_type": "markdown",
   "metadata": {},
   "source": [
    "# Code for model componenets"
   ]
  },
  {
   "cell_type": "code",
   "execution_count": 15,
   "metadata": {},
   "outputs": [],
   "source": [
    "# now, make a dataset to return the data in expected format\n",
    "from sklearn.preprocessing import LabelEncoder\n",
    "\n",
    "class PrismDataset(torch.utils.data.Dataset):\n",
    "    def __init__(self, feature_df, response_df, drug_name_encoder, \\\n",
    "            cell_line_col=\"ccle_name\", response_col=\"LFC.cb\", drug_col=\"pert_name\"):\n",
    "        self.feature_df = feature_df\n",
    "        self.response_df = response_df\n",
    "        self.cell_line_col = cell_line_col\n",
    "        self.response_col = response_col\n",
    "        self.drug_col = drug_col\n",
    "\n",
    "        self.drug_names = self.response_df[self.drug_col].values\n",
    "        # encode drug names as integers\n",
    "        self.drug_name_encoder = drug_name_encoder\n",
    "        self.drug_names = self.drug_name_encoder.transform(self.drug_names)\n",
    "        self.cell_lines = self.response_df[self.cell_line_col].values\n",
    "        self.responses = self.response_df[self.response_col].values\n",
    "        self.num_embeddings = len(self.drug_name_encoder.classes_)\n",
    "\n",
    "    def __len__(self):\n",
    "        return len(self.responses)\n",
    "\n",
    "    def __getitem__(self, idx):\n",
    "        response = self.responses[idx]\n",
    "        drug = self.drug_names[idx]\n",
    "        cell_line = self.cell_lines[idx]\n",
    "        features = self.feature_df.loc[cell_line, :].values\n",
    "\n",
    "        # return all as tensors\n",
    "        response = torch.tensor(response, dtype=torch.float32)\n",
    "        drug = torch.tensor(drug, dtype=torch.long)\n",
    "        features = torch.tensor(features, dtype=torch.float32)\n",
    "\n",
    "        return features, drug, response"
   ]
  },
  {
   "cell_type": "code",
   "execution_count": 16,
   "metadata": {},
   "outputs": [],
   "source": [
    "import torch\n",
    "import torch.nn as nn\n",
    "import torch.nn.functional as F\n",
    "\n",
    "def get_model(input_dim, num_embeddings, embedding_dim, dropout_rate=0.5):\n",
    "    # Define a simple feedforward neural network structure with an embedding layer, dropout, and batch normalization\n",
    "    class FeedforwardNeuralNetwork(nn.Module):\n",
    "        def __init__(self, input_dim, num_embeddings, embedding_dim, dropout_rate):\n",
    "            super(FeedforwardNeuralNetwork, self).__init__()\n",
    "            # Define an embedding layer for perturbation names\n",
    "            self.embedding = nn.Embedding(num_embeddings, embedding_dim)\n",
    "            # Define three hidden layers and output layer\n",
    "            self.fc1 = nn.Linear(input_dim + embedding_dim, 128)  # First hidden layer, adjusted for embedding\n",
    "            self.fc2 = nn.Linear(128, 64)                        # Second hidden layer\n",
    "            self.fc3 = nn.Linear(64, 32)                         # Third hidden layer\n",
    "            self.fc4 = nn.Linear(32, 1)                          # Output layer\n",
    "            # Dropout layers\n",
    "            self.dropout1 = nn.Dropout(dropout_rate)\n",
    "            self.dropout2 = nn.Dropout(dropout_rate)\n",
    "            self.dropout3 = nn.Dropout(dropout_rate)\n",
    "            # Batch normalization layers\n",
    "            self.bn1 = nn.BatchNorm1d(128)\n",
    "            self.bn2 = nn.BatchNorm1d(64)\n",
    "            self.bn3 = nn.BatchNorm1d(32)\n",
    "\n",
    "        def forward(self, x, pert_name):\n",
    "            x = x.float()\n",
    "            # Embedding for the perturbation name\n",
    "            pert_embedding = self.embedding(pert_name).float()\n",
    "            # Concatenate the embedding with the input features\n",
    "            x = torch.cat([x, pert_embedding], dim=1)\n",
    "            # Activation functions, batch normalization, and dropout for the hidden layers\n",
    "            x = F.relu(self.bn1(self.fc1(x)))\n",
    "            x = self.dropout1(x)\n",
    "            x = F.relu(self.bn2(self.fc2(x)))\n",
    "            x = self.dropout2(x)\n",
    "            x = F.relu(self.bn3(self.fc3(x)))\n",
    "            x = self.dropout3(x)\n",
    "            x = self.fc4(x)  # No activation for output layer, assuming regression task\n",
    "            return x\n",
    "\n",
    "    # Create the neural network model\n",
    "    model = FeedforwardNeuralNetwork(input_dim, num_embeddings, embedding_dim, dropout_rate)\n",
    "    return model\n"
   ]
  },
  {
   "cell_type": "code",
   "execution_count": 17,
   "metadata": {},
   "outputs": [],
   "source": [
    "import torch\n",
    "import torch.nn as nn\n",
    "from torch.utils.tensorboard import SummaryWriter\n",
    "\n",
    "def save_checkpoint(model, optimizer, epoch, loss, filename=\"model_checkpoint_{}.pth\"):\n",
    "    checkpoint = {\n",
    "        'epoch': epoch,\n",
    "        'model_state_dict': model.state_dict(),\n",
    "        'optimizer_state_dict': optimizer.state_dict(),\n",
    "        'loss': loss,\n",
    "    }\n",
    "    torch.save(checkpoint, filename.format(epoch))\n",
    "\n",
    "def train_model(model, train_dataloader, val_dataloader, num_epochs, patience):\n",
    "    # Assuming the loss function and optimizer are predefined globally or are parameters\n",
    "    criterion = nn.MSELoss()\n",
    "    optimizer = torch.optim.Adam(model.parameters(), lr=0.001)\n",
    "\n",
    "    # Device configuration\n",
    "    device = torch.device('cuda' if torch.cuda.is_available() else 'cpu')\n",
    "    model.to(device)\n",
    "\n",
    "    best_val_loss = float('inf')\n",
    "    patience_counter = 0\n",
    "\n",
    "    # Initialize TensorBoard writer\n",
    "    writer = SummaryWriter()\n",
    "\n",
    "    # Training loop\n",
    "    for epoch in range(num_epochs):\n",
    "        model.train()  # Set the model to training mode\n",
    "        train_loss = 0\n",
    "        for inputs, cell_line, targets in tqdm.tqdm(train_dataloader):\n",
    "            inputs, cell_line, targets = inputs.to(device), cell_line.to(device), targets.to(device)\n",
    "\n",
    "            # Forward pass\n",
    "            outputs = model(inputs, cell_line).squeeze().float()\n",
    "            loss = criterion(outputs, targets)\n",
    "\n",
    "            # Backward and optimize\n",
    "            optimizer.zero_grad()\n",
    "            loss.backward()\n",
    "            optimizer.step()\n",
    "\n",
    "            train_loss += loss.item() * inputs.size(0)\n",
    "\n",
    "        train_loss /= len(train_dataloader.dataset)\n",
    "\n",
    "        # Log training loss\n",
    "        writer.add_scalar('Loss/Train', train_loss, epoch)\n",
    "\n",
    "        # Validation phase\n",
    "        model.eval()  # Set the model to evaluation mode\n",
    "        val_loss = 0\n",
    "        with torch.no_grad():\n",
    "            for inputs, cell_line, targets in val_dataloader:\n",
    "                inputs, cell_line, targets = inputs.to(device), cell_line.to(device), targets.to(device)\n",
    "                outputs = model(inputs, cell_line).squeeze().float()\n",
    "                loss = criterion(outputs, targets)\n",
    "                val_loss += loss.item() * inputs.size(0)\n",
    "\n",
    "        val_loss /= len(val_dataloader.dataset)\n",
    "\n",
    "        # Log validation loss\n",
    "        writer.add_scalar('Loss/Validation', val_loss, epoch)\n",
    "\n",
    "        print(f'Epoch [{epoch+1}/{num_epochs}], Train Loss: {train_loss:.4f}, Val Loss: {val_loss:.4f}')\n",
    "        save_checkpoint(model, optimizer, epoch, loss)\n",
    "\n",
    "        # Early stopping logic\n",
    "        if val_loss < best_val_loss:\n",
    "            best_val_loss = val_loss\n",
    "            patience_counter = 0\n",
    "            torch.save(model.state_dict(), 'best_model.pth')  # Save the best model\n",
    "        else:\n",
    "            patience_counter += 1\n",
    "\n",
    "        if patience_counter >= patience:\n",
    "            print(\"Early stopping triggered\")\n",
    "            break\n",
    "\n",
    "    # Close the writer\n",
    "    writer.close()\n",
    "\n",
    "    # Load the best model back\n",
    "    model.load_state_dict(torch.load('best_model.pth'))\n",
    "\n",
    "# Example call to the training function:\n",
    "# train_model(model, train_loader, val_loader, num_epochs=50, patience=5)\n"
   ]
  },
  {
   "cell_type": "code",
   "execution_count": 18,
   "metadata": {},
   "outputs": [],
   "source": [
    "device = torch.device('cuda' if torch.cuda.is_available() else 'cpu')"
   ]
  },
  {
   "cell_type": "code",
   "execution_count": 19,
   "metadata": {},
   "outputs": [
    {
     "data": {
      "text/plain": [
       "device(type='cuda')"
      ]
     },
     "execution_count": 19,
     "metadata": {},
     "output_type": "execute_result"
    }
   ],
   "source": [
    "device"
   ]
  },
  {
   "cell_type": "markdown",
   "metadata": {},
   "source": [
    "# Dataset Prep"
   ]
  },
  {
   "cell_type": "code",
   "execution_count": 20,
   "metadata": {},
   "outputs": [],
   "source": [
    "# only keep responses we have features for\n",
    "response_df = response_df[response_df[\"ccle_name\"].isin(available_ccle_names)]"
   ]
  },
  {
   "cell_type": "code",
   "execution_count": 21,
   "metadata": {},
   "outputs": [],
   "source": [
    "# split the responses by train, val, test on ccle_name\n",
    "response_train = response_df[response_df[\"ccle_name\"].isin(train_ccle_names)]\n",
    "response_val = response_df[response_df[\"ccle_name\"].isin(val_ccle_names)]\n",
    "response_test = response_df[response_df[\"ccle_name\"].isin(test_ccle_names)]\n",
    "\n",
    "# filter X_train, X_val, X_test to only top features\n",
    "#X_train = X_train_df.loc[:, top_features]\n",
    "#X_val = X_val_df.loc[:, top_features]\n",
    "#X_test = X_test_df.loc[:, top_features]\n",
    "\n",
    "X_train = X_train_df.copy()\n",
    "X_val = X_val_df.copy()\n",
    "X_test = X_test_df.copy()\n"
   ]
  },
  {
   "cell_type": "code",
   "execution_count": 22,
   "metadata": {},
   "outputs": [],
   "source": [
    "# standard scale the features, return dataframes\n",
    "scaler = StandardScaler()\n",
    "X_train = pd.DataFrame(scaler.fit_transform(X_train), columns=X_train.columns, index=X_train.index)\n",
    "X_val = pd.DataFrame(scaler.transform(X_val), columns=X_val.columns, index=X_val.index)\n",
    "X_test = pd.DataFrame(scaler.transform(X_test), columns=X_test.columns, index=X_test.index)"
   ]
  },
  {
   "cell_type": "code",
   "execution_count": 23,
   "metadata": {},
   "outputs": [],
   "source": [
    "drug_encoder = LabelEncoder()\n",
    "drugs = response_df.pert_name.unique()\n",
    "drug_encoder = drug_encoder.fit(drugs)"
   ]
  },
  {
   "cell_type": "code",
   "execution_count": 24,
   "metadata": {},
   "outputs": [],
   "source": [
    "import pickle\n",
    "with open('drug_encoder.pkl', 'wb') as f:\n",
    "    pickle.dump(drug_encoder, f)"
   ]
  },
  {
   "cell_type": "code",
   "execution_count": 25,
   "metadata": {},
   "outputs": [],
   "source": [
    "# create the datasets\n",
    "train_dataset = PrismDataset(X_train, response_train, drug_encoder)\n",
    "val_dataset = PrismDataset(X_val, response_val, drug_encoder)\n",
    "test_dataset = PrismDataset(X_test, response_test, drug_encoder)"
   ]
  },
  {
   "cell_type": "code",
   "execution_count": 26,
   "metadata": {},
   "outputs": [],
   "source": [
    "# Create dataloaders for training and test\n",
    "train_dl = torch.utils.data.DataLoader(train_dataset, batch_size=1024, shuffle=True, num_workers=24)\n",
    "val_dl = torch.utils.data.DataLoader(val_dataset, batch_size=1024, shuffle=False, num_workers=24)\n",
    "test_dl = torch.utils.data.DataLoader(test_dataset, batch_size=1024, shuffle=False, num_workers=24)"
   ]
  },
  {
   "cell_type": "code",
   "execution_count": 27,
   "metadata": {},
   "outputs": [],
   "source": [
    "# get the model \n",
    "model = get_model(input_dim=X_train.shape[1], num_embeddings=train_dataset.num_embeddings, embedding_dim=10)"
   ]
  },
  {
   "cell_type": "code",
   "execution_count": 28,
   "metadata": {},
   "outputs": [
    {
     "data": {
      "text/plain": [
       "FeedforwardNeuralNetwork(\n",
       "  (embedding): Embedding(6513, 10)\n",
       "  (fc1): Linear(in_features=110145, out_features=128, bias=True)\n",
       "  (fc2): Linear(in_features=128, out_features=64, bias=True)\n",
       "  (fc3): Linear(in_features=64, out_features=32, bias=True)\n",
       "  (fc4): Linear(in_features=32, out_features=1, bias=True)\n",
       "  (dropout1): Dropout(p=0.5, inplace=False)\n",
       "  (dropout2): Dropout(p=0.5, inplace=False)\n",
       "  (dropout3): Dropout(p=0.5, inplace=False)\n",
       "  (bn1): BatchNorm1d(128, eps=1e-05, momentum=0.1, affine=True, track_running_stats=True)\n",
       "  (bn2): BatchNorm1d(64, eps=1e-05, momentum=0.1, affine=True, track_running_stats=True)\n",
       "  (bn3): BatchNorm1d(32, eps=1e-05, momentum=0.1, affine=True, track_running_stats=True)\n",
       ")"
      ]
     },
     "execution_count": 28,
     "metadata": {},
     "output_type": "execute_result"
    }
   ],
   "source": [
    "model"
   ]
  },
  {
   "cell_type": "code",
   "execution_count": 29,
   "metadata": {},
   "outputs": [
    {
     "name": "stderr",
     "output_type": "stream",
     "text": [
      "100%|██████████| 2276/2276 [08:16<00:00,  4.58it/s]\n"
     ]
    },
    {
     "name": "stdout",
     "output_type": "stream",
     "text": [
      "Epoch [1/200], Train Loss: 1.1800, Val Loss: 1.1725\n"
     ]
    },
    {
     "name": "stderr",
     "output_type": "stream",
     "text": [
      "100%|██████████| 2276/2276 [08:37<00:00,  4.40it/s]\n"
     ]
    },
    {
     "name": "stdout",
     "output_type": "stream",
     "text": [
      "Epoch [2/200], Train Loss: 0.9632, Val Loss: 0.5713\n"
     ]
    },
    {
     "name": "stderr",
     "output_type": "stream",
     "text": [
      "100%|██████████| 2276/2276 [08:28<00:00,  4.48it/s]\n"
     ]
    },
    {
     "name": "stdout",
     "output_type": "stream",
     "text": [
      "Epoch [3/200], Train Loss: 0.6084, Val Loss: 0.4897\n"
     ]
    },
    {
     "name": "stderr",
     "output_type": "stream",
     "text": [
      "100%|██████████| 2276/2276 [08:30<00:00,  4.46it/s]\n"
     ]
    },
    {
     "name": "stdout",
     "output_type": "stream",
     "text": [
      "Epoch [4/200], Train Loss: 0.5403, Val Loss: 0.4697\n"
     ]
    },
    {
     "name": "stderr",
     "output_type": "stream",
     "text": [
      "100%|██████████| 2276/2276 [09:17<00:00,  4.08it/s]  \n"
     ]
    },
    {
     "name": "stdout",
     "output_type": "stream",
     "text": [
      "Epoch [5/200], Train Loss: 0.5112, Val Loss: 0.4873\n"
     ]
    },
    {
     "name": "stderr",
     "output_type": "stream",
     "text": [
      "100%|██████████| 2276/2276 [08:31<00:00,  4.45it/s]\n"
     ]
    },
    {
     "name": "stdout",
     "output_type": "stream",
     "text": [
      "Epoch [6/200], Train Loss: 0.4905, Val Loss: 0.4548\n"
     ]
    },
    {
     "name": "stderr",
     "output_type": "stream",
     "text": [
      "100%|██████████| 2276/2276 [08:27<00:00,  4.48it/s]\n"
     ]
    },
    {
     "name": "stdout",
     "output_type": "stream",
     "text": [
      "Epoch [7/200], Train Loss: 0.4795, Val Loss: 0.5307\n"
     ]
    },
    {
     "name": "stderr",
     "output_type": "stream",
     "text": [
      "100%|██████████| 2276/2276 [08:37<00:00,  4.40it/s]\n"
     ]
    },
    {
     "name": "stdout",
     "output_type": "stream",
     "text": [
      "Epoch [8/200], Train Loss: 0.4678, Val Loss: 0.5303\n"
     ]
    },
    {
     "name": "stderr",
     "output_type": "stream",
     "text": [
      "100%|██████████| 2276/2276 [08:32<00:00,  4.45it/s]\n"
     ]
    },
    {
     "name": "stdout",
     "output_type": "stream",
     "text": [
      "Epoch [9/200], Train Loss: 0.4603, Val Loss: 0.4747\n"
     ]
    },
    {
     "name": "stderr",
     "output_type": "stream",
     "text": [
      "100%|██████████| 2276/2276 [08:41<00:00,  4.37it/s]  \n"
     ]
    },
    {
     "name": "stdout",
     "output_type": "stream",
     "text": [
      "Epoch [10/200], Train Loss: 0.4555, Val Loss: 0.4560\n"
     ]
    },
    {
     "name": "stderr",
     "output_type": "stream",
     "text": [
      "100%|██████████| 2276/2276 [08:27<00:00,  4.48it/s]\n"
     ]
    },
    {
     "name": "stdout",
     "output_type": "stream",
     "text": [
      "Epoch [11/200], Train Loss: 0.4492, Val Loss: 0.4372\n"
     ]
    },
    {
     "name": "stderr",
     "output_type": "stream",
     "text": [
      "100%|██████████| 2276/2276 [08:31<00:00,  4.45it/s]\n"
     ]
    },
    {
     "name": "stdout",
     "output_type": "stream",
     "text": [
      "Epoch [12/200], Train Loss: 0.4450, Val Loss: 0.4842\n"
     ]
    },
    {
     "name": "stderr",
     "output_type": "stream",
     "text": [
      "100%|██████████| 2276/2276 [08:27<00:00,  4.49it/s]\n"
     ]
    },
    {
     "name": "stdout",
     "output_type": "stream",
     "text": [
      "Epoch [13/200], Train Loss: 0.4411, Val Loss: 0.4402\n"
     ]
    },
    {
     "name": "stderr",
     "output_type": "stream",
     "text": [
      "100%|██████████| 2276/2276 [08:23<00:00,  4.52it/s]\n"
     ]
    },
    {
     "name": "stdout",
     "output_type": "stream",
     "text": [
      "Epoch [14/200], Train Loss: 0.4396, Val Loss: 0.4161\n"
     ]
    },
    {
     "name": "stderr",
     "output_type": "stream",
     "text": [
      "100%|██████████| 2276/2276 [08:25<00:00,  4.51it/s]\n"
     ]
    },
    {
     "name": "stdout",
     "output_type": "stream",
     "text": [
      "Epoch [15/200], Train Loss: 0.4370, Val Loss: 0.4180\n"
     ]
    },
    {
     "name": "stderr",
     "output_type": "stream",
     "text": [
      "100%|██████████| 2276/2276 [08:30<00:00,  4.45it/s]\n"
     ]
    }
   ],
   "source": [
    "train_model(model, train_dl, val_dl, num_epochs=200, patience=10)"
   ]
  },
  {
   "cell_type": "code",
   "execution_count": null,
   "metadata": {},
   "outputs": [],
   "source": [
    "# checkpoint model to disk\n",
    "#checkpoint = {\n",
    "#    \"model_state_dict\": model.state_dict()\n",
    "#}\n",
    "#torch.save(checkpoint, \"initial_model_full_train.pth\")"
   ]
  },
  {
   "cell_type": "code",
   "execution_count": null,
   "metadata": {},
   "outputs": [],
   "source": [
    "#state_dict = torch.load('best_model.pth', map_location=torch.device('cpu'))\n",
    "#model.load_state_dict(state_dict)"
   ]
  },
  {
   "cell_type": "code",
   "execution_count": null,
   "metadata": {},
   "outputs": [],
   "source": [
    "model = model.to('cpu')"
   ]
  },
  {
   "cell_type": "code",
   "execution_count": null,
   "metadata": {},
   "outputs": [
    {
     "name": "stderr",
     "output_type": "stream",
     "text": [
      " 52%|█████▏    | 393489/753472 [22:44<20:48, 288.36it/s]  \n"
     ]
    },
    {
     "ename": "KeyboardInterrupt",
     "evalue": "",
     "output_type": "error",
     "traceback": [
      "\u001b[0;31m---------------------------------------------------------------------------\u001b[0m",
      "\u001b[0;31mKeyboardInterrupt\u001b[0m                         Traceback (most recent call last)",
      "Cell \u001b[0;32mIn[37], line 6\u001b[0m\n\u001b[1;32m      3\u001b[0m \u001b[39mfor\u001b[39;00m f, d, l \u001b[39min\u001b[39;00m tqdm\u001b[39m.\u001b[39mtqdm(test_dataset):\n\u001b[1;32m      4\u001b[0m     \u001b[39m# drug \u001b[39;00m\n\u001b[1;32m      5\u001b[0m     drug_name \u001b[39m=\u001b[39m train_dataset\u001b[39m.\u001b[39mdrug_name_encoder\u001b[39m.\u001b[39minverse_transform([d\u001b[39m.\u001b[39mdetach()\u001b[39m.\u001b[39mnumpy()])\n\u001b[0;32m----> 6\u001b[0m     p \u001b[39m=\u001b[39m model(f\u001b[39m.\u001b[39;49munsqueeze(\u001b[39m0\u001b[39;49m), d\u001b[39m.\u001b[39;49munsqueeze(\u001b[39m0\u001b[39;49m))\n\u001b[1;32m      7\u001b[0m     out\u001b[39m.\u001b[39mappend({\u001b[39m\"\u001b[39m\u001b[39mdrug_name\u001b[39m\u001b[39m\"\u001b[39m: drug_name, \u001b[39m\"\u001b[39m\u001b[39mtrue\u001b[39m\u001b[39m\"\u001b[39m: l\u001b[39m.\u001b[39mdetach()\u001b[39m.\u001b[39mnumpy(), \u001b[39m\"\u001b[39m\u001b[39mpred\u001b[39m\u001b[39m\"\u001b[39m: p\u001b[39m.\u001b[39mdetach()\u001b[39m.\u001b[39mnumpy()})\n",
      "File \u001b[0;32m/home/groups/corsello/nphill22/tools/miniconda3/envs/lab/lib/python3.9/site-packages/torch/nn/modules/module.py:1511\u001b[0m, in \u001b[0;36mModule._wrapped_call_impl\u001b[0;34m(self, *args, **kwargs)\u001b[0m\n\u001b[1;32m   1509\u001b[0m     \u001b[39mreturn\u001b[39;00m \u001b[39mself\u001b[39m\u001b[39m.\u001b[39m_compiled_call_impl(\u001b[39m*\u001b[39margs, \u001b[39m*\u001b[39m\u001b[39m*\u001b[39mkwargs)  \u001b[39m# type: ignore[misc]\u001b[39;00m\n\u001b[1;32m   1510\u001b[0m \u001b[39melse\u001b[39;00m:\n\u001b[0;32m-> 1511\u001b[0m     \u001b[39mreturn\u001b[39;00m \u001b[39mself\u001b[39;49m\u001b[39m.\u001b[39;49m_call_impl(\u001b[39m*\u001b[39;49margs, \u001b[39m*\u001b[39;49m\u001b[39m*\u001b[39;49mkwargs)\n",
      "File \u001b[0;32m/home/groups/corsello/nphill22/tools/miniconda3/envs/lab/lib/python3.9/site-packages/torch/nn/modules/module.py:1520\u001b[0m, in \u001b[0;36mModule._call_impl\u001b[0;34m(self, *args, **kwargs)\u001b[0m\n\u001b[1;32m   1515\u001b[0m \u001b[39m# If we don't have any hooks, we want to skip the rest of the logic in\u001b[39;00m\n\u001b[1;32m   1516\u001b[0m \u001b[39m# this function, and just call forward.\u001b[39;00m\n\u001b[1;32m   1517\u001b[0m \u001b[39mif\u001b[39;00m \u001b[39mnot\u001b[39;00m (\u001b[39mself\u001b[39m\u001b[39m.\u001b[39m_backward_hooks \u001b[39mor\u001b[39;00m \u001b[39mself\u001b[39m\u001b[39m.\u001b[39m_backward_pre_hooks \u001b[39mor\u001b[39;00m \u001b[39mself\u001b[39m\u001b[39m.\u001b[39m_forward_hooks \u001b[39mor\u001b[39;00m \u001b[39mself\u001b[39m\u001b[39m.\u001b[39m_forward_pre_hooks\n\u001b[1;32m   1518\u001b[0m         \u001b[39mor\u001b[39;00m _global_backward_pre_hooks \u001b[39mor\u001b[39;00m _global_backward_hooks\n\u001b[1;32m   1519\u001b[0m         \u001b[39mor\u001b[39;00m _global_forward_hooks \u001b[39mor\u001b[39;00m _global_forward_pre_hooks):\n\u001b[0;32m-> 1520\u001b[0m     \u001b[39mreturn\u001b[39;00m forward_call(\u001b[39m*\u001b[39;49margs, \u001b[39m*\u001b[39;49m\u001b[39m*\u001b[39;49mkwargs)\n\u001b[1;32m   1522\u001b[0m \u001b[39mtry\u001b[39;00m:\n\u001b[1;32m   1523\u001b[0m     result \u001b[39m=\u001b[39m \u001b[39mNone\u001b[39;00m\n",
      "Cell \u001b[0;32mIn[16], line 25\u001b[0m, in \u001b[0;36mget_model.<locals>.FeedforwardNeuralNetwork.forward\u001b[0;34m(self, x, pert_name)\u001b[0m\n\u001b[1;32m     23\u001b[0m x \u001b[39m=\u001b[39m torch\u001b[39m.\u001b[39mcat([x, pert_embedding], dim\u001b[39m=\u001b[39m\u001b[39m1\u001b[39m)\n\u001b[1;32m     24\u001b[0m \u001b[39m# Activation functions for the hidden layers\u001b[39;00m\n\u001b[0;32m---> 25\u001b[0m x \u001b[39m=\u001b[39m F\u001b[39m.\u001b[39mrelu(\u001b[39mself\u001b[39;49m\u001b[39m.\u001b[39;49mfc1(x))  \u001b[39m# Activation function for first layer\u001b[39;00m\n\u001b[1;32m     26\u001b[0m x \u001b[39m=\u001b[39m F\u001b[39m.\u001b[39mrelu(\u001b[39mself\u001b[39m\u001b[39m.\u001b[39mfc2(x))  \u001b[39m# Activation function for second layer\u001b[39;00m\n\u001b[1;32m     27\u001b[0m x \u001b[39m=\u001b[39m F\u001b[39m.\u001b[39mrelu(\u001b[39mself\u001b[39m\u001b[39m.\u001b[39mfc3(x))  \u001b[39m# Activation function for third layer\u001b[39;00m\n",
      "File \u001b[0;32m/home/groups/corsello/nphill22/tools/miniconda3/envs/lab/lib/python3.9/site-packages/torch/nn/modules/module.py:1511\u001b[0m, in \u001b[0;36mModule._wrapped_call_impl\u001b[0;34m(self, *args, **kwargs)\u001b[0m\n\u001b[1;32m   1509\u001b[0m     \u001b[39mreturn\u001b[39;00m \u001b[39mself\u001b[39m\u001b[39m.\u001b[39m_compiled_call_impl(\u001b[39m*\u001b[39margs, \u001b[39m*\u001b[39m\u001b[39m*\u001b[39mkwargs)  \u001b[39m# type: ignore[misc]\u001b[39;00m\n\u001b[1;32m   1510\u001b[0m \u001b[39melse\u001b[39;00m:\n\u001b[0;32m-> 1511\u001b[0m     \u001b[39mreturn\u001b[39;00m \u001b[39mself\u001b[39;49m\u001b[39m.\u001b[39;49m_call_impl(\u001b[39m*\u001b[39;49margs, \u001b[39m*\u001b[39;49m\u001b[39m*\u001b[39;49mkwargs)\n",
      "File \u001b[0;32m/home/groups/corsello/nphill22/tools/miniconda3/envs/lab/lib/python3.9/site-packages/torch/nn/modules/module.py:1520\u001b[0m, in \u001b[0;36mModule._call_impl\u001b[0;34m(self, *args, **kwargs)\u001b[0m\n\u001b[1;32m   1515\u001b[0m \u001b[39m# If we don't have any hooks, we want to skip the rest of the logic in\u001b[39;00m\n\u001b[1;32m   1516\u001b[0m \u001b[39m# this function, and just call forward.\u001b[39;00m\n\u001b[1;32m   1517\u001b[0m \u001b[39mif\u001b[39;00m \u001b[39mnot\u001b[39;00m (\u001b[39mself\u001b[39m\u001b[39m.\u001b[39m_backward_hooks \u001b[39mor\u001b[39;00m \u001b[39mself\u001b[39m\u001b[39m.\u001b[39m_backward_pre_hooks \u001b[39mor\u001b[39;00m \u001b[39mself\u001b[39m\u001b[39m.\u001b[39m_forward_hooks \u001b[39mor\u001b[39;00m \u001b[39mself\u001b[39m\u001b[39m.\u001b[39m_forward_pre_hooks\n\u001b[1;32m   1518\u001b[0m         \u001b[39mor\u001b[39;00m _global_backward_pre_hooks \u001b[39mor\u001b[39;00m _global_backward_hooks\n\u001b[1;32m   1519\u001b[0m         \u001b[39mor\u001b[39;00m _global_forward_hooks \u001b[39mor\u001b[39;00m _global_forward_pre_hooks):\n\u001b[0;32m-> 1520\u001b[0m     \u001b[39mreturn\u001b[39;00m forward_call(\u001b[39m*\u001b[39;49margs, \u001b[39m*\u001b[39;49m\u001b[39m*\u001b[39;49mkwargs)\n\u001b[1;32m   1522\u001b[0m \u001b[39mtry\u001b[39;00m:\n\u001b[1;32m   1523\u001b[0m     result \u001b[39m=\u001b[39m \u001b[39mNone\u001b[39;00m\n",
      "File \u001b[0;32m/home/groups/corsello/nphill22/tools/miniconda3/envs/lab/lib/python3.9/site-packages/torch/nn/modules/linear.py:116\u001b[0m, in \u001b[0;36mLinear.forward\u001b[0;34m(self, input)\u001b[0m\n\u001b[1;32m    115\u001b[0m \u001b[39mdef\u001b[39;00m \u001b[39mforward\u001b[39m(\u001b[39mself\u001b[39m, \u001b[39minput\u001b[39m: Tensor) \u001b[39m-\u001b[39m\u001b[39m>\u001b[39m Tensor:\n\u001b[0;32m--> 116\u001b[0m     \u001b[39mreturn\u001b[39;00m F\u001b[39m.\u001b[39;49mlinear(\u001b[39minput\u001b[39;49m, \u001b[39mself\u001b[39;49m\u001b[39m.\u001b[39;49mweight, \u001b[39mself\u001b[39;49m\u001b[39m.\u001b[39;49mbias)\n",
      "\u001b[0;31mKeyboardInterrupt\u001b[0m: "
     ]
    }
   ],
   "source": [
    "out = []\n",
    "\n",
    "for f, d, l in tqdm.tqdm(test_dataset):\n",
    "    # drug \n",
    "    drug_name = train_dataset.drug_name_encoder.inverse_transform([d.detach().numpy()])\n",
    "    p = model(f.unsqueeze(0), d.unsqueeze(0))\n",
    "    out.append({\"drug_name\": drug_name, \"true\": l.detach().numpy(), \"pred\": p.detach().numpy()})"
   ]
  },
  {
   "cell_type": "code",
   "execution_count": null,
   "metadata": {},
   "outputs": [],
   "source": []
  },
  {
   "cell_type": "code",
   "execution_count": null,
   "metadata": {},
   "outputs": [],
   "source": [
    "train_results_df = pd.DataFrame(out)"
   ]
  },
  {
   "cell_type": "code",
   "execution_count": null,
   "metadata": {},
   "outputs": [],
   "source": [
    "train_results_df.drug_name = [i[0] for i in train_results_df.drug_name.values]"
   ]
  },
  {
   "cell_type": "code",
   "execution_count": null,
   "metadata": {},
   "outputs": [],
   "source": [
    "train_results_df.pred = [i[0][0] for i in train_results_df.pred.values]"
   ]
  },
  {
   "cell_type": "code",
   "execution_count": null,
   "metadata": {},
   "outputs": [],
   "source": [
    "# choose compound amg-232\n",
    "tmp = train_results_df.loc[train_results_df.drug_name == \"amg-232_2.5\", :]"
   ]
  },
  {
   "cell_type": "code",
   "execution_count": null,
   "metadata": {},
   "outputs": [
    {
     "data": {
      "text/plain": [
       "<matplotlib.collections.PathCollection at 0x7ff72e7cc1c0>"
      ]
     },
     "execution_count": 52,
     "metadata": {},
     "output_type": "execute_result"
    },
    {
     "data": {
      "image/png": "[encoded data removed]",
      "text/plain": [
       "<Figure size 640x480 with 1 Axes>"
      ]
     },
     "metadata": {},
     "output_type": "display_data"
    }
   ],
   "source": [
    "plt.scatter(tmp.true, tmp.pred)"
   ]
  },
  {
   "cell_type": "code",
   "execution_count": null,
   "metadata": {},
   "outputs": [],
   "source": []
  },
  {
   "cell_type": "code",
   "execution_count": null,
   "metadata": {},
   "outputs": [],
   "source": []
  },
  {
   "cell_type": "code",
   "execution_count": null,
   "metadata": {},
   "outputs": [],
   "source": [
    "train_results_df.to_csv(\"init_train_results.csv\")"
   ]
  },
  {
   "cell_type": "code",
   "execution_count": null,
   "metadata": {},
   "outputs": [],
   "source": [
    "#train_results_df"
   ]
  },
  {
   "cell_type": "code",
   "execution_count": null,
   "metadata": {},
   "outputs": [],
   "source": [
    "response_train.to_csv(\"response_train.csv\")\n",
    "response_test.to_csv(\"response_test.csv\")"
   ]
  },
  {
   "cell_type": "code",
   "execution_count": null,
   "metadata": {},
   "outputs": [],
   "source": []
  },
  {
   "cell_type": "code",
   "execution_count": null,
   "metadata": {},
   "outputs": [],
   "source": []
  },
  {
   "cell_type": "code",
   "execution_count": null,
   "metadata": {},
   "outputs": [],
   "source": []
  }
 ],
 "metadata": {
  "kernelspec": {
   "display_name": "Python 3",
   "language": "python",
   "name": "python3"
  },
  "language_info": {
   "codemirror_mode": {
    "name": "ipython",
    "version": 3
   },
   "file_extension": ".py",
   "mimetype": "text/x-python",
   "name": "python",
   "nbconvert_exporter": "python",
   "pygments_lexer": "ipython3",
   "version": "3.9.19"
  },
  "orig_nbformat": 4
 },
 "nbformat": 4,
 "nbformat_minor": 2
}
